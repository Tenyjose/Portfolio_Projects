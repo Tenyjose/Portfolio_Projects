{
 "cells": [
  {
   "cell_type": "code",
   "execution_count": 1,
   "id": "e90d9eef",
   "metadata": {},
   "outputs": [],
   "source": [
    "appl_df<-read.csv(\"appl_stock_prices.csv\")\n"
   ]
  },
  {
   "cell_type": "code",
   "execution_count": 2,
   "id": "7aea8dad",
   "metadata": {},
   "outputs": [],
   "source": [
    "# chosign only required cols\n",
    "#appl_df<-appl_df[, c('Open','High','Low','Volume','Moving Average 7','Moving Average 14','Close')]"
   ]
  },
  {
   "cell_type": "code",
   "execution_count": 3,
   "id": "9332dbcf",
   "metadata": {},
   "outputs": [
    {
     "name": "stdout",
     "output_type": "stream",
     "text": [
      "[1] 10853\n"
     ]
    }
   ],
   "source": [
    "print(nrow(appl_df))\n"
   ]
  },
  {
   "cell_type": "code",
   "execution_count": 4,
   "id": "fbe5f096",
   "metadata": {},
   "outputs": [
    {
     "data": {
      "text/html": [
       "<table class=\"dataframe\">\n",
       "<caption>A data.frame: 6 × 8</caption>\n",
       "<thead>\n",
       "\t<tr><th></th><th scope=col>Date</th><th scope=col>Open</th><th scope=col>High</th><th scope=col>Low</th><th scope=col>Close</th><th scope=col>Adj.Close</th><th scope=col>Volume</th><th scope=col>Ticker</th></tr>\n",
       "\t<tr><th></th><th scope=col>&lt;chr&gt;</th><th scope=col>&lt;dbl&gt;</th><th scope=col>&lt;dbl&gt;</th><th scope=col>&lt;dbl&gt;</th><th scope=col>&lt;dbl&gt;</th><th scope=col>&lt;dbl&gt;</th><th scope=col>&lt;dbl&gt;</th><th scope=col>&lt;chr&gt;</th></tr>\n",
       "</thead>\n",
       "<tbody>\n",
       "\t<tr><th scope=row>1</th><td>1980-12-12</td><td>0.128348</td><td>0.128906</td><td>0.128348</td><td>0.128348</td><td>0.09905771</td><td>469033600</td><td>AAPL</td></tr>\n",
       "\t<tr><th scope=row>2</th><td>1980-12-15</td><td>0.122210</td><td>0.122210</td><td>0.121652</td><td>0.121652</td><td>0.09388982</td><td>175884800</td><td>AAPL</td></tr>\n",
       "\t<tr><th scope=row>3</th><td>1980-12-16</td><td>0.113281</td><td>0.113281</td><td>0.112723</td><td>0.112723</td><td>0.08699851</td><td>105728000</td><td>AAPL</td></tr>\n",
       "\t<tr><th scope=row>4</th><td>1980-12-17</td><td>0.115513</td><td>0.116071</td><td>0.115513</td><td>0.115513</td><td>0.08915183</td><td> 86441600</td><td>AAPL</td></tr>\n",
       "\t<tr><th scope=row>5</th><td>1980-12-18</td><td>0.118862</td><td>0.119420</td><td>0.118862</td><td>0.118862</td><td>0.09173656</td><td> 73449600</td><td>AAPL</td></tr>\n",
       "\t<tr><th scope=row>6</th><td>1980-12-19</td><td>0.126116</td><td>0.126674</td><td>0.126116</td><td>0.126116</td><td>0.09733512</td><td> 48630400</td><td>AAPL</td></tr>\n",
       "</tbody>\n",
       "</table>\n"
      ],
      "text/latex": [
       "A data.frame: 6 × 8\n",
       "\\begin{tabular}{r|llllllll}\n",
       "  & Date & Open & High & Low & Close & Adj.Close & Volume & Ticker\\\\\n",
       "  & <chr> & <dbl> & <dbl> & <dbl> & <dbl> & <dbl> & <dbl> & <chr>\\\\\n",
       "\\hline\n",
       "\t1 & 1980-12-12 & 0.128348 & 0.128906 & 0.128348 & 0.128348 & 0.09905771 & 469033600 & AAPL\\\\\n",
       "\t2 & 1980-12-15 & 0.122210 & 0.122210 & 0.121652 & 0.121652 & 0.09388982 & 175884800 & AAPL\\\\\n",
       "\t3 & 1980-12-16 & 0.113281 & 0.113281 & 0.112723 & 0.112723 & 0.08699851 & 105728000 & AAPL\\\\\n",
       "\t4 & 1980-12-17 & 0.115513 & 0.116071 & 0.115513 & 0.115513 & 0.08915183 &  86441600 & AAPL\\\\\n",
       "\t5 & 1980-12-18 & 0.118862 & 0.119420 & 0.118862 & 0.118862 & 0.09173656 &  73449600 & AAPL\\\\\n",
       "\t6 & 1980-12-19 & 0.126116 & 0.126674 & 0.126116 & 0.126116 & 0.09733512 &  48630400 & AAPL\\\\\n",
       "\\end{tabular}\n"
      ],
      "text/markdown": [
       "\n",
       "A data.frame: 6 × 8\n",
       "\n",
       "| <!--/--> | Date &lt;chr&gt; | Open &lt;dbl&gt; | High &lt;dbl&gt; | Low &lt;dbl&gt; | Close &lt;dbl&gt; | Adj.Close &lt;dbl&gt; | Volume &lt;dbl&gt; | Ticker &lt;chr&gt; |\n",
       "|---|---|---|---|---|---|---|---|---|\n",
       "| 1 | 1980-12-12 | 0.128348 | 0.128906 | 0.128348 | 0.128348 | 0.09905771 | 469033600 | AAPL |\n",
       "| 2 | 1980-12-15 | 0.122210 | 0.122210 | 0.121652 | 0.121652 | 0.09388982 | 175884800 | AAPL |\n",
       "| 3 | 1980-12-16 | 0.113281 | 0.113281 | 0.112723 | 0.112723 | 0.08699851 | 105728000 | AAPL |\n",
       "| 4 | 1980-12-17 | 0.115513 | 0.116071 | 0.115513 | 0.115513 | 0.08915183 |  86441600 | AAPL |\n",
       "| 5 | 1980-12-18 | 0.118862 | 0.119420 | 0.118862 | 0.118862 | 0.09173656 |  73449600 | AAPL |\n",
       "| 6 | 1980-12-19 | 0.126116 | 0.126674 | 0.126116 | 0.126116 | 0.09733512 |  48630400 | AAPL |\n",
       "\n"
      ],
      "text/plain": [
       "  Date       Open     High     Low      Close    Adj.Close  Volume    Ticker\n",
       "1 1980-12-12 0.128348 0.128906 0.128348 0.128348 0.09905771 469033600 AAPL  \n",
       "2 1980-12-15 0.122210 0.122210 0.121652 0.121652 0.09388982 175884800 AAPL  \n",
       "3 1980-12-16 0.113281 0.113281 0.112723 0.112723 0.08699851 105728000 AAPL  \n",
       "4 1980-12-17 0.115513 0.116071 0.115513 0.115513 0.08915183  86441600 AAPL  \n",
       "5 1980-12-18 0.118862 0.119420 0.118862 0.118862 0.09173656  73449600 AAPL  \n",
       "6 1980-12-19 0.126116 0.126674 0.126116 0.126116 0.09733512  48630400 AAPL  "
      ]
     },
     "metadata": {},
     "output_type": "display_data"
    }
   ],
   "source": [
    "head(appl_df)"
   ]
  },
  {
   "cell_type": "code",
   "execution_count": 5,
   "id": "04464824",
   "metadata": {},
   "outputs": [
    {
     "data": {
      "text/plain": [
       "     Date                Open                High                Low           \n",
       " Length:10853       Min.   :  0.04967   Min.   :  0.04967   Min.   :  0.04911  \n",
       " Class :character   1st Qu.:  0.29464   1st Qu.:  0.30134   1st Qu.:  0.28795  \n",
       " Mode  :character   Median :  0.50893   Median :  0.51786   Median :  0.50223  \n",
       "                    Mean   : 20.05803   Mean   : 20.27764   Mean   : 19.84689  \n",
       "                    3rd Qu.: 18.89571   3rd Qu.: 19.04393   3rd Qu.: 18.71286  \n",
       "                    Max.   :198.02000   Max.   :199.62000   Max.   :197.00000  \n",
       "     Close             Adj.Close            Volume             Ticker         \n",
       " Min.   :  0.04911   Min.   :  0.0379   Min.   :0.000e+00   Length:10853      \n",
       " 1st Qu.:  0.29464   1st Qu.:  0.2407   1st Qu.:1.161e+08   Class :character  \n",
       " Median :  0.51116   Median :  0.4172   Median :2.090e+08   Mode  :character  \n",
       " Mean   : 20.07153   Mean   : 19.2702   Mean   :3.215e+08                     \n",
       " 3rd Qu.: 18.92429   3rd Qu.: 16.4401   3rd Qu.:4.015e+08                     \n",
       " Max.   :198.11000   Max.   :197.5895   Max.   :7.422e+09                     "
      ]
     },
     "metadata": {},
     "output_type": "display_data"
    }
   ],
   "source": [
    "summary(appl_df)"
   ]
  },
  {
   "cell_type": "code",
   "execution_count": 6,
   "id": "d74c9ef6",
   "metadata": {},
   "outputs": [
    {
     "name": "stdout",
     "output_type": "stream",
     "text": [
      "'data.frame':\t10853 obs. of  8 variables:\n",
      " $ Date     : chr  \"1980-12-12\" \"1980-12-15\" \"1980-12-16\" \"1980-12-17\" ...\n",
      " $ Open     : num  0.128 0.122 0.113 0.116 0.119 ...\n",
      " $ High     : num  0.129 0.122 0.113 0.116 0.119 ...\n",
      " $ Low      : num  0.128 0.122 0.113 0.116 0.119 ...\n",
      " $ Close    : num  0.128 0.122 0.113 0.116 0.119 ...\n",
      " $ Adj.Close: num  0.0991 0.0939 0.087 0.0892 0.0917 ...\n",
      " $ Volume   : num  4.69e+08 1.76e+08 1.06e+08 8.64e+07 7.34e+07 ...\n",
      " $ Ticker   : chr  \"AAPL\" \"AAPL\" \"AAPL\" \"AAPL\" ...\n"
     ]
    }
   ],
   "source": [
    "str(appl_df)"
   ]
  },
  {
   "cell_type": "code",
   "execution_count": 7,
   "id": "f2563ead",
   "metadata": {},
   "outputs": [],
   "source": [
    "# data cleaning"
   ]
  },
  {
   "cell_type": "code",
   "execution_count": 8,
   "id": "e7765fd2",
   "metadata": {},
   "outputs": [],
   "source": [
    "appl_df$Date <- as.Date(appl_df$Date)"
   ]
  },
  {
   "cell_type": "code",
   "execution_count": 9,
   "id": "753675aa",
   "metadata": {},
   "outputs": [],
   "source": [
    "# Remove ticker column\n",
    "appl_df$Ticker <- NULL"
   ]
  },
  {
   "cell_type": "code",
   "execution_count": 10,
   "id": "ca46dfa8",
   "metadata": {},
   "outputs": [],
   "source": [
    "# removing Adj Close column\n",
    "appl_df$Adj.Close <- NULL"
   ]
  },
  {
   "cell_type": "code",
   "execution_count": 11,
   "id": "33f044d6",
   "metadata": {},
   "outputs": [
    {
     "name": "stdout",
     "output_type": "stream",
     "text": [
      "[1] \"Number of dupliate rows is : 0\"\n"
     ]
    }
   ],
   "source": [
    "# checking duplicates\n",
    "dup_rows <- duplicated(appl_df)\n",
    "num_dup_rows <- sum(dup_rows)\n",
    "print(paste(\"Number of dupliate rows is :\", num_dup_rows))\n"
   ]
  },
  {
   "cell_type": "code",
   "execution_count": 12,
   "id": "813732c5",
   "metadata": {},
   "outputs": [
    {
     "name": "stdout",
     "output_type": "stream",
     "text": [
      "[1] \"Missing values in each column: \"\n",
      "  Date   Open   High    Low  Close Volume \n",
      "     0      0      0      0      0      0 \n"
     ]
    }
   ],
   "source": [
    "# missing values\n",
    "missing_values <- colSums(is.na(appl_df))\n",
    "print(\"Missing values in each column: \")\n",
    "print(missing_values)\n"
   ]
  },
  {
   "cell_type": "code",
   "execution_count": 13,
   "id": "5ad818af",
   "metadata": {},
   "outputs": [
    {
     "name": "stdout",
     "output_type": "stream",
     "text": [
      "Number of independent variables: 5 \n",
      "Number of dependent variables: 1 \n"
     ]
    }
   ],
   "source": [
    "num_cols <-ncol(appl_df)\n",
    "num_dep_var<-1\n",
    "num_indep_var<- num_cols - num_dep_var\n",
    "cat(\"Number of independent variables:\", num_indep_var, \"\\n\")\n",
    "cat(\"Number of dependent variables:\", num_dep_var, \"\\n\")\n"
   ]
  },
  {
   "cell_type": "code",
   "execution_count": 14,
   "id": "e6161800",
   "metadata": {},
   "outputs": [
    {
     "name": "stderr",
     "output_type": "stream",
     "text": [
      "Installing package into 'C:/Users/tenyj/AppData/Local/R/win-library/4.3'\n",
      "(as 'lib' is unspecified)\n",
      "\n"
     ]
    },
    {
     "name": "stdout",
     "output_type": "stream",
     "text": [
      "package 'zoo' successfully unpacked and MD5 sums checked\n",
      "\n",
      "The downloaded binary packages are in\n",
      "\tC:\\Users\\tenyj\\AppData\\Local\\Temp\\RtmpIxgUjl\\downloaded_packages\n"
     ]
    },
    {
     "name": "stderr",
     "output_type": "stream",
     "text": [
      "Warning message:\n",
      "\"package 'zoo' was built under R version 4.3.3\"\n",
      "\n",
      "Attaching package: 'zoo'\n",
      "\n",
      "\n",
      "The following objects are masked from 'package:base':\n",
      "\n",
      "    as.Date, as.Date.numeric\n",
      "\n",
      "\n"
     ]
    },
    {
     "name": "stdout",
     "output_type": "stream",
     "text": [
      "         Date     Open     High      Low    Close   Volume Moving.Average.7\n",
      "14 1981-01-02 0.154018 0.155134 0.154018 0.154018 21660800        0.1521843\n",
      "15 1981-01-05 0.151228 0.151228 0.150670 0.150670 35728000        0.1540179\n",
      "16 1981-01-06 0.144531 0.144531 0.143973 0.143973 45158400        0.1538584\n",
      "17 1981-01-07 0.138393 0.138393 0.137835 0.137835 55686400        0.1509089\n",
      "18 1981-01-08 0.135603 0.135603 0.135045 0.135045 39827200        0.1472419\n",
      "19 1981-01-09 0.142299 0.142857 0.142299 0.142299 21504000        0.1451691\n",
      "   Moving.Average.14\n",
      "14         0.1371970\n",
      "15         0.1387914\n",
      "16         0.1403858\n",
      "17         0.1421795\n",
      "18         0.1435746\n",
      "19         0.1452487\n"
     ]
    }
   ],
   "source": [
    "install.packages(\"zoo\")\n",
    "library(zoo)\n",
    "\n",
    "days_7 <-7\n",
    "days_14 <-14\n",
    "\n",
    "appl_df$Moving.Average.7<- rollmean(appl_df$Close,days_7,fill = NA,align = 'right')\n",
    "appl_df$Moving.Average.14<-rollmean(appl_df$Close,days_14,fill = NA,align = 'right')\n",
    "\n",
    "appl_df <- na.omit(appl_df)\n",
    "print(head(appl_df))\n"
   ]
  },
  {
   "cell_type": "code",
   "execution_count": 15,
   "id": "a0bc1f48",
   "metadata": {},
   "outputs": [],
   "source": [
    "# preprocesed file\n",
    "write.csv(appl_df, 'R_preprocessed_appl_stock_prices.csv', row.names = TRUE)\n"
   ]
  },
  {
   "cell_type": "code",
   "execution_count": 16,
   "id": "725792fe",
   "metadata": {},
   "outputs": [
    {
     "name": "stdout",
     "output_type": "stream",
     "text": [
      "[1] \"Date\"              \"Open\"              \"High\"             \n",
      "[4] \"Low\"               \"Close\"             \"Volume\"           \n",
      "[7] \"Moving.Average.7\"  \"Moving.Average.14\"\n"
     ]
    }
   ],
   "source": [
    "# renaming\n",
    "colnames(appl_df) <- gsub(\" \", \"_\", colnames(appl_df))\n",
    "print(colnames(appl_df))\n"
   ]
  },
  {
   "cell_type": "code",
   "execution_count": 17,
   "id": "226d1a82",
   "metadata": {},
   "outputs": [],
   "source": [
    "set.seed(42)\n",
    "\n",
    "total_rows <- nrow(appl_df)\n",
    "train_size <- floor(0.7 * total_rows)\n",
    "\n",
    "train_indices <- sample(seq_len(total_rows), size = train_size)\n",
    "train_data <-appl_df[train_indices, ]\n",
    "test_data <-appl_df[-train_indices, ]"
   ]
  },
  {
   "cell_type": "code",
   "execution_count": 18,
   "id": "9db3933c",
   "metadata": {},
   "outputs": [
    {
     "name": "stderr",
     "output_type": "stream",
     "text": [
      "Warning message:\n",
      "\"package 'randomForest' was built under R version 4.3.3\"\n",
      "randomForest 4.7-1.1\n",
      "\n",
      "Type rfNews() to see new features/changes/bug fixes.\n",
      "\n"
     ]
    }
   ],
   "source": [
    "library(randomForest)\n",
    "\n",
    "rf_model <-randomForest(Close ~ .,data =train_data,ntree = 100)\n",
    "\n"
   ]
  },
  {
   "cell_type": "code",
   "execution_count": 19,
   "id": "6a04f89f",
   "metadata": {},
   "outputs": [
    {
     "name": "stdout",
     "output_type": "stream",
     "text": [
      "[1] \"MSE for Random forest regression: 0.238908226695356\"\n"
     ]
    }
   ],
   "source": [
    "# predictions\n",
    "predictions_rf <- predict(rf_model, test_data)\n",
    "mse_rf <- mean((predictions_rf - test_data$Close)^2)\n",
    "print(paste(\"MSE for Random forest regression:\", mse_rf))"
   ]
  },
  {
   "cell_type": "code",
   "execution_count": 20,
   "id": "7b6baa28",
   "metadata": {},
   "outputs": [
    {
     "name": "stdout",
     "output_type": "stream",
     "text": [
      "[1] \"R-squaed for random Forest regression: 0.99986904224672\"\n"
     ]
    }
   ],
   "source": [
    "ss_res <- sum((predictions_rf - test_data$Close)^2)\n",
    "\n",
    "ss_tot <- sum((test_data$Close - mean(test_data$Close))^2)\n",
    "\n",
    "r_squared_rf <- 1 - (ss_res / ss_tot)\n",
    "print(paste(\"R-squaed for random Forest regression:\", r_squared_rf))\n"
   ]
  },
  {
   "cell_type": "code",
   "execution_count": 21,
   "id": "074a1442",
   "metadata": {},
   "outputs": [
    {
     "name": "stderr",
     "output_type": "stream",
     "text": [
      "Warning message:\n",
      "\"package 'Metrics' was built under R version 4.3.3\"\n"
     ]
    },
    {
     "name": "stdout",
     "output_type": "stream",
     "text": [
      "[1] \"Root Mean Squared Error (RMSE): 0.488782391965337\"\n",
      "[1] \"Mean Absolute Error (MAE): 0.156077201463212\"\n"
     ]
    }
   ],
   "source": [
    "library(Metrics)\n",
    "\n",
    "#  RMSE\n",
    "rmse_rf <- sqrt(mse_rf)\n",
    "#  MAE\n",
    "mae_rf <- mae(test_data$Close,predictions_rf)\n",
    "\n",
    "print(paste(\"Root Mean Squared Error (RMSE):\", rmse_rf))\n",
    "print(paste(\"Mean Absolute Error (MAE):\", mae_rf))\n"
   ]
  },
  {
   "cell_type": "code",
   "execution_count": 22,
   "id": "9cbfe920",
   "metadata": {},
   "outputs": [
    {
     "name": "stderr",
     "output_type": "stream",
     "text": [
      "Installing package into 'C:/Users/tenyj/AppData/Local/R/win-library/4.3'\n",
      "(as 'lib' is unspecified)\n",
      "\n"
     ]
    },
    {
     "name": "stdout",
     "output_type": "stream",
     "text": [
      "package 'ggplot2' successfully unpacked and MD5 sums checked\n",
      "\n",
      "The downloaded binary packages are in\n",
      "\tC:\\Users\\tenyj\\AppData\\Local\\Temp\\RtmpIxgUjl\\downloaded_packages\n"
     ]
    }
   ],
   "source": [
    "install.packages(\"ggplot2\", dependencies = TRUE)"
   ]
  },
  {
   "cell_type": "code",
   "execution_count": 23,
   "id": "47da473e",
   "metadata": {},
   "outputs": [
    {
     "name": "stderr",
     "output_type": "stream",
     "text": [
      "Warning message:\n",
      "\"package 'ggplot2' was built under R version 4.3.3\"\n",
      "\n",
      "Attaching package: 'ggplot2'\n",
      "\n",
      "\n",
      "The following object is masked from 'package:randomForest':\n",
      "\n",
      "    margin\n",
      "\n",
      "\n"
     ]
    }
   ],
   "source": [
    "library(ggplot2)\n",
    "results_rf <- data.frame(Actual = test_data$Close, Predicted = predictions_rf)\n"
   ]
  },
  {
   "cell_type": "code",
   "execution_count": 24,
   "id": "fab8c4b3",
   "metadata": {},
   "outputs": [
    {
     "name": "stderr",
     "output_type": "stream",
     "text": [
      "\u001b[1m\u001b[22m`geom_smooth()` using formula = 'y ~ x'\n"
     ]
    },
    {
     "data": {
      "image/png": "[encoded data removed]",
      "text/plain": [
       "plot without title"
      ]
     },
     "metadata": {
      "image/png": {
       "height": 420,
       "width": 420
      }
     },
     "output_type": "display_data"
    }
   ],
   "source": [
    "# actual vs Predicted\n",
    "plot_rf <- ggplot(results_rf, aes(x = Actual, y = Predicted)) +\n",
    "  geom_point(color = 'blue', alpha = 0.5) +  # Add points\n",
    "  geom_smooth(method = \"lm\", se = FALSE, color = \"red\") +  # Add a linear regression line without standard error\n",
    "  geom_abline(intercept = 0, slope = 1, linetype = \"dashed\", color = \"darkgreen\") +  # Add a 1:1 line\n",
    "  labs(title = \"Actual vs Predicted Values for Random Forest Regression\",\n",
    "       x = \"Actual Close Prices\",\n",
    "       y = \"Predicted Close Prices\") +\n",
    "  theme_minimal()\n",
    "\n",
    "print(plot_rf)\n"
   ]
  }
 ],
 "metadata": {
  "kernelspec": {
   "display_name": "R",
   "language": "R",
   "name": "ir"
  },
  "language_info": {
   "codemirror_mode": "r",
   "file_extension": ".r",
   "mimetype": "text/x-r-source",
   "name": "R",
   "pygments_lexer": "r",
   "version": "4.3.2"
  }
 },
 "nbformat": 4,
 "nbformat_minor": 5
}
