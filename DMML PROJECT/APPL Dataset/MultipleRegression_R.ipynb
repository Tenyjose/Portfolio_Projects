{
 "cells": [
  {
   "cell_type": "code",
   "execution_count": 1,
   "id": "d4aaa9de",
   "metadata": {},
   "outputs": [],
   "source": [
    "\n",
    "appl_df<-read.csv(\"R_preprocessed_appl_stock_prices.csv\")"
   ]
  },
  {
   "cell_type": "code",
   "execution_count": 2,
   "id": "6307d401",
   "metadata": {},
   "outputs": [],
   "source": [
    "appl_df <- appl_df[, c('Open','High','Low','Volume','Moving.Average.7','Moving.Average.14','Close')]"
   ]
  },
  {
   "cell_type": "code",
   "execution_count": 3,
   "id": "0ef921d7",
   "metadata": {},
   "outputs": [
    {
     "data": {
      "text/plain": [
       "      Open                High                Low           \n",
       " Min.   :  0.04967   Min.   :  0.04967   Min.   :  0.04911  \n",
       " 1st Qu.:  0.29576   1st Qu.:  0.30246   1st Qu.:  0.28795  \n",
       " Median :  0.51116   Median :  0.52009   Median :  0.50310  \n",
       " Mean   : 20.08192   Mean   : 20.30179   Mean   : 19.87053  \n",
       " 3rd Qu.: 18.92482   3rd Qu.: 19.06116   3rd Qu.: 18.73277  \n",
       " Max.   :198.02000   Max.   :199.62000   Max.   :197.00000  \n",
       "     Volume          Moving.Average.7   Moving.Average.14       Close          \n",
       " Min.   :0.000e+00   Min.   :  0.0519   Min.   :  0.05457   Min.   :  0.04911  \n",
       " 1st Qu.:1.163e+08   1st Qu.:  0.2966   1st Qu.:  0.29642   1st Qu.:  0.29618  \n",
       " Median :2.092e+08   Median :  0.5108   Median :  0.51076   Median :  0.51172  \n",
       " Mean   :3.217e+08   Mean   : 20.0420   Mean   : 19.97902   Mean   : 20.09544  \n",
       " 3rd Qu.:4.017e+08   3rd Qu.: 18.9275   3rd Qu.: 18.90541   3rd Qu.: 18.94054  \n",
       " Max.   :7.422e+09   Max.   :196.5729   Max.   :195.26072   Max.   :198.11000  "
      ]
     },
     "metadata": {},
     "output_type": "display_data"
    }
   ],
   "source": [
    "summary(appl_df)"
   ]
  },
  {
   "cell_type": "code",
   "execution_count": 4,
   "id": "2a805b84",
   "metadata": {},
   "outputs": [
    {
     "name": "stdout",
     "output_type": "stream",
     "text": [
      "'data.frame':\t10840 obs. of  7 variables:\n",
      " $ Open             : num  0.154 0.151 0.145 0.138 0.136 ...\n",
      " $ High             : num  0.155 0.151 0.145 0.138 0.136 ...\n",
      " $ Low              : num  0.154 0.151 0.144 0.138 0.135 ...\n",
      " $ Volume           : num  21660800 35728000 45158400 55686400 39827200 ...\n",
      " $ Moving.Average.7 : num  0.152 0.154 0.154 0.151 0.147 ...\n",
      " $ Moving.Average.14: num  0.137 0.139 0.14 0.142 0.144 ...\n",
      " $ Close            : num  0.154 0.151 0.144 0.138 0.135 ...\n"
     ]
    }
   ],
   "source": [
    "str(appl_df)"
   ]
  },
  {
   "cell_type": "code",
   "execution_count": 5,
   "id": "2e58d4bc",
   "metadata": {},
   "outputs": [],
   "source": [
    "set.seed(42)\n",
    "total_rows <-nrow(appl_df)\n",
    "train_indices<-sample(1:total_rows, size = floor(0.7 * total_rows))\n",
    "train_data<-appl_df[train_indices, ]\n",
    "test_data<-appl_df[-train_indices, ]"
   ]
  },
  {
   "cell_type": "code",
   "execution_count": 6,
   "id": "941cf92a",
   "metadata": {},
   "outputs": [
    {
     "data": {
      "text/plain": [
       "\n",
       "Call:\n",
       "lm(formula = Close ~ ., data = train_data)\n",
       "\n",
       "Residuals:\n",
       "    Min      1Q  Median      3Q     Max \n",
       "-4.0333 -0.0060 -0.0002  0.0041  4.0185 \n",
       "\n",
       "Coefficients:\n",
       "                    Estimate Std. Error t value Pr(>|t|)    \n",
       "(Intercept)       -9.524e-04  5.420e-03  -0.176    0.861    \n",
       "Open              -6.247e-01  9.827e-03 -63.571   <2e-16 ***\n",
       "High               8.111e-01  8.751e-03  92.692   <2e-16 ***\n",
       "Low                8.107e-01  8.251e-03  98.259   <2e-16 ***\n",
       "Volume             6.041e-12  1.057e-11   0.572    0.568    \n",
       "Moving.Average.7   6.547e-03  7.485e-03   0.875    0.382    \n",
       "Moving.Average.14 -3.389e-03  4.616e-03  -0.734    0.463    \n",
       "---\n",
       "Signif. codes:  0 '***' 0.001 '**' 0.01 '*' 0.05 '.' 0.1 ' ' 1\n",
       "\n",
       "Residual standard error: 0.3022 on 7580 degrees of freedom\n",
       "Multiple R-squared:  0.9999,\tAdjusted R-squared:  0.9999 \n",
       "F-statistic: 2.406e+07 on 6 and 7580 DF,  p-value: < 2.2e-16\n"
      ]
     },
     "metadata": {},
     "output_type": "display_data"
    }
   ],
   "source": [
    "lm_model <-lm(Close ~ ., data = train_data)\n",
    "\n",
    "summary(lm_model)\n"
   ]
  },
  {
   "cell_type": "code",
   "execution_count": 7,
   "id": "a1812969",
   "metadata": {},
   "outputs": [
    {
     "name": "stdout",
     "output_type": "stream",
     "text": [
      "[1] \"MSE for multiple Linear regression: 0.0919316717648506\"\n"
     ]
    }
   ],
   "source": [
    "predictions_lm <-predict(lm_model, test_data)\n",
    "\n",
    "# MSE\n",
    "mse_lm <- mean((predictions_lm - test_data$Close)^2)\n",
    "print(paste(\"MSE for multiple Linear regression:\", mse_lm))"
   ]
  },
  {
   "cell_type": "code",
   "execution_count": 8,
   "id": "3547e540",
   "metadata": {},
   "outputs": [
    {
     "name": "stdout",
     "output_type": "stream",
     "text": [
      "[1] \"R-squared for multiple linear regression: 0.999949607573769\"\n"
     ]
    }
   ],
   "source": [
    "#  R-squared of testinf set\n",
    "\n",
    "ss_res <-sum((predictions_lm - test_data$Close)^2)\n",
    "ss_tot <-sum((test_data$Close - mean(test_data$Close))^2)\n",
    "r_squared_lm <- 1 - (ss_res / ss_tot)\n",
    "print(paste(\"R-squared for multiple linear regression:\", r_squared_lm))"
   ]
  },
  {
   "cell_type": "code",
   "execution_count": null,
   "id": "a68726f7",
   "metadata": {},
   "outputs": [],
   "source": []
  },
  {
   "cell_type": "code",
   "execution_count": 9,
   "id": "c9830bb0",
   "metadata": {},
   "outputs": [
    {
     "name": "stderr",
     "output_type": "stream",
     "text": [
      "Warning message:\n",
      "\"package 'Metrics' was built under R version 4.3.3\"\n"
     ]
    },
    {
     "name": "stdout",
     "output_type": "stream",
     "text": [
      "[1] \"Root Mean Squared Error (RMSE): 0.3032023610806\"\n",
      "[1] \"Mean Absolute Error (MAE): 0.0950675664571641\"\n"
     ]
    }
   ],
   "source": [
    "library(Metrics)\n",
    "\n",
    "#  RMSE\n",
    "rmse_lm<- sqrt(mse_lm)\n",
    "#  MAE\n",
    "mae_lm<- mae(test_data$Close,predictions_lm)\n",
    "\n",
    "print(paste(\"Root Mean Squared Error (RMSE):\", rmse_lm))\n",
    "print(paste(\"Mean Absolute Error (MAE):\", mae_lm))"
   ]
  },
  {
   "cell_type": "code",
   "execution_count": null,
   "id": "5059e3a8",
   "metadata": {},
   "outputs": [],
   "source": []
  },
  {
   "cell_type": "code",
   "execution_count": 10,
   "id": "e65f2c29",
   "metadata": {},
   "outputs": [
    {
     "name": "stderr",
     "output_type": "stream",
     "text": [
      "Warning message:\n",
      "\"package 'ggplot2' was built under R version 4.3.3\"\n",
      "\u001b[1m\u001b[22m`geom_smooth()` using formula = 'y ~ x'\n"
     ]
    },
    {
     "data": {
      "image/png": "[encoded data removed]",
      "text/plain": [
       "plot without title"
      ]
     },
     "metadata": {
      "image/png": {
       "height": 420,
       "width": 420
      }
     },
     "output_type": "display_data"
    }
   ],
   "source": [
    "library(ggplot2)\n",
    "results_lm <- data.frame(Actual = test_data$Close, Predicted = predictions_lm)\n",
    "ggplot(results_lm, aes(x = Actual, y = Predicted)) +\n",
    "  geom_point(alpha = 0.5,color = 'blue') +\n",
    "  geom_smooth(method = \"lm\", color = \"red\") +\n",
    "  ggtitle(\"Multiple linear regression: Actual vs Predicted\") +\n",
    "  xlab(\"Actual close prices\") +\n",
    "  ylab(\"Predicted close prices\") +\n",
    "  theme_minimal()\n"
   ]
  }
 ],
 "metadata": {
  "kernelspec": {
   "display_name": "R",
   "language": "R",
   "name": "ir"
  },
  "language_info": {
   "codemirror_mode": "r",
   "file_extension": ".r",
   "mimetype": "text/x-r-source",
   "name": "R",
   "pygments_lexer": "r",
   "version": "4.3.2"
  }
 },
 "nbformat": 4,
 "nbformat_minor": 5
}
