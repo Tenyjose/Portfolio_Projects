{
 "cells": [
  {
   "cell_type": "code",
   "execution_count": 1,
   "id": "bb4644f7",
   "metadata": {},
   "outputs": [
    {
     "name": "stderr",
     "output_type": "stream",
     "text": [
      "Installing package into 'C:/Users/tenyj/AppData/Local/R/win-library/4.3'\n",
      "(as 'lib' is unspecified)\n",
      "\n",
      "Warning message:\n",
      "\"unable to access index for repository https://cran.r-project.org/src/contrib:\n",
      "  cannot open URL 'https://cran.r-project.org/src/contrib/PACKAGES'\"\n",
      "Warning message:\n",
      "\"package 'ggplot2' is not available for this version of R\n",
      "\n",
      "A version of this package for your version of R might be available elsewhere,\n",
      "see the ideas at\n",
      "https://cran.r-project.org/doc/manuals/r-patched/R-admin.html#Installing-packages\"\n",
      "Warning message:\n",
      "\"unable to access index for repository https://cran.r-project.org/bin/windows/contrib/4.3:\n",
      "  cannot open URL 'https://cran.r-project.org/bin/windows/contrib/4.3/PACKAGES'\"\n",
      "Warning message:\n",
      "\"package 'ggplot2' was built under R version 4.3.3\"\n"
     ]
    }
   ],
   "source": [
    "install.packages(\"ggplot2\")\n",
    "\n",
    "library(ggplot2)\n"
   ]
  },
  {
   "cell_type": "code",
   "execution_count": 2,
   "id": "39fc5bfd",
   "metadata": {},
   "outputs": [],
   "source": [
    "mit_df<-read.csv('R_Preprocessed_Metro_Interstate_Traffic_Volume.csv')\n",
    "# i have preprocessed the the Metro_Interstate_Traffic_Volume.csv file in the RandomForest_R File\n"
   ]
  },
  {
   "cell_type": "code",
   "execution_count": 3,
   "id": "daa09258",
   "metadata": {},
   "outputs": [
    {
     "data": {
      "text/html": [
       "<table class=\"dataframe\">\n",
       "<caption>A data.frame: 6 × 61</caption>\n",
       "<thead>\n",
       "\t<tr><th></th><th scope=col>X</th><th scope=col>temp</th><th scope=col>rain_1h</th><th scope=col>snow_1h</th><th scope=col>clouds_all</th><th scope=col>traffic_volume</th><th scope=col>hour</th><th scope=col>day_of_week</th><th scope=col>month</th><th scope=col>temp_rain_interaction</th><th scope=col>⋯</th><th scope=col>weather_description_smoke</th><th scope=col>weather_description_snow</th><th scope=col>weather_description_SQUALLS</th><th scope=col>weather_description_thunderstorm</th><th scope=col>weather_description_thunderstorm.with.drizzle</th><th scope=col>weather_description_thunderstorm.with.heavy.rain</th><th scope=col>weather_description_thunderstorm.with.light.drizzle</th><th scope=col>weather_description_thunderstorm.with.light.rain</th><th scope=col>weather_description_thunderstorm.with.rain</th><th scope=col>weather_description_very.heavy.rain</th></tr>\n",
       "\t<tr><th></th><th scope=col>&lt;int&gt;</th><th scope=col>&lt;int&gt;</th><th scope=col>&lt;int&gt;</th><th scope=col>&lt;int&gt;</th><th scope=col>&lt;int&gt;</th><th scope=col>&lt;int&gt;</th><th scope=col>&lt;int&gt;</th><th scope=col>&lt;int&gt;</th><th scope=col>&lt;int&gt;</th><th scope=col>&lt;int&gt;</th><th scope=col>⋯</th><th scope=col>&lt;int&gt;</th><th scope=col>&lt;int&gt;</th><th scope=col>&lt;int&gt;</th><th scope=col>&lt;int&gt;</th><th scope=col>&lt;int&gt;</th><th scope=col>&lt;int&gt;</th><th scope=col>&lt;int&gt;</th><th scope=col>&lt;int&gt;</th><th scope=col>&lt;int&gt;</th><th scope=col>&lt;int&gt;</th></tr>\n",
       "</thead>\n",
       "<tbody>\n",
       "\t<tr><th scope=row>1</th><td>1</td><td>0</td><td>0</td><td>0</td><td>40</td><td>5545</td><td> 9</td><td>3</td><td>10</td><td>0</td><td>⋯</td><td>0</td><td>0</td><td>0</td><td>0</td><td>0</td><td>0</td><td>0</td><td>0</td><td>0</td><td>0</td></tr>\n",
       "\t<tr><th scope=row>2</th><td>2</td><td>0</td><td>0</td><td>0</td><td>75</td><td>4516</td><td>10</td><td>3</td><td>10</td><td>0</td><td>⋯</td><td>0</td><td>0</td><td>0</td><td>0</td><td>0</td><td>0</td><td>0</td><td>0</td><td>0</td><td>0</td></tr>\n",
       "\t<tr><th scope=row>3</th><td>3</td><td>0</td><td>0</td><td>0</td><td>90</td><td>4767</td><td>11</td><td>3</td><td>10</td><td>0</td><td>⋯</td><td>0</td><td>0</td><td>0</td><td>0</td><td>0</td><td>0</td><td>0</td><td>0</td><td>0</td><td>0</td></tr>\n",
       "\t<tr><th scope=row>4</th><td>4</td><td>0</td><td>0</td><td>0</td><td>90</td><td>5026</td><td>12</td><td>3</td><td>10</td><td>0</td><td>⋯</td><td>0</td><td>0</td><td>0</td><td>0</td><td>0</td><td>0</td><td>0</td><td>0</td><td>0</td><td>0</td></tr>\n",
       "\t<tr><th scope=row>5</th><td>5</td><td>0</td><td>0</td><td>0</td><td>75</td><td>4918</td><td>13</td><td>3</td><td>10</td><td>0</td><td>⋯</td><td>0</td><td>0</td><td>0</td><td>0</td><td>0</td><td>0</td><td>0</td><td>0</td><td>0</td><td>0</td></tr>\n",
       "\t<tr><th scope=row>6</th><td>6</td><td>0</td><td>0</td><td>0</td><td> 1</td><td>5181</td><td>14</td><td>3</td><td>10</td><td>0</td><td>⋯</td><td>0</td><td>0</td><td>0</td><td>0</td><td>0</td><td>0</td><td>0</td><td>0</td><td>0</td><td>0</td></tr>\n",
       "</tbody>\n",
       "</table>\n"
      ],
      "text/latex": [
       "A data.frame: 6 × 61\n",
       "\\begin{tabular}{r|lllllllllllllllllllll}\n",
       "  & X & temp & rain\\_1h & snow\\_1h & clouds\\_all & traffic\\_volume & hour & day\\_of\\_week & month & temp\\_rain\\_interaction & ⋯ & weather\\_description\\_smoke & weather\\_description\\_snow & weather\\_description\\_SQUALLS & weather\\_description\\_thunderstorm & weather\\_description\\_thunderstorm.with.drizzle & weather\\_description\\_thunderstorm.with.heavy.rain & weather\\_description\\_thunderstorm.with.light.drizzle & weather\\_description\\_thunderstorm.with.light.rain & weather\\_description\\_thunderstorm.with.rain & weather\\_description\\_very.heavy.rain\\\\\n",
       "  & <int> & <int> & <int> & <int> & <int> & <int> & <int> & <int> & <int> & <int> & ⋯ & <int> & <int> & <int> & <int> & <int> & <int> & <int> & <int> & <int> & <int>\\\\\n",
       "\\hline\n",
       "\t1 & 1 & 0 & 0 & 0 & 40 & 5545 &  9 & 3 & 10 & 0 & ⋯ & 0 & 0 & 0 & 0 & 0 & 0 & 0 & 0 & 0 & 0\\\\\n",
       "\t2 & 2 & 0 & 0 & 0 & 75 & 4516 & 10 & 3 & 10 & 0 & ⋯ & 0 & 0 & 0 & 0 & 0 & 0 & 0 & 0 & 0 & 0\\\\\n",
       "\t3 & 3 & 0 & 0 & 0 & 90 & 4767 & 11 & 3 & 10 & 0 & ⋯ & 0 & 0 & 0 & 0 & 0 & 0 & 0 & 0 & 0 & 0\\\\\n",
       "\t4 & 4 & 0 & 0 & 0 & 90 & 5026 & 12 & 3 & 10 & 0 & ⋯ & 0 & 0 & 0 & 0 & 0 & 0 & 0 & 0 & 0 & 0\\\\\n",
       "\t5 & 5 & 0 & 0 & 0 & 75 & 4918 & 13 & 3 & 10 & 0 & ⋯ & 0 & 0 & 0 & 0 & 0 & 0 & 0 & 0 & 0 & 0\\\\\n",
       "\t6 & 6 & 0 & 0 & 0 &  1 & 5181 & 14 & 3 & 10 & 0 & ⋯ & 0 & 0 & 0 & 0 & 0 & 0 & 0 & 0 & 0 & 0\\\\\n",
       "\\end{tabular}\n"
      ],
      "text/markdown": [
       "\n",
       "A data.frame: 6 × 61\n",
       "\n",
       "| <!--/--> | X &lt;int&gt; | temp &lt;int&gt; | rain_1h &lt;int&gt; | snow_1h &lt;int&gt; | clouds_all &lt;int&gt; | traffic_volume &lt;int&gt; | hour &lt;int&gt; | day_of_week &lt;int&gt; | month &lt;int&gt; | temp_rain_interaction &lt;int&gt; | ⋯ ⋯ | weather_description_smoke &lt;int&gt; | weather_description_snow &lt;int&gt; | weather_description_SQUALLS &lt;int&gt; | weather_description_thunderstorm &lt;int&gt; | weather_description_thunderstorm.with.drizzle &lt;int&gt; | weather_description_thunderstorm.with.heavy.rain &lt;int&gt; | weather_description_thunderstorm.with.light.drizzle &lt;int&gt; | weather_description_thunderstorm.with.light.rain &lt;int&gt; | weather_description_thunderstorm.with.rain &lt;int&gt; | weather_description_very.heavy.rain &lt;int&gt; |\n",
       "|---|---|---|---|---|---|---|---|---|---|---|---|---|---|---|---|---|---|---|---|---|---|\n",
       "| 1 | 1 | 0 | 0 | 0 | 40 | 5545 |  9 | 3 | 10 | 0 | ⋯ | 0 | 0 | 0 | 0 | 0 | 0 | 0 | 0 | 0 | 0 |\n",
       "| 2 | 2 | 0 | 0 | 0 | 75 | 4516 | 10 | 3 | 10 | 0 | ⋯ | 0 | 0 | 0 | 0 | 0 | 0 | 0 | 0 | 0 | 0 |\n",
       "| 3 | 3 | 0 | 0 | 0 | 90 | 4767 | 11 | 3 | 10 | 0 | ⋯ | 0 | 0 | 0 | 0 | 0 | 0 | 0 | 0 | 0 | 0 |\n",
       "| 4 | 4 | 0 | 0 | 0 | 90 | 5026 | 12 | 3 | 10 | 0 | ⋯ | 0 | 0 | 0 | 0 | 0 | 0 | 0 | 0 | 0 | 0 |\n",
       "| 5 | 5 | 0 | 0 | 0 | 75 | 4918 | 13 | 3 | 10 | 0 | ⋯ | 0 | 0 | 0 | 0 | 0 | 0 | 0 | 0 | 0 | 0 |\n",
       "| 6 | 6 | 0 | 0 | 0 |  1 | 5181 | 14 | 3 | 10 | 0 | ⋯ | 0 | 0 | 0 | 0 | 0 | 0 | 0 | 0 | 0 | 0 |\n",
       "\n"
      ],
      "text/plain": [
       "  X temp rain_1h snow_1h clouds_all traffic_volume hour day_of_week month\n",
       "1 1 0    0       0       40         5545            9   3           10   \n",
       "2 2 0    0       0       75         4516           10   3           10   \n",
       "3 3 0    0       0       90         4767           11   3           10   \n",
       "4 4 0    0       0       90         5026           12   3           10   \n",
       "5 5 0    0       0       75         4918           13   3           10   \n",
       "6 6 0    0       0        1         5181           14   3           10   \n",
       "  temp_rain_interaction ⋯ weather_description_smoke weather_description_snow\n",
       "1 0                     ⋯ 0                         0                       \n",
       "2 0                     ⋯ 0                         0                       \n",
       "3 0                     ⋯ 0                         0                       \n",
       "4 0                     ⋯ 0                         0                       \n",
       "5 0                     ⋯ 0                         0                       \n",
       "6 0                     ⋯ 0                         0                       \n",
       "  weather_description_SQUALLS weather_description_thunderstorm\n",
       "1 0                           0                               \n",
       "2 0                           0                               \n",
       "3 0                           0                               \n",
       "4 0                           0                               \n",
       "5 0                           0                               \n",
       "6 0                           0                               \n",
       "  weather_description_thunderstorm.with.drizzle\n",
       "1 0                                            \n",
       "2 0                                            \n",
       "3 0                                            \n",
       "4 0                                            \n",
       "5 0                                            \n",
       "6 0                                            \n",
       "  weather_description_thunderstorm.with.heavy.rain\n",
       "1 0                                               \n",
       "2 0                                               \n",
       "3 0                                               \n",
       "4 0                                               \n",
       "5 0                                               \n",
       "6 0                                               \n",
       "  weather_description_thunderstorm.with.light.drizzle\n",
       "1 0                                                  \n",
       "2 0                                                  \n",
       "3 0                                                  \n",
       "4 0                                                  \n",
       "5 0                                                  \n",
       "6 0                                                  \n",
       "  weather_description_thunderstorm.with.light.rain\n",
       "1 0                                               \n",
       "2 0                                               \n",
       "3 0                                               \n",
       "4 0                                               \n",
       "5 0                                               \n",
       "6 0                                               \n",
       "  weather_description_thunderstorm.with.rain\n",
       "1 0                                         \n",
       "2 0                                         \n",
       "3 0                                         \n",
       "4 0                                         \n",
       "5 0                                         \n",
       "6 0                                         \n",
       "  weather_description_very.heavy.rain\n",
       "1 0                                  \n",
       "2 0                                  \n",
       "3 0                                  \n",
       "4 0                                  \n",
       "5 0                                  \n",
       "6 0                                  "
      ]
     },
     "metadata": {},
     "output_type": "display_data"
    }
   ],
   "source": [
    "head(mit_df)"
   ]
  },
  {
   "cell_type": "code",
   "execution_count": 4,
   "id": "6130613f",
   "metadata": {},
   "outputs": [],
   "source": [
    "# Removing the column 'X' \n",
    "mit_df$'X' <- NULL\n"
   ]
  },
  {
   "cell_type": "code",
   "execution_count": 5,
   "id": "b168a406",
   "metadata": {},
   "outputs": [
    {
     "name": "stdout",
     "output_type": "stream",
     "text": [
      "'data.frame':\t48204 obs. of  60 variables:\n",
      " $ temp                                                   : int  0 0 0 0 0 0 0 0 0 0 ...\n",
      " $ rain_1h                                                : int  0 0 0 0 0 0 0 0 0 0 ...\n",
      " $ snow_1h                                                : int  0 0 0 0 0 0 0 0 0 0 ...\n",
      " $ clouds_all                                             : int  40 75 90 90 75 1 1 1 20 20 ...\n",
      " $ traffic_volume                                         : int  5545 4516 4767 5026 4918 5181 5584 6015 5791 4770 ...\n",
      " $ hour                                                   : int  9 10 11 12 13 14 15 16 17 18 ...\n",
      " $ day_of_week                                            : int  3 3 3 3 3 3 3 3 3 3 ...\n",
      " $ month                                                  : int  10 10 10 10 10 10 10 10 10 10 ...\n",
      " $ temp_rain_interaction                                  : int  0 0 0 0 0 0 0 0 0 0 ...\n",
      " $ holiday_0                                              : int  1 1 1 1 1 1 1 1 1 1 ...\n",
      " $ holiday_1                                              : int  0 0 0 0 0 0 0 0 0 0 ...\n",
      " $ weather_main_Clear                                     : int  0 0 0 0 0 1 1 1 0 0 ...\n",
      " $ weather_main_Clouds                                    : int  1 1 1 1 1 0 0 0 1 1 ...\n",
      " $ weather_main_Drizzle                                   : int  0 0 0 0 0 0 0 0 0 0 ...\n",
      " $ weather_main_Fog                                       : int  0 0 0 0 0 0 0 0 0 0 ...\n",
      " $ weather_main_Haze                                      : int  0 0 0 0 0 0 0 0 0 0 ...\n",
      " $ weather_main_Mist                                      : int  0 0 0 0 0 0 0 0 0 0 ...\n",
      " $ weather_main_Rain                                      : int  0 0 0 0 0 0 0 0 0 0 ...\n",
      " $ weather_main_Smoke                                     : int  0 0 0 0 0 0 0 0 0 0 ...\n",
      " $ weather_main_Snow                                      : int  0 0 0 0 0 0 0 0 0 0 ...\n",
      " $ weather_main_Squall                                    : int  0 0 0 0 0 0 0 0 0 0 ...\n",
      " $ weather_main_Thunderstorm                              : int  0 0 0 0 0 0 0 0 0 0 ...\n",
      " $ weather_description_broken.clouds                      : int  0 1 0 0 1 0 0 0 0 0 ...\n",
      " $ weather_description_drizzle                            : int  0 0 0 0 0 0 0 0 0 0 ...\n",
      " $ weather_description_few.clouds                         : int  0 0 0 0 0 0 0 0 1 1 ...\n",
      " $ weather_description_fog                                : int  0 0 0 0 0 0 0 0 0 0 ...\n",
      " $ weather_description_freezing.rain                      : int  0 0 0 0 0 0 0 0 0 0 ...\n",
      " $ weather_description_haze                               : int  0 0 0 0 0 0 0 0 0 0 ...\n",
      " $ weather_description_heavy.intensity.drizzle            : int  0 0 0 0 0 0 0 0 0 0 ...\n",
      " $ weather_description_heavy.intensity.rain               : int  0 0 0 0 0 0 0 0 0 0 ...\n",
      " $ weather_description_heavy.snow                         : int  0 0 0 0 0 0 0 0 0 0 ...\n",
      " $ weather_description_light.intensity.drizzle            : int  0 0 0 0 0 0 0 0 0 0 ...\n",
      " $ weather_description_light.intensity.shower.rain        : int  0 0 0 0 0 0 0 0 0 0 ...\n",
      " $ weather_description_light.rain                         : int  0 0 0 0 0 0 0 0 0 0 ...\n",
      " $ weather_description_light.rain.and.snow                : int  0 0 0 0 0 0 0 0 0 0 ...\n",
      " $ weather_description_light.shower.snow                  : int  0 0 0 0 0 0 0 0 0 0 ...\n",
      " $ weather_description_light.snow                         : int  0 0 0 0 0 0 0 0 0 0 ...\n",
      " $ weather_description_mist                               : int  0 0 0 0 0 0 0 0 0 0 ...\n",
      " $ weather_description_moderate.rain                      : int  0 0 0 0 0 0 0 0 0 0 ...\n",
      " $ weather_description_overcast.clouds                    : int  0 0 1 1 0 0 0 0 0 0 ...\n",
      " $ weather_description_proximity.shower.rain              : int  0 0 0 0 0 0 0 0 0 0 ...\n",
      " $ weather_description_proximity.thunderstorm             : int  0 0 0 0 0 0 0 0 0 0 ...\n",
      " $ weather_description_proximity.thunderstorm.with.drizzle: int  0 0 0 0 0 0 0 0 0 0 ...\n",
      " $ weather_description_proximity.thunderstorm.with.rain   : int  0 0 0 0 0 0 0 0 0 0 ...\n",
      " $ weather_description_scattered.clouds                   : int  1 0 0 0 0 0 0 0 0 0 ...\n",
      " $ weather_description_shower.drizzle                     : int  0 0 0 0 0 0 0 0 0 0 ...\n",
      " $ weather_description_shower.snow                        : int  0 0 0 0 0 0 0 0 0 0 ...\n",
      " $ weather_description_sky.is.clear                       : int  0 0 0 0 0 1 1 1 0 0 ...\n",
      " $ weather_description_Sky.is.Clear                       : int  0 0 0 0 0 0 0 0 0 0 ...\n",
      " $ weather_description_sleet                              : int  0 0 0 0 0 0 0 0 0 0 ...\n",
      " $ weather_description_smoke                              : int  0 0 0 0 0 0 0 0 0 0 ...\n",
      " $ weather_description_snow                               : int  0 0 0 0 0 0 0 0 0 0 ...\n",
      " $ weather_description_SQUALLS                            : int  0 0 0 0 0 0 0 0 0 0 ...\n",
      " $ weather_description_thunderstorm                       : int  0 0 0 0 0 0 0 0 0 0 ...\n",
      " $ weather_description_thunderstorm.with.drizzle          : int  0 0 0 0 0 0 0 0 0 0 ...\n",
      " $ weather_description_thunderstorm.with.heavy.rain       : int  0 0 0 0 0 0 0 0 0 0 ...\n",
      " $ weather_description_thunderstorm.with.light.drizzle    : int  0 0 0 0 0 0 0 0 0 0 ...\n",
      " $ weather_description_thunderstorm.with.light.rain       : int  0 0 0 0 0 0 0 0 0 0 ...\n",
      " $ weather_description_thunderstorm.with.rain             : int  0 0 0 0 0 0 0 0 0 0 ...\n",
      " $ weather_description_very.heavy.rain                    : int  0 0 0 0 0 0 0 0 0 0 ...\n"
     ]
    }
   ],
   "source": [
    "str(mit_df)"
   ]
  },
  {
   "cell_type": "code",
   "execution_count": 6,
   "id": "4c95a932",
   "metadata": {},
   "outputs": [
    {
     "name": "stderr",
     "output_type": "stream",
     "text": [
      "Installing package into 'C:/Users/tenyj/AppData/Local/R/win-library/4.3'\n",
      "(as 'lib' is unspecified)\n",
      "\n",
      "Warning message:\n",
      "\"unable to access index for repository https://cran.r-project.org/src/contrib:\n",
      "  cannot open URL 'https://cran.r-project.org/src/contrib/PACKAGES'\"\n",
      "Warning message:\n",
      "\"package 'caret' is not available for this version of R\n",
      "\n",
      "A version of this package for your version of R might be available elsewhere,\n",
      "see the ideas at\n",
      "https://cran.r-project.org/doc/manuals/r-patched/R-admin.html#Installing-packages\"\n",
      "Warning message:\n",
      "\"unable to access index for repository https://cran.r-project.org/bin/windows/contrib/4.3:\n",
      "  cannot open URL 'https://cran.r-project.org/bin/windows/contrib/4.3/PACKAGES'\"\n",
      "Warning message:\n",
      "\"package 'caret' was built under R version 4.3.3\"\n",
      "Loading required package: lattice\n",
      "\n"
     ]
    }
   ],
   "source": [
    "install.packages(\"caret\")\n",
    "\n",
    "library(caret)"
   ]
  },
  {
   "cell_type": "code",
   "execution_count": 7,
   "id": "c6d7a087",
   "metadata": {},
   "outputs": [],
   "source": [
    "\n",
    "X <- mit_df[, !(names(mit_df) == \"traffic_volume\")]\n",
    "y <- mit_df$traffic_volume\n"
   ]
  },
  {
   "cell_type": "code",
   "execution_count": 8,
   "id": "fbf076d0",
   "metadata": {},
   "outputs": [],
   "source": [
    "set.seed(42)\n",
    "trainIndex <- createDataPartition(y, p = 0.7, list = FALSE) \n",
    "\n",
    "X_train <- X[trainIndex, ]\n",
    "X_test <- X[-trainIndex, ]\n",
    "y_train <- y[trainIndex]\n",
    "y_test <- y[-trainIndex]\n"
   ]
  },
  {
   "cell_type": "code",
   "execution_count": 9,
   "id": "2ec1d01c",
   "metadata": {},
   "outputs": [],
   "source": [
    "\n",
    "lr_model <- lm(y_train ~ ., data = X_train)"
   ]
  },
  {
   "cell_type": "code",
   "execution_count": 10,
   "id": "2630d3a4",
   "metadata": {},
   "outputs": [
    {
     "data": {
      "text/plain": [
       "\n",
       "Call:\n",
       "lm(formula = y_train ~ ., data = X_train)\n",
       "\n",
       "Residuals:\n",
       "    Min      1Q  Median      3Q     Max \n",
       "-5162.2 -1640.9   -83.9  1527.0  4956.9 \n",
       "\n",
       "Coefficients: (14 not defined because of singularities)\n",
       "                                                          Estimate Std. Error\n",
       "(Intercept)                                              2.716e+02  5.090e+02\n",
       "temp                                                     2.395e+02  1.505e+01\n",
       "rain_1h                                                 -7.551e+02  1.945e+03\n",
       "snow_1h                                                         NA         NA\n",
       "clouds_all                                               4.178e+00  5.028e-01\n",
       "hour                                                     9.216e+01  1.477e+00\n",
       "day_of_week                                              7.278e+01  5.006e+00\n",
       "month                                                   -7.390e+00  2.992e+00\n",
       "temp_rain_interaction                                   -1.053e-01  4.239e-02\n",
       "holiday_0                                                1.215e+03  2.832e+02\n",
       "holiday_1                                                       NA         NA\n",
       "weather_main_Clear                                       5.315e+02  4.258e+02\n",
       "weather_main_Clouds                                      7.516e+02  4.226e+02\n",
       "weather_main_Drizzle                                    -2.835e+02  9.204e+02\n",
       "weather_main_Fog                                         2.461e+01  4.271e+02\n",
       "weather_main_Haze                                        4.827e+02  4.248e+02\n",
       "weather_main_Mist                                        9.516e+01  4.214e+02\n",
       "weather_main_Rain                                        5.768e+02  7.268e+02\n",
       "weather_main_Smoke                                       2.736e+02  6.593e+02\n",
       "weather_main_Snow                                       -5.258e+02  4.384e+02\n",
       "weather_main_Squall                                     -9.189e+02  1.007e+03\n",
       "weather_main_Thunderstorm                                       NA         NA\n",
       "weather_description_broken.clouds                       -2.729e+02  5.185e+01\n",
       "weather_description_drizzle                              3.265e+02  8.231e+02\n",
       "weather_description_few.clouds                          -7.285e+01  6.280e+01\n",
       "weather_description_fog                                         NA         NA\n",
       "weather_description_freezing.rain                        4.965e+02  1.428e+03\n",
       "weather_description_haze                                        NA         NA\n",
       "weather_description_heavy.intensity.drizzle              3.100e+02  8.630e+02\n",
       "weather_description_heavy.intensity.rain                -5.574e+02  5.973e+02\n",
       "weather_description_heavy.snow                           4.811e+02  1.516e+02\n",
       "weather_description_light.intensity.drizzle              4.961e+02  8.214e+02\n",
       "weather_description_light.intensity.shower.rain          3.206e+02  9.170e+02\n",
       "weather_description_light.rain                          -3.371e+02  6.028e+02\n",
       "weather_description_light.rain.and.snow                  1.786e+03  9.237e+02\n",
       "weather_description_light.shower.snow                    2.155e+03  6.229e+02\n",
       "weather_description_light.snow                           6.572e+02  1.338e+02\n",
       "weather_description_mist                                        NA         NA\n",
       "weather_description_moderate.rain                       -4.594e+02  6.014e+02\n",
       "weather_description_overcast.clouds                     -5.644e+02  5.473e+01\n",
       "weather_description_proximity.shower.rain                4.862e+02  6.286e+02\n",
       "weather_description_proximity.thunderstorm              -7.287e+01  4.285e+02\n",
       "weather_description_proximity.thunderstorm.with.drizzle -4.579e+02  6.937e+02\n",
       "weather_description_proximity.thunderstorm.with.rain    -4.402e+02  5.405e+02\n",
       "weather_description_scattered.clouds                            NA         NA\n",
       "weather_description_shower.drizzle                              NA         NA\n",
       "weather_description_shower.snow                          3.268e+03  1.835e+03\n",
       "weather_description_sky.is.clear                        -2.788e+02  5.738e+01\n",
       "weather_description_Sky.is.Clear                                NA         NA\n",
       "weather_description_sleet                                2.331e+03  1.300e+03\n",
       "weather_description_smoke                                       NA         NA\n",
       "weather_description_snow                                        NA         NA\n",
       "weather_description_SQUALLS                                     NA         NA\n",
       "weather_description_thunderstorm                        -1.873e+02  4.618e+02\n",
       "weather_description_thunderstorm.with.drizzle           -1.115e+03  1.362e+03\n",
       "weather_description_thunderstorm.with.heavy.rain        -3.067e+02  5.148e+02\n",
       "weather_description_thunderstorm.with.light.drizzle      1.366e+03  8.097e+02\n",
       "weather_description_thunderstorm.with.light.rain        -4.225e+02  5.193e+02\n",
       "weather_description_thunderstorm.with.rain                      NA         NA\n",
       "weather_description_very.heavy.rain                             NA         NA\n",
       "                                                        t value Pr(>|t|)    \n",
       "(Intercept)                                               0.534 0.593552    \n",
       "temp                                                     15.916  < 2e-16 ***\n",
       "rain_1h                                                  -0.388 0.697910    \n",
       "snow_1h                                                      NA       NA    \n",
       "clouds_all                                                8.310  < 2e-16 ***\n",
       "hour                                                     62.398  < 2e-16 ***\n",
       "day_of_week                                              14.539  < 2e-16 ***\n",
       "month                                                    -2.470 0.013521 *  \n",
       "temp_rain_interaction                                    -2.484 0.012991 *  \n",
       "holiday_0                                                 4.290 1.79e-05 ***\n",
       "holiday_1                                                    NA       NA    \n",
       "weather_main_Clear                                        1.248 0.211896    \n",
       "weather_main_Clouds                                       1.778 0.075363 .  \n",
       "weather_main_Drizzle                                     -0.308 0.758075    \n",
       "weather_main_Fog                                          0.058 0.954062    \n",
       "weather_main_Haze                                         1.136 0.255835    \n",
       "weather_main_Mist                                         0.226 0.821336    \n",
       "weather_main_Rain                                         0.794 0.427455    \n",
       "weather_main_Smoke                                        0.415 0.678179    \n",
       "weather_main_Snow                                        -1.199 0.230361    \n",
       "weather_main_Squall                                      -0.912 0.361669    \n",
       "weather_main_Thunderstorm                                    NA       NA    \n",
       "weather_description_broken.clouds                        -5.264 1.42e-07 ***\n",
       "weather_description_drizzle                               0.397 0.691621    \n",
       "weather_description_few.clouds                           -1.160 0.246085    \n",
       "weather_description_fog                                      NA       NA    \n",
       "weather_description_freezing.rain                         0.348 0.728030    \n",
       "weather_description_haze                                     NA       NA    \n",
       "weather_description_heavy.intensity.drizzle               0.359 0.719485    \n",
       "weather_description_heavy.intensity.rain                 -0.933 0.350749    \n",
       "weather_description_heavy.snow                            3.174 0.001506 ** \n",
       "weather_description_light.intensity.drizzle               0.604 0.545873    \n",
       "weather_description_light.intensity.shower.rain           0.350 0.726676    \n",
       "weather_description_light.rain                           -0.559 0.575984    \n",
       "weather_description_light.rain.and.snow                   1.934 0.053157 .  \n",
       "weather_description_light.shower.snow                     3.459 0.000542 ***\n",
       "weather_description_light.snow                            4.912 9.04e-07 ***\n",
       "weather_description_mist                                     NA       NA    \n",
       "weather_description_moderate.rain                        -0.764 0.444943    \n",
       "weather_description_overcast.clouds                     -10.313  < 2e-16 ***\n",
       "weather_description_proximity.shower.rain                 0.773 0.439256    \n",
       "weather_description_proximity.thunderstorm               -0.170 0.864960    \n",
       "weather_description_proximity.thunderstorm.with.drizzle  -0.660 0.509232    \n",
       "weather_description_proximity.thunderstorm.with.rain     -0.814 0.415390    \n",
       "weather_description_scattered.clouds                         NA       NA    \n",
       "weather_description_shower.drizzle                           NA       NA    \n",
       "weather_description_shower.snow                           1.781 0.074944 .  \n",
       "weather_description_sky.is.clear                         -4.859 1.18e-06 ***\n",
       "weather_description_Sky.is.Clear                             NA       NA    \n",
       "weather_description_sleet                                 1.793 0.073029 .  \n",
       "weather_description_smoke                                    NA       NA    \n",
       "weather_description_snow                                     NA       NA    \n",
       "weather_description_SQUALLS                                  NA       NA    \n",
       "weather_description_thunderstorm                         -0.405 0.685117    \n",
       "weather_description_thunderstorm.with.drizzle            -0.819 0.412847    \n",
       "weather_description_thunderstorm.with.heavy.rain         -0.596 0.551300    \n",
       "weather_description_thunderstorm.with.light.drizzle       1.687 0.091541 .  \n",
       "weather_description_thunderstorm.with.light.rain         -0.814 0.415786    \n",
       "weather_description_thunderstorm.with.rain                   NA       NA    \n",
       "weather_description_very.heavy.rain                          NA       NA    \n",
       "---\n",
       "Signif. codes:  0 '***' 0.001 '**' 0.01 '*' 0.05 '.' 0.1 ' ' 1\n",
       "\n",
       "Residual standard error: 1831 on 33699 degrees of freedom\n",
       "Multiple R-squared:  0.1526,\tAdjusted R-squared:  0.1515 \n",
       "F-statistic: 134.9 on 45 and 33699 DF,  p-value: < 2.2e-16\n"
      ]
     },
     "metadata": {},
     "output_type": "display_data"
    }
   ],
   "source": [
    "\n",
    "summary(lr_model)"
   ]
  },
  {
   "cell_type": "code",
   "execution_count": null,
   "id": "0bea5f86",
   "metadata": {},
   "outputs": [],
   "source": []
  },
  {
   "cell_type": "code",
   "execution_count": 11,
   "id": "6bc658e2",
   "metadata": {},
   "outputs": [
    {
     "name": "stderr",
     "output_type": "stream",
     "text": [
      "Warning message in predict.lm(lr_model, newdata = X_train):\n",
      "\"prediction from rank-deficient fit; attr(*, \"non-estim\") has doubtful cases\"\n",
      "Warning message in predict.lm(lr_model, newdata = X_test):\n",
      "\"prediction from rank-deficient fit; attr(*, \"non-estim\") has doubtful cases\"\n"
     ]
    }
   ],
   "source": [
    "y_train_pred <- predict(lr_model, newdata = X_train)\n",
    "\n",
    "y_test_pred <- predict(lr_model, newdata = X_test)\n"
   ]
  },
  {
   "cell_type": "code",
   "execution_count": 12,
   "id": "30fd3409",
   "metadata": {},
   "outputs": [
    {
     "name": "stdout",
     "output_type": "stream",
     "text": [
      "Training MSE: 3346348.86, R²: 0.15\n",
      "Testing MSE: 19240873.01, R²: 0.00"
     ]
    }
   ],
   "source": [
    "# MSE for training and testing data\n",
    "train_mse <- mean((y_train - y_train_pred)^2)\n",
    "test_mse <- mean((y_test - y_test_pred)^2)\n",
    "\n",
    "# R2 for training and testing data\n",
    "train_r2 <- cor(y_train, y_train_pred)^2\n",
    "test_r2 <- cor(y_test, y_test_pred)^2\n",
    "\n",
    "cat(sprintf(\"Training MSE: %.2f, R²: %.2f\\n\", train_mse, train_r2))\n",
    "cat(sprintf(\"Testing MSE: %.2f, R²: %.2f\", test_mse, test_r2))\n"
   ]
  },
  {
   "cell_type": "code",
   "execution_count": 13,
   "id": "61999e45",
   "metadata": {},
   "outputs": [
    {
     "name": "stderr",
     "output_type": "stream",
     "text": [
      "Warning message:\n",
      "\"package 'Metrics' was built under R version 4.3.3\"\n",
      "\n",
      "Attaching package: 'Metrics'\n",
      "\n",
      "\n",
      "The following objects are masked from 'package:caret':\n",
      "\n",
      "    precision, recall\n",
      "\n",
      "\n"
     ]
    },
    {
     "name": "stdout",
     "output_type": "stream",
     "text": [
      "[1] \"Root Mean Squared Error (RMSE): 4386.4419537627\"\n",
      "[1] \"Mean Absolute Error (MAE): 1644.74651488082\"\n"
     ]
    }
   ],
   "source": [
    "library(Metrics)\n",
    "\n",
    "#  RMSE\n",
    "rmse_lr<- sqrt(test_mse)\n",
    "#  MAE\n",
    "mae_lr<- mae(y_test,y_test_pred)\n",
    "\n",
    "print(paste(\"Root Mean Squared Error (RMSE):\", rmse_lr))\n",
    "print(paste(\"Mean Absolute Error (MAE):\", mae_lr))"
   ]
  },
  {
   "cell_type": "code",
   "execution_count": 14,
   "id": "271d1692",
   "metadata": {},
   "outputs": [
    {
     "name": "stderr",
     "output_type": "stream",
     "text": [
      "Warning message:\n",
      "\"\u001b[1m\u001b[22mUsing `size` aesthetic for lines was deprecated in ggplot2 3.4.0.\n",
      "\u001b[36mℹ\u001b[39m Please use `linewidth` instead.\"\n"
     ]
    },
    {
     "data": {
      "image/png": "[encoded data removed]",
      "text/plain": [
       "plot without title"
      ]
     },
     "metadata": {
      "image/png": {
       "height": 420,
       "width": 420
      }
     },
     "output_type": "display_data"
    },
    {
     "data": {
      "image/png": "[encoded data removed]",
      "text/plain": [
       "plot without title"
      ]
     },
     "metadata": {
      "image/png": {
       "height": 420,
       "width": 420
      }
     },
     "output_type": "display_data"
    }
   ],
   "source": [
    "plot_predictions <- function(y_true, y_pred, title) {\n",
    "  data <- data.frame(Actual = y_true, Predicted = y_pred)\n",
    "\n",
    "  p <- ggplot(data, aes(x = Actual, y = Predicted)) +\n",
    "    geom_point(alpha = 0.6, color = \"blue\") +\n",
    "    geom_abline(intercept = 0, slope = 1, linetype = \"dashed\", color = \"red\", size = 1.5) +\n",
    "    ggtitle(title) +\n",
    "    xlab(\"Actual Values\") +\n",
    "    ylab(\"Predicted Values\") +\n",
    "    theme_minimal()\n",
    "  print(p)\n",
    "}\n",
    "\n",
    "plot_predictions(y_train, y_train_pred, \"Actual vs Predicted - Training Data\")\n",
    "plot_predictions(y_test, y_test_pred, \"Actual vs Predicted - Testing Data\")\n"
   ]
  }
 ],
 "metadata": {
  "kernelspec": {
   "display_name": "R",
   "language": "R",
   "name": "ir"
  },
  "language_info": {
   "codemirror_mode": "r",
   "file_extension": ".r",
   "mimetype": "text/x-r-source",
   "name": "R",
   "pygments_lexer": "r",
   "version": "4.3.2"
  }
 },
 "nbformat": 4,
 "nbformat_minor": 5
}
