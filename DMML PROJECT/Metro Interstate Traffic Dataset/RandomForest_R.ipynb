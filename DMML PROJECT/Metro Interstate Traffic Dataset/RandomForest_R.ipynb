{
 "cells": [
  {
   "cell_type": "code",
   "execution_count": 1,
   "id": "7fbba83b",
   "metadata": {},
   "outputs": [],
   "source": [
    "mit_df <- read.csv(\"Metro_Interstate_Traffic_Volume.csv\")\n"
   ]
  },
  {
   "cell_type": "code",
   "execution_count": 2,
   "id": "0de44436",
   "metadata": {},
   "outputs": [
    {
     "data": {
      "text/html": [
       "<table class=\"dataframe\">\n",
       "<caption>A data.frame: 6 × 9</caption>\n",
       "<thead>\n",
       "\t<tr><th></th><th scope=col>holiday</th><th scope=col>temp</th><th scope=col>rain_1h</th><th scope=col>snow_1h</th><th scope=col>clouds_all</th><th scope=col>weather_main</th><th scope=col>weather_description</th><th scope=col>date_time</th><th scope=col>traffic_volume</th></tr>\n",
       "\t<tr><th></th><th scope=col>&lt;chr&gt;</th><th scope=col>&lt;dbl&gt;</th><th scope=col>&lt;dbl&gt;</th><th scope=col>&lt;dbl&gt;</th><th scope=col>&lt;int&gt;</th><th scope=col>&lt;chr&gt;</th><th scope=col>&lt;chr&gt;</th><th scope=col>&lt;chr&gt;</th><th scope=col>&lt;int&gt;</th></tr>\n",
       "</thead>\n",
       "<tbody>\n",
       "\t<tr><th scope=row>1</th><td>None</td><td>288.28</td><td>0</td><td>0</td><td>40</td><td>Clouds</td><td>scattered clouds</td><td>2012-10-02 09:00:00</td><td>5545</td></tr>\n",
       "\t<tr><th scope=row>2</th><td>None</td><td>289.36</td><td>0</td><td>0</td><td>75</td><td>Clouds</td><td>broken clouds   </td><td>2012-10-02 10:00:00</td><td>4516</td></tr>\n",
       "\t<tr><th scope=row>3</th><td>None</td><td>289.58</td><td>0</td><td>0</td><td>90</td><td>Clouds</td><td>overcast clouds </td><td>2012-10-02 11:00:00</td><td>4767</td></tr>\n",
       "\t<tr><th scope=row>4</th><td>None</td><td>290.13</td><td>0</td><td>0</td><td>90</td><td>Clouds</td><td>overcast clouds </td><td>2012-10-02 12:00:00</td><td>5026</td></tr>\n",
       "\t<tr><th scope=row>5</th><td>None</td><td>291.14</td><td>0</td><td>0</td><td>75</td><td>Clouds</td><td>broken clouds   </td><td>2012-10-02 13:00:00</td><td>4918</td></tr>\n",
       "\t<tr><th scope=row>6</th><td>None</td><td>291.72</td><td>0</td><td>0</td><td> 1</td><td>Clear </td><td>sky is clear    </td><td>2012-10-02 14:00:00</td><td>5181</td></tr>\n",
       "</tbody>\n",
       "</table>\n"
      ],
      "text/latex": [
       "A data.frame: 6 × 9\n",
       "\\begin{tabular}{r|lllllllll}\n",
       "  & holiday & temp & rain\\_1h & snow\\_1h & clouds\\_all & weather\\_main & weather\\_description & date\\_time & traffic\\_volume\\\\\n",
       "  & <chr> & <dbl> & <dbl> & <dbl> & <int> & <chr> & <chr> & <chr> & <int>\\\\\n",
       "\\hline\n",
       "\t1 & None & 288.28 & 0 & 0 & 40 & Clouds & scattered clouds & 2012-10-02 09:00:00 & 5545\\\\\n",
       "\t2 & None & 289.36 & 0 & 0 & 75 & Clouds & broken clouds    & 2012-10-02 10:00:00 & 4516\\\\\n",
       "\t3 & None & 289.58 & 0 & 0 & 90 & Clouds & overcast clouds  & 2012-10-02 11:00:00 & 4767\\\\\n",
       "\t4 & None & 290.13 & 0 & 0 & 90 & Clouds & overcast clouds  & 2012-10-02 12:00:00 & 5026\\\\\n",
       "\t5 & None & 291.14 & 0 & 0 & 75 & Clouds & broken clouds    & 2012-10-02 13:00:00 & 4918\\\\\n",
       "\t6 & None & 291.72 & 0 & 0 &  1 & Clear  & sky is clear     & 2012-10-02 14:00:00 & 5181\\\\\n",
       "\\end{tabular}\n"
      ],
      "text/markdown": [
       "\n",
       "A data.frame: 6 × 9\n",
       "\n",
       "| <!--/--> | holiday &lt;chr&gt; | temp &lt;dbl&gt; | rain_1h &lt;dbl&gt; | snow_1h &lt;dbl&gt; | clouds_all &lt;int&gt; | weather_main &lt;chr&gt; | weather_description &lt;chr&gt; | date_time &lt;chr&gt; | traffic_volume &lt;int&gt; |\n",
       "|---|---|---|---|---|---|---|---|---|---|\n",
       "| 1 | None | 288.28 | 0 | 0 | 40 | Clouds | scattered clouds | 2012-10-02 09:00:00 | 5545 |\n",
       "| 2 | None | 289.36 | 0 | 0 | 75 | Clouds | broken clouds    | 2012-10-02 10:00:00 | 4516 |\n",
       "| 3 | None | 289.58 | 0 | 0 | 90 | Clouds | overcast clouds  | 2012-10-02 11:00:00 | 4767 |\n",
       "| 4 | None | 290.13 | 0 | 0 | 90 | Clouds | overcast clouds  | 2012-10-02 12:00:00 | 5026 |\n",
       "| 5 | None | 291.14 | 0 | 0 | 75 | Clouds | broken clouds    | 2012-10-02 13:00:00 | 4918 |\n",
       "| 6 | None | 291.72 | 0 | 0 |  1 | Clear  | sky is clear     | 2012-10-02 14:00:00 | 5181 |\n",
       "\n"
      ],
      "text/plain": [
       "  holiday temp   rain_1h snow_1h clouds_all weather_main weather_description\n",
       "1 None    288.28 0       0       40         Clouds       scattered clouds   \n",
       "2 None    289.36 0       0       75         Clouds       broken clouds      \n",
       "3 None    289.58 0       0       90         Clouds       overcast clouds    \n",
       "4 None    290.13 0       0       90         Clouds       overcast clouds    \n",
       "5 None    291.14 0       0       75         Clouds       broken clouds      \n",
       "6 None    291.72 0       0        1         Clear        sky is clear       \n",
       "  date_time           traffic_volume\n",
       "1 2012-10-02 09:00:00 5545          \n",
       "2 2012-10-02 10:00:00 4516          \n",
       "3 2012-10-02 11:00:00 4767          \n",
       "4 2012-10-02 12:00:00 5026          \n",
       "5 2012-10-02 13:00:00 4918          \n",
       "6 2012-10-02 14:00:00 5181          "
      ]
     },
     "metadata": {},
     "output_type": "display_data"
    }
   ],
   "source": [
    "head(mit_df)"
   ]
  },
  {
   "cell_type": "code",
   "execution_count": 3,
   "id": "dba4764c",
   "metadata": {},
   "outputs": [
    {
     "name": "stdout",
     "output_type": "stream",
     "text": [
      "'data.frame':\t48204 obs. of  9 variables:\n",
      " $ holiday            : chr  \"None\" \"None\" \"None\" \"None\" ...\n",
      " $ temp               : num  288 289 290 290 291 ...\n",
      " $ rain_1h            : num  0 0 0 0 0 0 0 0 0 0 ...\n",
      " $ snow_1h            : num  0 0 0 0 0 0 0 0 0 0 ...\n",
      " $ clouds_all         : int  40 75 90 90 75 1 1 1 20 20 ...\n",
      " $ weather_main       : chr  \"Clouds\" \"Clouds\" \"Clouds\" \"Clouds\" ...\n",
      " $ weather_description: chr  \"scattered clouds\" \"broken clouds\" \"overcast clouds\" \"overcast clouds\" ...\n",
      " $ date_time          : chr  \"2012-10-02 09:00:00\" \"2012-10-02 10:00:00\" \"2012-10-02 11:00:00\" \"2012-10-02 12:00:00\" ...\n",
      " $ traffic_volume     : int  5545 4516 4767 5026 4918 5181 5584 6015 5791 4770 ...\n"
     ]
    }
   ],
   "source": [
    "str(mit_df)"
   ]
  },
  {
   "cell_type": "code",
   "execution_count": 4,
   "id": "8a07cb55",
   "metadata": {},
   "outputs": [
    {
     "data": {
      "text/plain": [
       "   holiday               temp          rain_1h            snow_1h         \n",
       " Length:48204       Min.   :  0.0   Min.   :   0.000   Min.   :0.0000000  \n",
       " Class :character   1st Qu.:272.2   1st Qu.:   0.000   1st Qu.:0.0000000  \n",
       " Mode  :character   Median :282.4   Median :   0.000   Median :0.0000000  \n",
       "                    Mean   :281.2   Mean   :   0.334   Mean   :0.0002224  \n",
       "                    3rd Qu.:291.8   3rd Qu.:   0.000   3rd Qu.:0.0000000  \n",
       "                    Max.   :310.1   Max.   :9831.300   Max.   :0.5100000  \n",
       "   clouds_all     weather_main       weather_description  date_time        \n",
       " Min.   :  0.00   Length:48204       Length:48204        Length:48204      \n",
       " 1st Qu.:  1.00   Class :character   Class :character    Class :character  \n",
       " Median : 64.00   Mode  :character   Mode  :character    Mode  :character  \n",
       " Mean   : 49.36                                                            \n",
       " 3rd Qu.: 90.00                                                            \n",
       " Max.   :100.00                                                            \n",
       " traffic_volume\n",
       " Min.   :   0  \n",
       " 1st Qu.:1193  \n",
       " Median :3380  \n",
       " Mean   :3260  \n",
       " 3rd Qu.:4933  \n",
       " Max.   :7280  "
      ]
     },
     "metadata": {},
     "output_type": "display_data"
    }
   ],
   "source": [
    "summary(mit_df)"
   ]
  },
  {
   "cell_type": "code",
   "execution_count": 5,
   "id": "d542e125",
   "metadata": {},
   "outputs": [],
   "source": [
    "# Data Cleaning"
   ]
  },
  {
   "cell_type": "code",
   "execution_count": 6,
   "id": "fb4e540b",
   "metadata": {},
   "outputs": [
    {
     "name": "stdout",
     "output_type": "stream",
     "text": [
      "            holiday                temp             rain_1h             snow_1h \n",
      "                  0                   0                   0                   0 \n",
      "         clouds_all        weather_main weather_description           date_time \n",
      "                  0                   0                   0                   0 \n",
      "     traffic_volume \n",
      "                  0 \n"
     ]
    }
   ],
   "source": [
    "# mising values\n",
    "miss<- colSums(is.na(mit_df))\n",
    "print(miss)\n"
   ]
  },
  {
   "cell_type": "code",
   "execution_count": 7,
   "id": "93bd55fb",
   "metadata": {},
   "outputs": [
    {
     "name": "stdout",
     "output_type": "stream",
     "text": [
      "[1] \"Number of duplicate rows: 17\"\n"
     ]
    }
   ],
   "source": [
    "# duplicate rows\n",
    "dup_rows <- duplicated(mit_df)\n",
    "num_dup_rows <- sum(dup_rows)\n",
    "print(paste(\"Number of duplicate rows:\", num_dup_rows))\n"
   ]
  },
  {
   "cell_type": "code",
   "execution_count": 8,
   "id": "54099ed7",
   "metadata": {},
   "outputs": [
    {
     "name": "stderr",
     "output_type": "stream",
     "text": [
      "Installing package into 'C:/Users/tenyj/AppData/Local/R/win-library/4.3'\n",
      "(as 'lib' is unspecified)\n",
      "\n"
     ]
    },
    {
     "name": "stdout",
     "output_type": "stream",
     "text": [
      "package 'dplyr' successfully unpacked and MD5 sums checked\n"
     ]
    },
    {
     "name": "stderr",
     "output_type": "stream",
     "text": [
      "Warning message:\n",
      "\"cannot remove prior installation of package 'dplyr'\"\n",
      "Warning message in file.copy(savedcopy, lib, recursive = TRUE):\n",
      "\"problem copying C:\\Users\\tenyj\\AppData\\Local\\R\\win-library\\4.3\\00LOCK\\dplyr\\libs\\x64\\dplyr.dll to C:\\Users\\tenyj\\AppData\\Local\\R\\win-library\\4.3\\dplyr\\libs\\x64\\dplyr.dll: Permission denied\"\n",
      "Warning message:\n",
      "\"restored 'dplyr'\"\n"
     ]
    },
    {
     "name": "stdout",
     "output_type": "stream",
     "text": [
      "\n",
      "The downloaded binary packages are in\n",
      "\tC:\\Users\\tenyj\\AppData\\Local\\Temp\\RtmpMfg7X2\\downloaded_packages\n"
     ]
    },
    {
     "name": "stderr",
     "output_type": "stream",
     "text": [
      "Installing package into 'C:/Users/tenyj/AppData/Local/R/win-library/4.3'\n",
      "(as 'lib' is unspecified)\n",
      "\n"
     ]
    },
    {
     "name": "stdout",
     "output_type": "stream",
     "text": [
      "package 'ggplot2' successfully unpacked and MD5 sums checked\n",
      "\n",
      "The downloaded binary packages are in\n",
      "\tC:\\Users\\tenyj\\AppData\\Local\\Temp\\RtmpMfg7X2\\downloaded_packages\n"
     ]
    }
   ],
   "source": [
    "install.packages(\"dplyr\")\n",
    "install.packages(\"ggplot2\")\n"
   ]
  },
  {
   "cell_type": "code",
   "execution_count": 9,
   "id": "4bd610ed",
   "metadata": {},
   "outputs": [
    {
     "name": "stderr",
     "output_type": "stream",
     "text": [
      "Warning message:\n",
      "\"package 'dplyr' was built under R version 4.3.3\"\n",
      "\n",
      "Attaching package: 'dplyr'\n",
      "\n",
      "\n",
      "The following objects are masked from 'package:stats':\n",
      "\n",
      "    filter, lag\n",
      "\n",
      "\n",
      "The following objects are masked from 'package:base':\n",
      "\n",
      "    intersect, setdiff, setequal, union\n",
      "\n",
      "\n"
     ]
    }
   ],
   "source": [
    "library(dplyr)\n",
    "\n",
    "mit_df$holiday <- ifelse(mit_df$holiday == \"None\", 0, 1)\n",
    "holiday_data <- mit_df$holiday\n",
    "traffic_volume_data <- mit_df$traffic_volume\n",
    "\n",
    "holiday_counts <- table(holiday_data)\n",
    "holiday_traffic <- mit_df %>% \n",
    "  group_by(holiday) %>%\n",
    "  summarise(Mean_Traffic_Volume = mean(traffic_volume, na.rm = TRUE))\n",
    "\n"
   ]
  },
  {
   "cell_type": "code",
   "execution_count": 10,
   "id": "a34e1f57",
   "metadata": {},
   "outputs": [
    {
     "name": "stderr",
     "output_type": "stream",
     "text": [
      "Warning message:\n",
      "\"package 'ggplot2' was built under R version 4.3.3\"\n"
     ]
    },
    {
     "data": {
      "image/png": "[encoded data removed]",
      "text/plain": [
       "plot without title"
      ]
     },
     "metadata": {
      "image/png": {
       "height": 420,
       "width": 420
      }
     },
     "output_type": "display_data"
    }
   ],
   "source": [
    "library(ggplot2)\n",
    "\n",
    "# Box plot for traffic volume comparison\n",
    "ggplot(mit_df, aes(factor(holiday), traffic_volume)) +\n",
    "  geom_boxplot(aes(fill = factor(holiday))) +\n",
    "  scale_fill_manual(values = c(\"#F0E442\", \"#009E73\")) +\n",
    "  labs(title = \"Traffic Volume Comparison: Holidays vs. Non-Holidays\",\n",
    "       x = \"Holiday\",\n",
    "       y = \"Traffic Volume\") +\n",
    "  theme_minimal()\n"
   ]
  },
  {
   "cell_type": "code",
   "execution_count": 11,
   "id": "3ff2b86c",
   "metadata": {},
   "outputs": [
    {
     "name": "stdout",
     "output_type": "stream",
     "text": [
      "[1] \"Holiday Frequencies:\"\n",
      "holiday_data\n",
      "    0     1 \n",
      "48143    61 \n",
      "[1] \"\\nTraffic Volume on Holidays:\"\n",
      "\u001b[90m# A tibble: 2 × 2\u001b[39m\n",
      "  holiday Mean_Traffic_Volume\n",
      "    \u001b[3m\u001b[90m<dbl>\u001b[39m\u001b[23m               \u001b[3m\u001b[90m<dbl>\u001b[39m\u001b[23m\n",
      "\u001b[90m1\u001b[39m       0               \u001b[4m3\u001b[24m263.\n",
      "\u001b[90m2\u001b[39m       1                865.\n",
      "[1] \"\\nTraffic Volume on Non-Holidays:\"\n",
      "   Min. 1st Qu.  Median    Mean 3rd Qu.    Max. \n",
      "      0    1198    3385    3263    4934    7280 \n"
     ]
    }
   ],
   "source": [
    "non_holiday_traffic <- traffic_volume_data[holiday_data == 0]\n",
    "\n",
    "print(\"Holiday Frequencies:\")\n",
    "print(holiday_counts)\n",
    "print(\"\\nTraffic Volume on Holidays:\")\n",
    "print(holiday_traffic)\n",
    "print(\"\\nTraffic Volume on Non-Holidays:\")\n",
    "print(summary(non_holiday_traffic))\n"
   ]
  },
  {
   "cell_type": "code",
   "execution_count": 12,
   "id": "65da5fec",
   "metadata": {},
   "outputs": [
    {
     "name": "stderr",
     "output_type": "stream",
     "text": [
      "Warning message:\n",
      "\"\u001b[1m\u001b[22mThe dot-dot notation (`..density..`) was deprecated in ggplot2 3.4.0.\n",
      "\u001b[36mℹ\u001b[39m Please use `after_stat(density)` instead.\"\n"
     ]
    },
    {
     "data": {
      "image/png": "[encoded data removed]",
      "text/plain": [
       "plot without title"
      ]
     },
     "metadata": {
      "image/png": {
       "height": 420,
       "width": 420
      }
     },
     "output_type": "display_data"
    }
   ],
   "source": [
    "library(ggplot2)\n",
    "\n",
    "# Assuming mit_df is already loaded and contains the data\n",
    "temperature_data <- mit_df$temp\n",
    "traffic_volume_data <- mit_df$traffic_volume\n",
    "\n",
    "# Creating the histogram with KDE\n",
    "ggplot(mit_df, aes(x = temp)) +\n",
    "  geom_histogram(aes(y = ..density..), bins = 20, fill = \"skyblue\", color = \"black\") +\n",
    "  geom_density(alpha = .2, fill = \"blue\") +\n",
    "  labs(title = \"Temperature Distribution\",\n",
    "       x = \"Temperature\",\n",
    "       y = \"Density\") +\n",
    "  theme_minimal()\n"
   ]
  },
  {
   "cell_type": "code",
   "execution_count": 13,
   "id": "5652d5af",
   "metadata": {},
   "outputs": [
    {
     "name": "stdout",
     "output_type": "stream",
     "text": [
      "[1] \"Correlation between Temperature and Traffic Volume: 0.130298798171127\"\n"
     ]
    }
   ],
   "source": [
    "# Assuming 'temp' and 'traffic_volume' are columns in the 'mit_df' data frame\n",
    "temperature_data <- mit_df$temp\n",
    "traffic_volume_data <- mit_df$traffic_volume\n",
    "\n",
    "# Calculating the correlation between temperature and traffic volume\n",
    "correlation <- cor(temperature_data, traffic_volume_data, use = \"complete.obs\")\n",
    "\n",
    "# Printing the correlation\n",
    "print(paste(\"Correlation between Temperature and Traffic Volume:\", correlation))\n"
   ]
  },
  {
   "cell_type": "code",
   "execution_count": 14,
   "id": "2e3d1ca2",
   "metadata": {},
   "outputs": [
    {
     "name": "stdout",
     "output_type": "stream",
     "text": [
      "[1] \"Number of rows before removing outliers: 48204\"\n",
      "[1] \"Number of rows after removing outliers: 44737\"\n"
     ]
    }
   ],
   "source": [
    "# Assuming 'rain_1h' is the column for rain data in 'mit_df'\n",
    "rain_data <- mit_df$rain_1h\n",
    "\n",
    "# Calculating Q1, Q3, and IQR for the 'rain_1h' data\n",
    "Q1 <- quantile(rain_data, 0.25, na.rm = TRUE)\n",
    "Q3 <- quantile(rain_data, 0.75, na.rm = TRUE)\n",
    "IQR <- Q3 - Q1\n",
    "\n",
    "# Defining bounds for outliers\n",
    "lower_bound <- Q1 - 1.5 * IQR\n",
    "upper_bound <- Q3 + 1.5 * IQR\n",
    "\n",
    "# Removing outliers\n",
    "mit_cleaned_data <- mit_df %>% \n",
    "  filter(rain_1h <= upper_bound)\n",
    "\n",
    "# Printing the number of rows before and after removing outliers\n",
    "print(paste(\"Number of rows before removing outliers:\", nrow(mit_df)))\n",
    "print(paste(\"Number of rows after removing outliers:\", nrow(mit_cleaned_data)))\n"
   ]
  },
  {
   "cell_type": "code",
   "execution_count": 15,
   "id": "bbeaccd8",
   "metadata": {},
   "outputs": [
    {
     "name": "stderr",
     "output_type": "stream",
     "text": [
      "Installing package into 'C:/Users/tenyj/AppData/Local/R/win-library/4.3'\n",
      "(as 'lib' is unspecified)\n",
      "\n"
     ]
    },
    {
     "name": "stdout",
     "output_type": "stream",
     "text": [
      "package 'lubridate' successfully unpacked and MD5 sums checked\n"
     ]
    },
    {
     "name": "stderr",
     "output_type": "stream",
     "text": [
      "Warning message:\n",
      "\"cannot remove prior installation of package 'lubridate'\"\n",
      "Warning message in file.copy(savedcopy, lib, recursive = TRUE):\n",
      "\"problem copying C:\\Users\\tenyj\\AppData\\Local\\R\\win-library\\4.3\\00LOCK\\lubridate\\libs\\x64\\lubridate.dll to C:\\Users\\tenyj\\AppData\\Local\\R\\win-library\\4.3\\lubridate\\libs\\x64\\lubridate.dll: Permission denied\"\n",
      "Warning message:\n",
      "\"restored 'lubridate'\"\n"
     ]
    },
    {
     "name": "stdout",
     "output_type": "stream",
     "text": [
      "\n",
      "The downloaded binary packages are in\n",
      "\tC:\\Users\\tenyj\\AppData\\Local\\Temp\\RtmpMfg7X2\\downloaded_packages\n"
     ]
    },
    {
     "name": "stderr",
     "output_type": "stream",
     "text": [
      "Warning message:\n",
      "\"package 'lubridate' was built under R version 4.3.3\"\n",
      "\n",
      "Attaching package: 'lubridate'\n",
      "\n",
      "\n",
      "The following objects are masked from 'package:base':\n",
      "\n",
      "    date, intersect, setdiff, union\n",
      "\n",
      "\n"
     ]
    },
    {
     "data": {
      "image/png": "[encoded data removed]",
      "text/plain": [
       "plot without title"
      ]
     },
     "metadata": {
      "image/png": {
       "height": 420,
       "width": 420
      }
     },
     "output_type": "display_data"
    }
   ],
   "source": [
    "install.packages(\"lubridate\")\n",
    "library(lubridate)\n",
    "# Assuming snow_data is a column 'snow_1h' in 'mit_df'\n",
    "snow_data <- mit_df$snow_1h\n",
    "\n",
    "# Plotting histogram with KDE\n",
    "ggplot(mit_df, aes(x = snow_1h)) +\n",
    "  geom_histogram(aes(y = ..density..), bins = 20, fill = \"lightblue\", color = \"black\") +\n",
    "  geom_density(alpha = .2, fill = \"blue\") +\n",
    "  labs(title = \"Snowfall Distribution\",\n",
    "       x = \"Snowfall (mm)\",\n",
    "       y = \"Density\") +\n",
    "  theme_minimal()\n"
   ]
  },
  {
   "cell_type": "code",
   "execution_count": 16,
   "id": "db39edf6",
   "metadata": {},
   "outputs": [
    {
     "name": "stdout",
     "output_type": "stream",
     "text": [
      "Summary Statistics for Zero Snowfall:\n",
      "   Min. 1st Qu.  Median    Mean 3rd Qu.    Max. \n",
      "      0       0       0       0       0       0 \n",
      "\n",
      "Summary Statistics for Non-Zero Snowfall:\n",
      "   Min. 1st Qu.  Median    Mean 3rd Qu.    Max. \n",
      " 0.0500  0.0600  0.1000  0.1702  0.2500  0.5100 \n"
     ]
    }
   ],
   "source": [
    "# Splitting data based on snowfall being zero or non-zero\n",
    "zero_snowfall_data <- snow_data[snow_data == 0]\n",
    "non_zero_snowfall_data <- snow_data[snow_data > 0]\n",
    "\n",
    "# Printing summary statistics\n",
    "cat(\"Summary Statistics for Zero Snowfall:\\n\")\n",
    "print(summary(zero_snowfall_data))\n",
    "\n",
    "cat(\"\\nSummary Statistics for Non-Zero Snowfall:\\n\")\n",
    "print(summary(non_zero_snowfall_data))\n"
   ]
  },
  {
   "cell_type": "code",
   "execution_count": 17,
   "id": "c9fd1a7d",
   "metadata": {},
   "outputs": [
    {
     "data": {
      "image/png": "[encoded data removed]",
      "text/plain": [
       "plot without title"
      ]
     },
     "metadata": {
      "image/png": {
       "height": 420,
       "width": 420
      }
     },
     "output_type": "display_data"
    }
   ],
   "source": [
    "# Scatter plot of Snowfall vs. Traffic Volume\n",
    "ggplot(mit_df, aes(x = snow_1h, y = traffic_volume)) +\n",
    "  geom_point(color = \"lightblue\") +\n",
    "  labs(title = \"Snowfall vs Traffic Volume\",\n",
    "       x = \"Snowfall (mm)\",\n",
    "       y = \"Traffic Volume\") +\n",
    "  theme_minimal()\n"
   ]
  },
  {
   "cell_type": "code",
   "execution_count": 18,
   "id": "ba49dd4f",
   "metadata": {},
   "outputs": [
    {
     "data": {
      "image/png": "[encoded data removed]",
      "text/plain": [
       "plot without title"
      ]
     },
     "metadata": {
      "image/png": {
       "height": 420,
       "width": 420
      }
     },
     "output_type": "display_data"
    }
   ],
   "source": [
    "# Filtering data for winter months\n",
    "winter_months <- c(12, 1, 2, 3)\n",
    "winter_snow_data <- mit_df %>% \n",
    "  filter(month(ymd_hms(date_time)) %in% winter_months) %>%\n",
    "  pull(snow_1h)\n",
    "\n",
    "ggplot(data = data.frame(snow_1h = winter_snow_data), aes(x = snow_1h)) +\n",
    "  geom_histogram(aes(y = ..density..), bins = 20, fill = \"lightblue\", color = \"black\") +\n",
    "  geom_density(alpha = .2, fill = \"blue\") +\n",
    "  labs(title = \"Snowfall Distribution in Winter Months\",\n",
    "       x = \"Snowfall (mm)\",\n",
    "       y = \"Density\") +\n",
    "  theme_minimal()\n"
   ]
  },
  {
   "cell_type": "code",
   "execution_count": 19,
   "id": "17d6178d",
   "metadata": {},
   "outputs": [
    {
     "name": "stderr",
     "output_type": "stream",
     "text": [
      "Installing package into 'C:/Users/tenyj/AppData/Local/R/win-library/4.3'\n",
      "(as 'lib' is unspecified)\n",
      "\n"
     ]
    },
    {
     "name": "stdout",
     "output_type": "stream",
     "text": [
      "package 'corrplot' successfully unpacked and MD5 sums checked\n",
      "\n",
      "The downloaded binary packages are in\n",
      "\tC:\\Users\\tenyj\\AppData\\Local\\Temp\\RtmpMfg7X2\\downloaded_packages\n"
     ]
    },
    {
     "name": "stderr",
     "output_type": "stream",
     "text": [
      "Warning message:\n",
      "\"package 'corrplot' was built under R version 4.3.3\"\n",
      "corrplot 0.92 loaded\n",
      "\n"
     ]
    },
    {
     "data": {
      "image/png": "[encoded data removed]",
      "text/plain": [
       "plot without title"
      ]
     },
     "metadata": {
      "image/png": {
       "height": 420,
       "width": 420
      }
     },
     "output_type": "display_data"
    }
   ],
   "source": [
    "install.packages(\"corrplot\")\n",
    "library(corrplot)\n",
    "cloud_coverage_data <- mit_df$clouds_all\n",
    "\n",
    "ggplot(mit_df, aes(x = clouds_all)) +\n",
    "  geom_histogram(aes(y = ..density..), bins = 20, fill = \"lightblue\", color = \"black\") +\n",
    "  geom_density(alpha = .2, fill = \"blue\") +\n",
    "  labs(title = \"Cloud Coverage Distribution\",\n",
    "       x = \"Cloud Coverage (%)\",\n",
    "       y = \"Density\") +\n",
    "  theme_minimal()\n"
   ]
  },
  {
   "cell_type": "code",
   "execution_count": 20,
   "id": "11a8a568",
   "metadata": {},
   "outputs": [
    {
     "data": {
      "image/png": "[encoded data removed]",
      "text/plain": [
       "Plot with title \"Correlation Heatmap\""
      ]
     },
     "metadata": {
      "image/png": {
       "height": 420,
       "width": 420
      }
     },
     "output_type": "display_data"
    }
   ],
   "source": [
    "weather_data <- mit_df[, c(\"temp\", \"rain_1h\", \"snow_1h\")]\n",
    "traffic_volume_data <- mit_df$traffic_volume\n",
    "\n",
    "correlation_data <- cbind(cloud_coverage_data, weather_data, traffic_volume_data)\n",
    "correlation_matrix <- cor(correlation_data, use = \"complete.obs\")\n",
    "# heatmap\n",
    "corrplot(correlation_matrix, method = \"color\", type = \"upper\", tl.col = \"black\", \n",
    "         tl.cex = 0.8, cl.cex = 0.8, number.cex = 0.8,\n",
    "         title = \"Correlation Heatmap\", addCoef.col = \"black\", \n",
    "         col = colorRampPalette(c(\"blue\", \"white\", \"red\"))(200))\n"
   ]
  },
  {
   "cell_type": "code",
   "execution_count": 21,
   "id": "f6727033",
   "metadata": {},
   "outputs": [
    {
     "data": {
      "image/png": "[encoded data removed]",
      "text/plain": [
       "plot without title"
      ]
     },
     "metadata": {
      "image/png": {
       "height": 420,
       "width": 420
      }
     },
     "output_type": "display_data"
    }
   ],
   "source": [
    "ggplot(mit_df, aes(x = clouds_all, y = traffic_volume)) +\n",
    "  geom_point(color = \"lightblue\") +\n",
    "  labs(title = \"Cloud Coverage vs Traffic Volume\",\n",
    "       x = \"Cloud Coverage (%)\",\n",
    "       y = \"Traffic Volume\") +\n",
    "  theme_minimal()\n"
   ]
  },
  {
   "cell_type": "code",
   "execution_count": 22,
   "id": "0a9fc066",
   "metadata": {},
   "outputs": [
    {
     "data": {
      "image/png": "[encoded data removed]",
      "text/plain": [
       "plot without title"
      ]
     },
     "metadata": {
      "image/png": {
       "height": 420,
       "width": 420
      }
     },
     "output_type": "display_data"
    }
   ],
   "source": [
    "# Box plot to visualize the impact on traffic volume\n",
    "ggplot(mit_df, aes(x = weather_main, y = traffic_volume, fill = weather_main)) +\n",
    "  geom_boxplot() +\n",
    "  scale_fill_brewer(palette = \"Set3\") +\n",
    "  labs(title = \"Traffic Volume vs Weather Conditions\",\n",
    "       x = \"Weather Condition\",\n",
    "       y = \"Traffic Volume\") +\n",
    "  theme_minimal() +\n",
    "  theme(axis.text.x = element_text(angle = 45, hjust = 1))\n"
   ]
  },
  {
   "cell_type": "code",
   "execution_count": 23,
   "id": "89efe3f7",
   "metadata": {},
   "outputs": [],
   "source": [
    "# Converting 'date_time' to POSIXct date-time format\n",
    "mit_df$date_time <- as.POSIXct(mit_df$date_time, format = \"%Y-%m-%d %H:%M:%S\")\n",
    "\n",
    "# Extracting hour, day of the week, and month\n",
    "mit_df$hour <- hour(mit_df$date_time)\n",
    "mit_df$day_of_week <- wday(mit_df$date_time, label = TRUE)  # Automatically labels days\n",
    "mit_df$month <- month(mit_df$date_time, label = TRUE, abbr = TRUE)  # Automatically labels months\n"
   ]
  },
  {
   "cell_type": "code",
   "execution_count": 25,
   "id": "ab5eb99d",
   "metadata": {},
   "outputs": [
    {
     "data": {
      "image/png": "[encoded data removed]",
      "text/plain": [
       "plot without title"
      ]
     },
     "metadata": {
      "image/png": {
       "height": 420,
       "width": 420
      }
     },
     "output_type": "display_data"
    }
   ],
   "source": [
    "# Assuming traffic_volume_data is a column in 'mit_df'\n",
    "traffic_volume_data <- mit_df$traffic_volume\n",
    "\n",
    "# Histogram with KDE\n",
    "ggplot(mit_df, aes(x = traffic_volume)) +\n",
    "  geom_histogram(aes(y = ..density..), bins = 20, fill = \"lightblue\", color = \"black\") +\n",
    "  geom_density(alpha = .2, fill = \"blue\") +\n",
    "  labs(title = \"Traffic Volume Distribution\",\n",
    "       x = \"Traffic Volume\",\n",
    "       y = \"Density\") +\n",
    "  theme_minimal()\n"
   ]
  },
  {
   "cell_type": "code",
   "execution_count": 26,
   "id": "0af3ffc4",
   "metadata": {},
   "outputs": [
    {
     "data": {
      "image/png": "[encoded data removed]",
      "text/plain": [
       "plot without title"
      ]
     },
     "metadata": {
      "image/png": {
       "height": 420,
       "width": 420
      }
     },
     "output_type": "display_data"
    }
   ],
   "source": [
    "# Box plot to detect outliers\n",
    "ggplot(mit_df, aes(x = 1, y = traffic_volume)) +\n",
    "  geom_boxplot(fill = \"lightblue\") +\n",
    "  labs(title = \"Traffic Volume Box Plot\",\n",
    "       x = \"\",  # No x-axis label necessary as there's only one category\n",
    "       y = \"Traffic Volume\") +\n",
    "  theme_minimal()\n"
   ]
  },
  {
   "cell_type": "code",
   "execution_count": 27,
   "id": "fa92d1fc",
   "metadata": {},
   "outputs": [],
   "source": [
    "mit_df$date_time <- as.POSIXct(mit_df$date_time, format = \"%Y-%m-%d %H:%M:%S\")\n",
    "mit_df$hour <- hour(mit_df$date_time)\n"
   ]
  },
  {
   "cell_type": "code",
   "execution_count": 28,
   "id": "28ea7ec6",
   "metadata": {},
   "outputs": [],
   "source": [
    "mit_df <- mit_df %>%\n",
    "  mutate(temp_rain_interaction = temp * rain_1h)\n"
   ]
  },
  {
   "cell_type": "code",
   "execution_count": 29,
   "id": "09ca867a",
   "metadata": {},
   "outputs": [],
   "source": [
    "mit_df <- mit_df %>%\n",
    "  mutate(across(c(temp, rain_1h), scale))\n"
   ]
  },
  {
   "cell_type": "code",
   "execution_count": 30,
   "id": "3a973401",
   "metadata": {},
   "outputs": [
    {
     "name": "stderr",
     "output_type": "stream",
     "text": [
      "Installing package into 'C:/Users/tenyj/AppData/Local/R/win-library/4.3'\n",
      "(as 'lib' is unspecified)\n",
      "\n"
     ]
    },
    {
     "name": "stdout",
     "output_type": "stream",
     "text": [
      "package 'fastDummies' successfully unpacked and MD5 sums checked\n",
      "\n",
      "The downloaded binary packages are in\n",
      "\tC:\\Users\\tenyj\\AppData\\Local\\Temp\\RtmpMfg7X2\\downloaded_packages\n"
     ]
    },
    {
     "name": "stderr",
     "output_type": "stream",
     "text": [
      "Warning message:\n",
      "\"package 'fastDummies' was built under R version 4.3.3\"\n",
      "Thank you for using fastDummies!\n",
      "\n",
      "To acknowledge our work, please cite the package:\n",
      "\n",
      "Kaplan, J. & Schlegel, B. (2023). fastDummies: Fast Creation of Dummy (Binary) Columns and Rows from Categorical Variables. Version 1.7.1. URL: https://github.com/jacobkap/fastDummies, https://jacobkap.github.io/fastDummies/.\n",
      "\n"
     ]
    }
   ],
   "source": [
    "install.packages(\"fastDummies\")\n",
    "\n",
    "library(fastDummies)"
   ]
  },
  {
   "cell_type": "code",
   "execution_count": 31,
   "id": "954e1b65",
   "metadata": {},
   "outputs": [],
   "source": [
    "# Using fastDummies to create dummy variables\n",
    "mit_df_encoded <- dummy_cols(mit_df, select_columns = c(\"holiday\", \"weather_main\", \"weather_description\"), remove_selected_columns = TRUE)\n"
   ]
  },
  {
   "cell_type": "code",
   "execution_count": 32,
   "id": "b9d5ab06",
   "metadata": {},
   "outputs": [
    {
     "data": {
      "text/html": [
       "<table class=\"dataframe\">\n",
       "<caption>A data.frame: 6 × 61</caption>\n",
       "<thead>\n",
       "\t<tr><th></th><th scope=col>temp</th><th scope=col>rain_1h</th><th scope=col>snow_1h</th><th scope=col>clouds_all</th><th scope=col>date_time</th><th scope=col>traffic_volume</th><th scope=col>hour</th><th scope=col>day_of_week</th><th scope=col>month</th><th scope=col>temp_rain_interaction</th><th scope=col>⋯</th><th scope=col>weather_description_smoke</th><th scope=col>weather_description_snow</th><th scope=col>weather_description_SQUALLS</th><th scope=col>weather_description_thunderstorm</th><th scope=col>weather_description_thunderstorm with drizzle</th><th scope=col>weather_description_thunderstorm with heavy rain</th><th scope=col>weather_description_thunderstorm with light drizzle</th><th scope=col>weather_description_thunderstorm with light rain</th><th scope=col>weather_description_thunderstorm with rain</th><th scope=col>weather_description_very heavy rain</th></tr>\n",
       "\t<tr><th></th><th scope=col>&lt;dbl&gt;</th><th scope=col>&lt;dbl&gt;</th><th scope=col>&lt;dbl&gt;</th><th scope=col>&lt;int&gt;</th><th scope=col>&lt;dttm&gt;</th><th scope=col>&lt;int&gt;</th><th scope=col>&lt;int&gt;</th><th scope=col>&lt;ord&gt;</th><th scope=col>&lt;ord&gt;</th><th scope=col>&lt;dbl&gt;</th><th scope=col>⋯</th><th scope=col>&lt;int&gt;</th><th scope=col>&lt;int&gt;</th><th scope=col>&lt;int&gt;</th><th scope=col>&lt;int&gt;</th><th scope=col>&lt;int&gt;</th><th scope=col>&lt;int&gt;</th><th scope=col>&lt;int&gt;</th><th scope=col>&lt;int&gt;</th><th scope=col>&lt;int&gt;</th><th scope=col>&lt;int&gt;</th></tr>\n",
       "</thead>\n",
       "<tbody>\n",
       "\t<tr><th scope=row>1</th><td>0.5303649</td><td>-0.007463059</td><td>0</td><td>40</td><td>2012-10-02 09:00:00</td><td>5545</td><td> 9</td><td>Tue</td><td>Oct</td><td>0</td><td>⋯</td><td>0</td><td>0</td><td>0</td><td>0</td><td>0</td><td>0</td><td>0</td><td>0</td><td>0</td><td>0</td></tr>\n",
       "\t<tr><th scope=row>2</th><td>0.6113351</td><td>-0.007463059</td><td>0</td><td>75</td><td>2012-10-02 10:00:00</td><td>4516</td><td>10</td><td>Tue</td><td>Oct</td><td>0</td><td>⋯</td><td>0</td><td>0</td><td>0</td><td>0</td><td>0</td><td>0</td><td>0</td><td>0</td><td>0</td><td>0</td></tr>\n",
       "\t<tr><th scope=row>3</th><td>0.6278291</td><td>-0.007463059</td><td>0</td><td>90</td><td>2012-10-02 11:00:00</td><td>4767</td><td>11</td><td>Tue</td><td>Oct</td><td>0</td><td>⋯</td><td>0</td><td>0</td><td>0</td><td>0</td><td>0</td><td>0</td><td>0</td><td>0</td><td>0</td><td>0</td></tr>\n",
       "\t<tr><th scope=row>4</th><td>0.6690639</td><td>-0.007463059</td><td>0</td><td>90</td><td>2012-10-02 12:00:00</td><td>5026</td><td>12</td><td>Tue</td><td>Oct</td><td>0</td><td>⋯</td><td>0</td><td>0</td><td>0</td><td>0</td><td>0</td><td>0</td><td>0</td><td>0</td><td>0</td><td>0</td></tr>\n",
       "\t<tr><th scope=row>5</th><td>0.7447861</td><td>-0.007463059</td><td>0</td><td>75</td><td>2012-10-02 13:00:00</td><td>4918</td><td>13</td><td>Tue</td><td>Oct</td><td>0</td><td>⋯</td><td>0</td><td>0</td><td>0</td><td>0</td><td>0</td><td>0</td><td>0</td><td>0</td><td>0</td><td>0</td></tr>\n",
       "\t<tr><th scope=row>6</th><td>0.7882701</td><td>-0.007463059</td><td>0</td><td> 1</td><td>2012-10-02 14:00:00</td><td>5181</td><td>14</td><td>Tue</td><td>Oct</td><td>0</td><td>⋯</td><td>0</td><td>0</td><td>0</td><td>0</td><td>0</td><td>0</td><td>0</td><td>0</td><td>0</td><td>0</td></tr>\n",
       "</tbody>\n",
       "</table>\n"
      ],
      "text/latex": [
       "A data.frame: 6 × 61\n",
       "\\begin{tabular}{r|lllllllllllllllllllll}\n",
       "  & temp & rain\\_1h & snow\\_1h & clouds\\_all & date\\_time & traffic\\_volume & hour & day\\_of\\_week & month & temp\\_rain\\_interaction & ⋯ & weather\\_description\\_smoke & weather\\_description\\_snow & weather\\_description\\_SQUALLS & weather\\_description\\_thunderstorm & weather\\_description\\_thunderstorm with drizzle & weather\\_description\\_thunderstorm with heavy rain & weather\\_description\\_thunderstorm with light drizzle & weather\\_description\\_thunderstorm with light rain & weather\\_description\\_thunderstorm with rain & weather\\_description\\_very heavy rain\\\\\n",
       "  & <dbl> & <dbl> & <dbl> & <int> & <dttm> & <int> & <int> & <ord> & <ord> & <dbl> & ⋯ & <int> & <int> & <int> & <int> & <int> & <int> & <int> & <int> & <int> & <int>\\\\\n",
       "\\hline\n",
       "\t1 & 0.5303649 & -0.007463059 & 0 & 40 & 2012-10-02 09:00:00 & 5545 &  9 & Tue & Oct & 0 & ⋯ & 0 & 0 & 0 & 0 & 0 & 0 & 0 & 0 & 0 & 0\\\\\n",
       "\t2 & 0.6113351 & -0.007463059 & 0 & 75 & 2012-10-02 10:00:00 & 4516 & 10 & Tue & Oct & 0 & ⋯ & 0 & 0 & 0 & 0 & 0 & 0 & 0 & 0 & 0 & 0\\\\\n",
       "\t3 & 0.6278291 & -0.007463059 & 0 & 90 & 2012-10-02 11:00:00 & 4767 & 11 & Tue & Oct & 0 & ⋯ & 0 & 0 & 0 & 0 & 0 & 0 & 0 & 0 & 0 & 0\\\\\n",
       "\t4 & 0.6690639 & -0.007463059 & 0 & 90 & 2012-10-02 12:00:00 & 5026 & 12 & Tue & Oct & 0 & ⋯ & 0 & 0 & 0 & 0 & 0 & 0 & 0 & 0 & 0 & 0\\\\\n",
       "\t5 & 0.7447861 & -0.007463059 & 0 & 75 & 2012-10-02 13:00:00 & 4918 & 13 & Tue & Oct & 0 & ⋯ & 0 & 0 & 0 & 0 & 0 & 0 & 0 & 0 & 0 & 0\\\\\n",
       "\t6 & 0.7882701 & -0.007463059 & 0 &  1 & 2012-10-02 14:00:00 & 5181 & 14 & Tue & Oct & 0 & ⋯ & 0 & 0 & 0 & 0 & 0 & 0 & 0 & 0 & 0 & 0\\\\\n",
       "\\end{tabular}\n"
      ],
      "text/markdown": [
       "\n",
       "A data.frame: 6 × 61\n",
       "\n",
       "| <!--/--> | temp &lt;dbl&gt; | rain_1h &lt;dbl&gt; | snow_1h &lt;dbl&gt; | clouds_all &lt;int&gt; | date_time &lt;dttm&gt; | traffic_volume &lt;int&gt; | hour &lt;int&gt; | day_of_week &lt;ord&gt; | month &lt;ord&gt; | temp_rain_interaction &lt;dbl&gt; | ⋯ ⋯ | weather_description_smoke &lt;int&gt; | weather_description_snow &lt;int&gt; | weather_description_SQUALLS &lt;int&gt; | weather_description_thunderstorm &lt;int&gt; | weather_description_thunderstorm with drizzle &lt;int&gt; | weather_description_thunderstorm with heavy rain &lt;int&gt; | weather_description_thunderstorm with light drizzle &lt;int&gt; | weather_description_thunderstorm with light rain &lt;int&gt; | weather_description_thunderstorm with rain &lt;int&gt; | weather_description_very heavy rain &lt;int&gt; |\n",
       "|---|---|---|---|---|---|---|---|---|---|---|---|---|---|---|---|---|---|---|---|---|---|\n",
       "| 1 | 0.5303649 | -0.007463059 | 0 | 40 | 2012-10-02 09:00:00 | 5545 |  9 | Tue | Oct | 0 | ⋯ | 0 | 0 | 0 | 0 | 0 | 0 | 0 | 0 | 0 | 0 |\n",
       "| 2 | 0.6113351 | -0.007463059 | 0 | 75 | 2012-10-02 10:00:00 | 4516 | 10 | Tue | Oct | 0 | ⋯ | 0 | 0 | 0 | 0 | 0 | 0 | 0 | 0 | 0 | 0 |\n",
       "| 3 | 0.6278291 | -0.007463059 | 0 | 90 | 2012-10-02 11:00:00 | 4767 | 11 | Tue | Oct | 0 | ⋯ | 0 | 0 | 0 | 0 | 0 | 0 | 0 | 0 | 0 | 0 |\n",
       "| 4 | 0.6690639 | -0.007463059 | 0 | 90 | 2012-10-02 12:00:00 | 5026 | 12 | Tue | Oct | 0 | ⋯ | 0 | 0 | 0 | 0 | 0 | 0 | 0 | 0 | 0 | 0 |\n",
       "| 5 | 0.7447861 | -0.007463059 | 0 | 75 | 2012-10-02 13:00:00 | 4918 | 13 | Tue | Oct | 0 | ⋯ | 0 | 0 | 0 | 0 | 0 | 0 | 0 | 0 | 0 | 0 |\n",
       "| 6 | 0.7882701 | -0.007463059 | 0 |  1 | 2012-10-02 14:00:00 | 5181 | 14 | Tue | Oct | 0 | ⋯ | 0 | 0 | 0 | 0 | 0 | 0 | 0 | 0 | 0 | 0 |\n",
       "\n"
      ],
      "text/plain": [
       "  temp      rain_1h      snow_1h clouds_all date_time           traffic_volume\n",
       "1 0.5303649 -0.007463059 0       40         2012-10-02 09:00:00 5545          \n",
       "2 0.6113351 -0.007463059 0       75         2012-10-02 10:00:00 4516          \n",
       "3 0.6278291 -0.007463059 0       90         2012-10-02 11:00:00 4767          \n",
       "4 0.6690639 -0.007463059 0       90         2012-10-02 12:00:00 5026          \n",
       "5 0.7447861 -0.007463059 0       75         2012-10-02 13:00:00 4918          \n",
       "6 0.7882701 -0.007463059 0        1         2012-10-02 14:00:00 5181          \n",
       "  hour day_of_week month temp_rain_interaction ⋯ weather_description_smoke\n",
       "1  9   Tue         Oct   0                     ⋯ 0                        \n",
       "2 10   Tue         Oct   0                     ⋯ 0                        \n",
       "3 11   Tue         Oct   0                     ⋯ 0                        \n",
       "4 12   Tue         Oct   0                     ⋯ 0                        \n",
       "5 13   Tue         Oct   0                     ⋯ 0                        \n",
       "6 14   Tue         Oct   0                     ⋯ 0                        \n",
       "  weather_description_snow weather_description_SQUALLS\n",
       "1 0                        0                          \n",
       "2 0                        0                          \n",
       "3 0                        0                          \n",
       "4 0                        0                          \n",
       "5 0                        0                          \n",
       "6 0                        0                          \n",
       "  weather_description_thunderstorm\n",
       "1 0                               \n",
       "2 0                               \n",
       "3 0                               \n",
       "4 0                               \n",
       "5 0                               \n",
       "6 0                               \n",
       "  weather_description_thunderstorm with drizzle\n",
       "1 0                                            \n",
       "2 0                                            \n",
       "3 0                                            \n",
       "4 0                                            \n",
       "5 0                                            \n",
       "6 0                                            \n",
       "  weather_description_thunderstorm with heavy rain\n",
       "1 0                                               \n",
       "2 0                                               \n",
       "3 0                                               \n",
       "4 0                                               \n",
       "5 0                                               \n",
       "6 0                                               \n",
       "  weather_description_thunderstorm with light drizzle\n",
       "1 0                                                  \n",
       "2 0                                                  \n",
       "3 0                                                  \n",
       "4 0                                                  \n",
       "5 0                                                  \n",
       "6 0                                                  \n",
       "  weather_description_thunderstorm with light rain\n",
       "1 0                                               \n",
       "2 0                                               \n",
       "3 0                                               \n",
       "4 0                                               \n",
       "5 0                                               \n",
       "6 0                                               \n",
       "  weather_description_thunderstorm with rain\n",
       "1 0                                         \n",
       "2 0                                         \n",
       "3 0                                         \n",
       "4 0                                         \n",
       "5 0                                         \n",
       "6 0                                         \n",
       "  weather_description_very heavy rain\n",
       "1 0                                  \n",
       "2 0                                  \n",
       "3 0                                  \n",
       "4 0                                  \n",
       "5 0                                  \n",
       "6 0                                  "
      ]
     },
     "metadata": {},
     "output_type": "display_data"
    }
   ],
   "source": [
    "head(mit_df_encoded)\n"
   ]
  },
  {
   "cell_type": "code",
   "execution_count": 33,
   "id": "74ca2887",
   "metadata": {},
   "outputs": [],
   "source": [
    "# Removing 'date_time' column using base R\n",
    "mit_df_encoded$date_time <- NULL\n"
   ]
  },
  {
   "cell_type": "code",
   "execution_count": 34,
   "id": "7d1fb178",
   "metadata": {},
   "outputs": [],
   "source": [
    "# Convert all columns to integer using dplyr\n",
    "mit_df_encoded <- mit_df_encoded %>%\n",
    "  mutate(across(everything(), as.integer))\n"
   ]
  },
  {
   "cell_type": "code",
   "execution_count": 35,
   "id": "a4b90e73",
   "metadata": {},
   "outputs": [
    {
     "data": {
      "text/html": [
       "<table class=\"dataframe\">\n",
       "<caption>A data.frame: 48204 × 60</caption>\n",
       "<thead>\n",
       "\t<tr><th scope=col>temp</th><th scope=col>rain_1h</th><th scope=col>snow_1h</th><th scope=col>clouds_all</th><th scope=col>traffic_volume</th><th scope=col>hour</th><th scope=col>day_of_week</th><th scope=col>month</th><th scope=col>temp_rain_interaction</th><th scope=col>holiday_0</th><th scope=col>⋯</th><th scope=col>weather_description_smoke</th><th scope=col>weather_description_snow</th><th scope=col>weather_description_SQUALLS</th><th scope=col>weather_description_thunderstorm</th><th scope=col>weather_description_thunderstorm with drizzle</th><th scope=col>weather_description_thunderstorm with heavy rain</th><th scope=col>weather_description_thunderstorm with light drizzle</th><th scope=col>weather_description_thunderstorm with light rain</th><th scope=col>weather_description_thunderstorm with rain</th><th scope=col>weather_description_very heavy rain</th></tr>\n",
       "\t<tr><th scope=col>&lt;int&gt;</th><th scope=col>&lt;int&gt;</th><th scope=col>&lt;int&gt;</th><th scope=col>&lt;int&gt;</th><th scope=col>&lt;int&gt;</th><th scope=col>&lt;int&gt;</th><th scope=col>&lt;int&gt;</th><th scope=col>&lt;int&gt;</th><th scope=col>&lt;int&gt;</th><th scope=col>&lt;int&gt;</th><th scope=col>⋯</th><th scope=col>&lt;int&gt;</th><th scope=col>&lt;int&gt;</th><th scope=col>&lt;int&gt;</th><th scope=col>&lt;int&gt;</th><th scope=col>&lt;int&gt;</th><th scope=col>&lt;int&gt;</th><th scope=col>&lt;int&gt;</th><th scope=col>&lt;int&gt;</th><th scope=col>&lt;int&gt;</th><th scope=col>&lt;int&gt;</th></tr>\n",
       "</thead>\n",
       "<tbody>\n",
       "\t<tr><td>0</td><td>0</td><td>0</td><td>40</td><td>5545</td><td> 9</td><td>3</td><td>10</td><td>0</td><td>1</td><td>⋯</td><td>0</td><td>0</td><td>0</td><td>0</td><td>0</td><td>0</td><td>0</td><td>0</td><td>0</td><td>0</td></tr>\n",
       "\t<tr><td>0</td><td>0</td><td>0</td><td>75</td><td>4516</td><td>10</td><td>3</td><td>10</td><td>0</td><td>1</td><td>⋯</td><td>0</td><td>0</td><td>0</td><td>0</td><td>0</td><td>0</td><td>0</td><td>0</td><td>0</td><td>0</td></tr>\n",
       "\t<tr><td>0</td><td>0</td><td>0</td><td>90</td><td>4767</td><td>11</td><td>3</td><td>10</td><td>0</td><td>1</td><td>⋯</td><td>0</td><td>0</td><td>0</td><td>0</td><td>0</td><td>0</td><td>0</td><td>0</td><td>0</td><td>0</td></tr>\n",
       "\t<tr><td>0</td><td>0</td><td>0</td><td>90</td><td>5026</td><td>12</td><td>3</td><td>10</td><td>0</td><td>1</td><td>⋯</td><td>0</td><td>0</td><td>0</td><td>0</td><td>0</td><td>0</td><td>0</td><td>0</td><td>0</td><td>0</td></tr>\n",
       "\t<tr><td>0</td><td>0</td><td>0</td><td>75</td><td>4918</td><td>13</td><td>3</td><td>10</td><td>0</td><td>1</td><td>⋯</td><td>0</td><td>0</td><td>0</td><td>0</td><td>0</td><td>0</td><td>0</td><td>0</td><td>0</td><td>0</td></tr>\n",
       "\t<tr><td>0</td><td>0</td><td>0</td><td> 1</td><td>5181</td><td>14</td><td>3</td><td>10</td><td>0</td><td>1</td><td>⋯</td><td>0</td><td>0</td><td>0</td><td>0</td><td>0</td><td>0</td><td>0</td><td>0</td><td>0</td><td>0</td></tr>\n",
       "\t<tr><td>0</td><td>0</td><td>0</td><td> 1</td><td>5584</td><td>15</td><td>3</td><td>10</td><td>0</td><td>1</td><td>⋯</td><td>0</td><td>0</td><td>0</td><td>0</td><td>0</td><td>0</td><td>0</td><td>0</td><td>0</td><td>0</td></tr>\n",
       "\t<tr><td>0</td><td>0</td><td>0</td><td> 1</td><td>6015</td><td>16</td><td>3</td><td>10</td><td>0</td><td>1</td><td>⋯</td><td>0</td><td>0</td><td>0</td><td>0</td><td>0</td><td>0</td><td>0</td><td>0</td><td>0</td><td>0</td></tr>\n",
       "\t<tr><td>0</td><td>0</td><td>0</td><td>20</td><td>5791</td><td>17</td><td>3</td><td>10</td><td>0</td><td>1</td><td>⋯</td><td>0</td><td>0</td><td>0</td><td>0</td><td>0</td><td>0</td><td>0</td><td>0</td><td>0</td><td>0</td></tr>\n",
       "\t<tr><td>0</td><td>0</td><td>0</td><td>20</td><td>4770</td><td>18</td><td>3</td><td>10</td><td>0</td><td>1</td><td>⋯</td><td>0</td><td>0</td><td>0</td><td>0</td><td>0</td><td>0</td><td>0</td><td>0</td><td>0</td><td>0</td></tr>\n",
       "\t<tr><td>0</td><td>0</td><td>0</td><td>20</td><td>3539</td><td>19</td><td>3</td><td>10</td><td>0</td><td>1</td><td>⋯</td><td>0</td><td>0</td><td>0</td><td>0</td><td>0</td><td>0</td><td>0</td><td>0</td><td>0</td><td>0</td></tr>\n",
       "\t<tr><td>0</td><td>0</td><td>0</td><td> 1</td><td>2784</td><td>20</td><td>3</td><td>10</td><td>0</td><td>1</td><td>⋯</td><td>0</td><td>0</td><td>0</td><td>0</td><td>0</td><td>0</td><td>0</td><td>0</td><td>0</td><td>0</td></tr>\n",
       "\t<tr><td>0</td><td>0</td><td>0</td><td> 1</td><td>2361</td><td>21</td><td>3</td><td>10</td><td>0</td><td>1</td><td>⋯</td><td>0</td><td>0</td><td>0</td><td>0</td><td>0</td><td>0</td><td>0</td><td>0</td><td>0</td><td>0</td></tr>\n",
       "\t<tr><td>0</td><td>0</td><td>0</td><td> 1</td><td>1529</td><td>22</td><td>3</td><td>10</td><td>0</td><td>1</td><td>⋯</td><td>0</td><td>0</td><td>0</td><td>0</td><td>0</td><td>0</td><td>0</td><td>0</td><td>0</td><td>0</td></tr>\n",
       "\t<tr><td>0</td><td>0</td><td>0</td><td> 1</td><td> 963</td><td>23</td><td>3</td><td>10</td><td>0</td><td>1</td><td>⋯</td><td>0</td><td>0</td><td>0</td><td>0</td><td>0</td><td>0</td><td>0</td><td>0</td><td>0</td><td>0</td></tr>\n",
       "\t<tr><td>0</td><td>0</td><td>0</td><td> 1</td><td> 506</td><td> 0</td><td>4</td><td>10</td><td>0</td><td>1</td><td>⋯</td><td>0</td><td>0</td><td>0</td><td>0</td><td>0</td><td>0</td><td>0</td><td>0</td><td>0</td><td>0</td></tr>\n",
       "\t<tr><td>0</td><td>0</td><td>0</td><td> 1</td><td> 321</td><td> 1</td><td>4</td><td>10</td><td>0</td><td>1</td><td>⋯</td><td>0</td><td>0</td><td>0</td><td>0</td><td>0</td><td>0</td><td>0</td><td>0</td><td>0</td><td>0</td></tr>\n",
       "\t<tr><td>0</td><td>0</td><td>0</td><td> 1</td><td> 273</td><td> 2</td><td>4</td><td>10</td><td>0</td><td>1</td><td>⋯</td><td>0</td><td>0</td><td>0</td><td>0</td><td>0</td><td>0</td><td>0</td><td>0</td><td>0</td><td>0</td></tr>\n",
       "\t<tr><td>0</td><td>0</td><td>0</td><td> 1</td><td> 367</td><td> 3</td><td>4</td><td>10</td><td>0</td><td>1</td><td>⋯</td><td>0</td><td>0</td><td>0</td><td>0</td><td>0</td><td>0</td><td>0</td><td>0</td><td>0</td><td>0</td></tr>\n",
       "\t<tr><td>0</td><td>0</td><td>0</td><td> 1</td><td> 814</td><td> 4</td><td>4</td><td>10</td><td>0</td><td>1</td><td>⋯</td><td>0</td><td>0</td><td>0</td><td>0</td><td>0</td><td>0</td><td>0</td><td>0</td><td>0</td><td>0</td></tr>\n",
       "\t<tr><td>0</td><td>0</td><td>0</td><td> 1</td><td>2718</td><td> 5</td><td>4</td><td>10</td><td>0</td><td>1</td><td>⋯</td><td>0</td><td>0</td><td>0</td><td>0</td><td>0</td><td>0</td><td>0</td><td>0</td><td>0</td><td>0</td></tr>\n",
       "\t<tr><td>0</td><td>0</td><td>0</td><td> 1</td><td>5673</td><td> 6</td><td>4</td><td>10</td><td>0</td><td>1</td><td>⋯</td><td>0</td><td>0</td><td>0</td><td>0</td><td>0</td><td>0</td><td>0</td><td>0</td><td>0</td><td>0</td></tr>\n",
       "\t<tr><td>0</td><td>0</td><td>0</td><td> 1</td><td>6511</td><td> 8</td><td>4</td><td>10</td><td>0</td><td>1</td><td>⋯</td><td>0</td><td>0</td><td>0</td><td>0</td><td>0</td><td>0</td><td>0</td><td>0</td><td>0</td><td>0</td></tr>\n",
       "\t<tr><td>0</td><td>0</td><td>0</td><td> 1</td><td>5471</td><td> 9</td><td>4</td><td>10</td><td>0</td><td>1</td><td>⋯</td><td>0</td><td>0</td><td>0</td><td>0</td><td>0</td><td>0</td><td>0</td><td>0</td><td>0</td><td>0</td></tr>\n",
       "\t<tr><td>0</td><td>0</td><td>0</td><td> 1</td><td>5097</td><td>12</td><td>4</td><td>10</td><td>0</td><td>1</td><td>⋯</td><td>0</td><td>0</td><td>0</td><td>0</td><td>0</td><td>0</td><td>0</td><td>0</td><td>0</td><td>0</td></tr>\n",
       "\t<tr><td>0</td><td>0</td><td>0</td><td> 1</td><td>4887</td><td>13</td><td>4</td><td>10</td><td>0</td><td>1</td><td>⋯</td><td>0</td><td>0</td><td>0</td><td>0</td><td>0</td><td>0</td><td>0</td><td>0</td><td>0</td><td>0</td></tr>\n",
       "\t<tr><td>0</td><td>0</td><td>0</td><td> 1</td><td>5337</td><td>14</td><td>4</td><td>10</td><td>0</td><td>1</td><td>⋯</td><td>0</td><td>0</td><td>0</td><td>0</td><td>0</td><td>0</td><td>0</td><td>0</td><td>0</td><td>0</td></tr>\n",
       "\t<tr><td>1</td><td>0</td><td>0</td><td> 1</td><td>5692</td><td>15</td><td>4</td><td>10</td><td>0</td><td>1</td><td>⋯</td><td>0</td><td>0</td><td>0</td><td>0</td><td>0</td><td>0</td><td>0</td><td>0</td><td>0</td><td>0</td></tr>\n",
       "\t<tr><td>1</td><td>0</td><td>0</td><td> 1</td><td>6137</td><td>16</td><td>4</td><td>10</td><td>0</td><td>1</td><td>⋯</td><td>0</td><td>0</td><td>0</td><td>0</td><td>0</td><td>0</td><td>0</td><td>0</td><td>0</td><td>0</td></tr>\n",
       "\t<tr><td>0</td><td>0</td><td>0</td><td>20</td><td>4623</td><td>18</td><td>4</td><td>10</td><td>0</td><td>1</td><td>⋯</td><td>0</td><td>0</td><td>0</td><td>0</td><td>0</td><td>0</td><td>0</td><td>0</td><td>0</td><td>0</td></tr>\n",
       "\t<tr><td>⋮</td><td>⋮</td><td>⋮</td><td>⋮</td><td>⋮</td><td>⋮</td><td>⋮</td><td>⋮</td><td>⋮</td><td>⋮</td><td>⋱</td><td>⋮</td><td>⋮</td><td>⋮</td><td>⋮</td><td>⋮</td><td>⋮</td><td>⋮</td><td>⋮</td><td>⋮</td><td>⋮</td></tr>\n",
       "\t<tr><td>0</td><td>0</td><td>0</td><td>90</td><td>3338</td><td>20</td><td>7</td><td>9</td><td> 0</td><td>1</td><td>⋯</td><td>0</td><td>0</td><td>0</td><td>0</td><td>0</td><td>0</td><td>0</td><td>0</td><td>0</td><td>0</td></tr>\n",
       "\t<tr><td>0</td><td>0</td><td>0</td><td>90</td><td>2950</td><td>21</td><td>7</td><td>9</td><td> 0</td><td>1</td><td>⋯</td><td>0</td><td>0</td><td>0</td><td>0</td><td>0</td><td>0</td><td>0</td><td>0</td><td>0</td><td>0</td></tr>\n",
       "\t<tr><td>0</td><td>0</td><td>0</td><td>90</td><td>2607</td><td>22</td><td>7</td><td>9</td><td> 0</td><td>1</td><td>⋯</td><td>0</td><td>0</td><td>0</td><td>0</td><td>0</td><td>0</td><td>0</td><td>0</td><td>0</td><td>0</td></tr>\n",
       "\t<tr><td>0</td><td>0</td><td>0</td><td>90</td><td>3856</td><td>23</td><td>7</td><td>9</td><td> 0</td><td>1</td><td>⋯</td><td>0</td><td>0</td><td>0</td><td>0</td><td>0</td><td>0</td><td>0</td><td>0</td><td>0</td><td>0</td></tr>\n",
       "\t<tr><td>0</td><td>0</td><td>0</td><td>90</td><td>1826</td><td> 0</td><td>1</td><td>9</td><td> 0</td><td>1</td><td>⋯</td><td>0</td><td>0</td><td>0</td><td>0</td><td>0</td><td>0</td><td>0</td><td>0</td><td>0</td><td>0</td></tr>\n",
       "\t<tr><td>0</td><td>0</td><td>0</td><td>90</td><td> 920</td><td> 1</td><td>1</td><td>9</td><td> 0</td><td>1</td><td>⋯</td><td>0</td><td>0</td><td>0</td><td>0</td><td>0</td><td>0</td><td>0</td><td>0</td><td>0</td><td>0</td></tr>\n",
       "\t<tr><td>0</td><td>0</td><td>0</td><td>90</td><td> 696</td><td> 2</td><td>1</td><td>9</td><td> 0</td><td>1</td><td>⋯</td><td>0</td><td>0</td><td>0</td><td>0</td><td>0</td><td>0</td><td>0</td><td>0</td><td>0</td><td>0</td></tr>\n",
       "\t<tr><td>0</td><td>0</td><td>0</td><td>90</td><td> 364</td><td> 3</td><td>1</td><td>9</td><td> 0</td><td>1</td><td>⋯</td><td>0</td><td>0</td><td>0</td><td>0</td><td>0</td><td>0</td><td>0</td><td>0</td><td>0</td><td>0</td></tr>\n",
       "\t<tr><td>0</td><td>0</td><td>0</td><td>90</td><td> 335</td><td> 4</td><td>1</td><td>9</td><td> 0</td><td>1</td><td>⋯</td><td>0</td><td>0</td><td>0</td><td>0</td><td>0</td><td>0</td><td>0</td><td>0</td><td>0</td><td>0</td></tr>\n",
       "\t<tr><td>0</td><td>0</td><td>0</td><td>90</td><td> 444</td><td> 5</td><td>1</td><td>9</td><td> 0</td><td>1</td><td>⋯</td><td>0</td><td>0</td><td>0</td><td>0</td><td>0</td><td>0</td><td>0</td><td>0</td><td>0</td><td>0</td></tr>\n",
       "\t<tr><td>0</td><td>0</td><td>0</td><td>90</td><td> 802</td><td> 6</td><td>1</td><td>9</td><td> 0</td><td>1</td><td>⋯</td><td>0</td><td>0</td><td>0</td><td>0</td><td>0</td><td>0</td><td>0</td><td>0</td><td>0</td><td>0</td></tr>\n",
       "\t<tr><td>0</td><td>0</td><td>0</td><td>90</td><td>1175</td><td> 7</td><td>1</td><td>9</td><td> 0</td><td>1</td><td>⋯</td><td>0</td><td>0</td><td>0</td><td>0</td><td>0</td><td>0</td><td>0</td><td>0</td><td>0</td><td>0</td></tr>\n",
       "\t<tr><td>0</td><td>0</td><td>0</td><td>90</td><td>2002</td><td> 8</td><td>1</td><td>9</td><td> 0</td><td>1</td><td>⋯</td><td>0</td><td>0</td><td>0</td><td>0</td><td>0</td><td>0</td><td>0</td><td>0</td><td>0</td><td>0</td></tr>\n",
       "\t<tr><td>0</td><td>0</td><td>0</td><td>90</td><td>2882</td><td> 9</td><td>1</td><td>9</td><td> 0</td><td>1</td><td>⋯</td><td>0</td><td>0</td><td>0</td><td>0</td><td>0</td><td>0</td><td>0</td><td>0</td><td>0</td><td>0</td></tr>\n",
       "\t<tr><td>0</td><td>0</td><td>0</td><td>75</td><td>3701</td><td>10</td><td>1</td><td>9</td><td> 0</td><td>1</td><td>⋯</td><td>0</td><td>0</td><td>0</td><td>0</td><td>0</td><td>0</td><td>0</td><td>0</td><td>0</td><td>0</td></tr>\n",
       "\t<tr><td>0</td><td>0</td><td>0</td><td>90</td><td>4049</td><td>11</td><td>1</td><td>9</td><td> 0</td><td>1</td><td>⋯</td><td>0</td><td>0</td><td>0</td><td>0</td><td>0</td><td>0</td><td>0</td><td>0</td><td>0</td><td>0</td></tr>\n",
       "\t<tr><td>0</td><td>0</td><td>0</td><td>75</td><td>4429</td><td>12</td><td>1</td><td>9</td><td> 0</td><td>1</td><td>⋯</td><td>0</td><td>0</td><td>0</td><td>0</td><td>0</td><td>0</td><td>0</td><td>0</td><td>0</td><td>0</td></tr>\n",
       "\t<tr><td>0</td><td>0</td><td>0</td><td>90</td><td>4547</td><td>13</td><td>1</td><td>9</td><td> 0</td><td>1</td><td>⋯</td><td>0</td><td>0</td><td>0</td><td>0</td><td>0</td><td>0</td><td>0</td><td>0</td><td>0</td><td>0</td></tr>\n",
       "\t<tr><td>0</td><td>0</td><td>0</td><td>90</td><td>4380</td><td>14</td><td>1</td><td>9</td><td> 0</td><td>1</td><td>⋯</td><td>0</td><td>0</td><td>0</td><td>0</td><td>0</td><td>0</td><td>0</td><td>0</td><td>0</td><td>0</td></tr>\n",
       "\t<tr><td>0</td><td>0</td><td>0</td><td>90</td><td>4380</td><td>14</td><td>1</td><td>9</td><td> 0</td><td>1</td><td>⋯</td><td>0</td><td>0</td><td>0</td><td>0</td><td>0</td><td>0</td><td>0</td><td>0</td><td>0</td><td>0</td></tr>\n",
       "\t<tr><td>0</td><td>0</td><td>0</td><td>75</td><td>4302</td><td>15</td><td>1</td><td>9</td><td> 0</td><td>1</td><td>⋯</td><td>0</td><td>0</td><td>0</td><td>0</td><td>0</td><td>0</td><td>0</td><td>0</td><td>0</td><td>0</td></tr>\n",
       "\t<tr><td>0</td><td>0</td><td>0</td><td>75</td><td>4302</td><td>15</td><td>1</td><td>9</td><td> 0</td><td>1</td><td>⋯</td><td>0</td><td>0</td><td>0</td><td>0</td><td>0</td><td>0</td><td>0</td><td>0</td><td>0</td><td>0</td></tr>\n",
       "\t<tr><td>0</td><td>0</td><td>0</td><td>75</td><td>4283</td><td>16</td><td>1</td><td>9</td><td> 0</td><td>1</td><td>⋯</td><td>0</td><td>0</td><td>0</td><td>0</td><td>0</td><td>0</td><td>0</td><td>0</td><td>0</td><td>0</td></tr>\n",
       "\t<tr><td>0</td><td>0</td><td>0</td><td>75</td><td>4132</td><td>17</td><td>1</td><td>9</td><td> 0</td><td>1</td><td>⋯</td><td>0</td><td>0</td><td>0</td><td>0</td><td>0</td><td>0</td><td>0</td><td>0</td><td>0</td><td>0</td></tr>\n",
       "\t<tr><td>0</td><td>0</td><td>0</td><td>75</td><td>3947</td><td>18</td><td>1</td><td>9</td><td>71</td><td>1</td><td>⋯</td><td>0</td><td>0</td><td>0</td><td>0</td><td>0</td><td>0</td><td>0</td><td>0</td><td>0</td><td>0</td></tr>\n",
       "\t<tr><td>0</td><td>0</td><td>0</td><td>75</td><td>3543</td><td>19</td><td>1</td><td>9</td><td> 0</td><td>1</td><td>⋯</td><td>0</td><td>0</td><td>0</td><td>0</td><td>0</td><td>0</td><td>0</td><td>0</td><td>0</td><td>0</td></tr>\n",
       "\t<tr><td>0</td><td>0</td><td>0</td><td>90</td><td>2781</td><td>20</td><td>1</td><td>9</td><td> 0</td><td>1</td><td>⋯</td><td>0</td><td>0</td><td>0</td><td>0</td><td>0</td><td>0</td><td>0</td><td>0</td><td>0</td><td>0</td></tr>\n",
       "\t<tr><td>0</td><td>0</td><td>0</td><td>90</td><td>2159</td><td>21</td><td>1</td><td>9</td><td> 0</td><td>1</td><td>⋯</td><td>0</td><td>0</td><td>0</td><td>0</td><td>0</td><td>0</td><td>0</td><td>0</td><td>0</td><td>0</td></tr>\n",
       "\t<tr><td>0</td><td>0</td><td>0</td><td>90</td><td>1450</td><td>22</td><td>1</td><td>9</td><td> 0</td><td>1</td><td>⋯</td><td>0</td><td>0</td><td>0</td><td>0</td><td>0</td><td>0</td><td>0</td><td>0</td><td>0</td><td>0</td></tr>\n",
       "\t<tr><td>0</td><td>0</td><td>0</td><td>90</td><td> 954</td><td>23</td><td>1</td><td>9</td><td> 0</td><td>1</td><td>⋯</td><td>0</td><td>0</td><td>0</td><td>0</td><td>0</td><td>0</td><td>0</td><td>0</td><td>0</td><td>0</td></tr>\n",
       "</tbody>\n",
       "</table>\n"
      ],
      "text/latex": [
       "A data.frame: 48204 × 60\n",
       "\\begin{tabular}{lllllllllllllllllllll}\n",
       " temp & rain\\_1h & snow\\_1h & clouds\\_all & traffic\\_volume & hour & day\\_of\\_week & month & temp\\_rain\\_interaction & holiday\\_0 & ⋯ & weather\\_description\\_smoke & weather\\_description\\_snow & weather\\_description\\_SQUALLS & weather\\_description\\_thunderstorm & weather\\_description\\_thunderstorm with drizzle & weather\\_description\\_thunderstorm with heavy rain & weather\\_description\\_thunderstorm with light drizzle & weather\\_description\\_thunderstorm with light rain & weather\\_description\\_thunderstorm with rain & weather\\_description\\_very heavy rain\\\\\n",
       " <int> & <int> & <int> & <int> & <int> & <int> & <int> & <int> & <int> & <int> & ⋯ & <int> & <int> & <int> & <int> & <int> & <int> & <int> & <int> & <int> & <int>\\\\\n",
       "\\hline\n",
       "\t 0 & 0 & 0 & 40 & 5545 &  9 & 3 & 10 & 0 & 1 & ⋯ & 0 & 0 & 0 & 0 & 0 & 0 & 0 & 0 & 0 & 0\\\\\n",
       "\t 0 & 0 & 0 & 75 & 4516 & 10 & 3 & 10 & 0 & 1 & ⋯ & 0 & 0 & 0 & 0 & 0 & 0 & 0 & 0 & 0 & 0\\\\\n",
       "\t 0 & 0 & 0 & 90 & 4767 & 11 & 3 & 10 & 0 & 1 & ⋯ & 0 & 0 & 0 & 0 & 0 & 0 & 0 & 0 & 0 & 0\\\\\n",
       "\t 0 & 0 & 0 & 90 & 5026 & 12 & 3 & 10 & 0 & 1 & ⋯ & 0 & 0 & 0 & 0 & 0 & 0 & 0 & 0 & 0 & 0\\\\\n",
       "\t 0 & 0 & 0 & 75 & 4918 & 13 & 3 & 10 & 0 & 1 & ⋯ & 0 & 0 & 0 & 0 & 0 & 0 & 0 & 0 & 0 & 0\\\\\n",
       "\t 0 & 0 & 0 &  1 & 5181 & 14 & 3 & 10 & 0 & 1 & ⋯ & 0 & 0 & 0 & 0 & 0 & 0 & 0 & 0 & 0 & 0\\\\\n",
       "\t 0 & 0 & 0 &  1 & 5584 & 15 & 3 & 10 & 0 & 1 & ⋯ & 0 & 0 & 0 & 0 & 0 & 0 & 0 & 0 & 0 & 0\\\\\n",
       "\t 0 & 0 & 0 &  1 & 6015 & 16 & 3 & 10 & 0 & 1 & ⋯ & 0 & 0 & 0 & 0 & 0 & 0 & 0 & 0 & 0 & 0\\\\\n",
       "\t 0 & 0 & 0 & 20 & 5791 & 17 & 3 & 10 & 0 & 1 & ⋯ & 0 & 0 & 0 & 0 & 0 & 0 & 0 & 0 & 0 & 0\\\\\n",
       "\t 0 & 0 & 0 & 20 & 4770 & 18 & 3 & 10 & 0 & 1 & ⋯ & 0 & 0 & 0 & 0 & 0 & 0 & 0 & 0 & 0 & 0\\\\\n",
       "\t 0 & 0 & 0 & 20 & 3539 & 19 & 3 & 10 & 0 & 1 & ⋯ & 0 & 0 & 0 & 0 & 0 & 0 & 0 & 0 & 0 & 0\\\\\n",
       "\t 0 & 0 & 0 &  1 & 2784 & 20 & 3 & 10 & 0 & 1 & ⋯ & 0 & 0 & 0 & 0 & 0 & 0 & 0 & 0 & 0 & 0\\\\\n",
       "\t 0 & 0 & 0 &  1 & 2361 & 21 & 3 & 10 & 0 & 1 & ⋯ & 0 & 0 & 0 & 0 & 0 & 0 & 0 & 0 & 0 & 0\\\\\n",
       "\t 0 & 0 & 0 &  1 & 1529 & 22 & 3 & 10 & 0 & 1 & ⋯ & 0 & 0 & 0 & 0 & 0 & 0 & 0 & 0 & 0 & 0\\\\\n",
       "\t 0 & 0 & 0 &  1 &  963 & 23 & 3 & 10 & 0 & 1 & ⋯ & 0 & 0 & 0 & 0 & 0 & 0 & 0 & 0 & 0 & 0\\\\\n",
       "\t 0 & 0 & 0 &  1 &  506 &  0 & 4 & 10 & 0 & 1 & ⋯ & 0 & 0 & 0 & 0 & 0 & 0 & 0 & 0 & 0 & 0\\\\\n",
       "\t 0 & 0 & 0 &  1 &  321 &  1 & 4 & 10 & 0 & 1 & ⋯ & 0 & 0 & 0 & 0 & 0 & 0 & 0 & 0 & 0 & 0\\\\\n",
       "\t 0 & 0 & 0 &  1 &  273 &  2 & 4 & 10 & 0 & 1 & ⋯ & 0 & 0 & 0 & 0 & 0 & 0 & 0 & 0 & 0 & 0\\\\\n",
       "\t 0 & 0 & 0 &  1 &  367 &  3 & 4 & 10 & 0 & 1 & ⋯ & 0 & 0 & 0 & 0 & 0 & 0 & 0 & 0 & 0 & 0\\\\\n",
       "\t 0 & 0 & 0 &  1 &  814 &  4 & 4 & 10 & 0 & 1 & ⋯ & 0 & 0 & 0 & 0 & 0 & 0 & 0 & 0 & 0 & 0\\\\\n",
       "\t 0 & 0 & 0 &  1 & 2718 &  5 & 4 & 10 & 0 & 1 & ⋯ & 0 & 0 & 0 & 0 & 0 & 0 & 0 & 0 & 0 & 0\\\\\n",
       "\t 0 & 0 & 0 &  1 & 5673 &  6 & 4 & 10 & 0 & 1 & ⋯ & 0 & 0 & 0 & 0 & 0 & 0 & 0 & 0 & 0 & 0\\\\\n",
       "\t 0 & 0 & 0 &  1 & 6511 &  8 & 4 & 10 & 0 & 1 & ⋯ & 0 & 0 & 0 & 0 & 0 & 0 & 0 & 0 & 0 & 0\\\\\n",
       "\t 0 & 0 & 0 &  1 & 5471 &  9 & 4 & 10 & 0 & 1 & ⋯ & 0 & 0 & 0 & 0 & 0 & 0 & 0 & 0 & 0 & 0\\\\\n",
       "\t 0 & 0 & 0 &  1 & 5097 & 12 & 4 & 10 & 0 & 1 & ⋯ & 0 & 0 & 0 & 0 & 0 & 0 & 0 & 0 & 0 & 0\\\\\n",
       "\t 0 & 0 & 0 &  1 & 4887 & 13 & 4 & 10 & 0 & 1 & ⋯ & 0 & 0 & 0 & 0 & 0 & 0 & 0 & 0 & 0 & 0\\\\\n",
       "\t 0 & 0 & 0 &  1 & 5337 & 14 & 4 & 10 & 0 & 1 & ⋯ & 0 & 0 & 0 & 0 & 0 & 0 & 0 & 0 & 0 & 0\\\\\n",
       "\t 1 & 0 & 0 &  1 & 5692 & 15 & 4 & 10 & 0 & 1 & ⋯ & 0 & 0 & 0 & 0 & 0 & 0 & 0 & 0 & 0 & 0\\\\\n",
       "\t 1 & 0 & 0 &  1 & 6137 & 16 & 4 & 10 & 0 & 1 & ⋯ & 0 & 0 & 0 & 0 & 0 & 0 & 0 & 0 & 0 & 0\\\\\n",
       "\t 0 & 0 & 0 & 20 & 4623 & 18 & 4 & 10 & 0 & 1 & ⋯ & 0 & 0 & 0 & 0 & 0 & 0 & 0 & 0 & 0 & 0\\\\\n",
       "\t ⋮ & ⋮ & ⋮ & ⋮ & ⋮ & ⋮ & ⋮ & ⋮ & ⋮ & ⋮ & ⋱ & ⋮ & ⋮ & ⋮ & ⋮ & ⋮ & ⋮ & ⋮ & ⋮ & ⋮ & ⋮\\\\\n",
       "\t 0 & 0 & 0 & 90 & 3338 & 20 & 7 & 9 &  0 & 1 & ⋯ & 0 & 0 & 0 & 0 & 0 & 0 & 0 & 0 & 0 & 0\\\\\n",
       "\t 0 & 0 & 0 & 90 & 2950 & 21 & 7 & 9 &  0 & 1 & ⋯ & 0 & 0 & 0 & 0 & 0 & 0 & 0 & 0 & 0 & 0\\\\\n",
       "\t 0 & 0 & 0 & 90 & 2607 & 22 & 7 & 9 &  0 & 1 & ⋯ & 0 & 0 & 0 & 0 & 0 & 0 & 0 & 0 & 0 & 0\\\\\n",
       "\t 0 & 0 & 0 & 90 & 3856 & 23 & 7 & 9 &  0 & 1 & ⋯ & 0 & 0 & 0 & 0 & 0 & 0 & 0 & 0 & 0 & 0\\\\\n",
       "\t 0 & 0 & 0 & 90 & 1826 &  0 & 1 & 9 &  0 & 1 & ⋯ & 0 & 0 & 0 & 0 & 0 & 0 & 0 & 0 & 0 & 0\\\\\n",
       "\t 0 & 0 & 0 & 90 &  920 &  1 & 1 & 9 &  0 & 1 & ⋯ & 0 & 0 & 0 & 0 & 0 & 0 & 0 & 0 & 0 & 0\\\\\n",
       "\t 0 & 0 & 0 & 90 &  696 &  2 & 1 & 9 &  0 & 1 & ⋯ & 0 & 0 & 0 & 0 & 0 & 0 & 0 & 0 & 0 & 0\\\\\n",
       "\t 0 & 0 & 0 & 90 &  364 &  3 & 1 & 9 &  0 & 1 & ⋯ & 0 & 0 & 0 & 0 & 0 & 0 & 0 & 0 & 0 & 0\\\\\n",
       "\t 0 & 0 & 0 & 90 &  335 &  4 & 1 & 9 &  0 & 1 & ⋯ & 0 & 0 & 0 & 0 & 0 & 0 & 0 & 0 & 0 & 0\\\\\n",
       "\t 0 & 0 & 0 & 90 &  444 &  5 & 1 & 9 &  0 & 1 & ⋯ & 0 & 0 & 0 & 0 & 0 & 0 & 0 & 0 & 0 & 0\\\\\n",
       "\t 0 & 0 & 0 & 90 &  802 &  6 & 1 & 9 &  0 & 1 & ⋯ & 0 & 0 & 0 & 0 & 0 & 0 & 0 & 0 & 0 & 0\\\\\n",
       "\t 0 & 0 & 0 & 90 & 1175 &  7 & 1 & 9 &  0 & 1 & ⋯ & 0 & 0 & 0 & 0 & 0 & 0 & 0 & 0 & 0 & 0\\\\\n",
       "\t 0 & 0 & 0 & 90 & 2002 &  8 & 1 & 9 &  0 & 1 & ⋯ & 0 & 0 & 0 & 0 & 0 & 0 & 0 & 0 & 0 & 0\\\\\n",
       "\t 0 & 0 & 0 & 90 & 2882 &  9 & 1 & 9 &  0 & 1 & ⋯ & 0 & 0 & 0 & 0 & 0 & 0 & 0 & 0 & 0 & 0\\\\\n",
       "\t 0 & 0 & 0 & 75 & 3701 & 10 & 1 & 9 &  0 & 1 & ⋯ & 0 & 0 & 0 & 0 & 0 & 0 & 0 & 0 & 0 & 0\\\\\n",
       "\t 0 & 0 & 0 & 90 & 4049 & 11 & 1 & 9 &  0 & 1 & ⋯ & 0 & 0 & 0 & 0 & 0 & 0 & 0 & 0 & 0 & 0\\\\\n",
       "\t 0 & 0 & 0 & 75 & 4429 & 12 & 1 & 9 &  0 & 1 & ⋯ & 0 & 0 & 0 & 0 & 0 & 0 & 0 & 0 & 0 & 0\\\\\n",
       "\t 0 & 0 & 0 & 90 & 4547 & 13 & 1 & 9 &  0 & 1 & ⋯ & 0 & 0 & 0 & 0 & 0 & 0 & 0 & 0 & 0 & 0\\\\\n",
       "\t 0 & 0 & 0 & 90 & 4380 & 14 & 1 & 9 &  0 & 1 & ⋯ & 0 & 0 & 0 & 0 & 0 & 0 & 0 & 0 & 0 & 0\\\\\n",
       "\t 0 & 0 & 0 & 90 & 4380 & 14 & 1 & 9 &  0 & 1 & ⋯ & 0 & 0 & 0 & 0 & 0 & 0 & 0 & 0 & 0 & 0\\\\\n",
       "\t 0 & 0 & 0 & 75 & 4302 & 15 & 1 & 9 &  0 & 1 & ⋯ & 0 & 0 & 0 & 0 & 0 & 0 & 0 & 0 & 0 & 0\\\\\n",
       "\t 0 & 0 & 0 & 75 & 4302 & 15 & 1 & 9 &  0 & 1 & ⋯ & 0 & 0 & 0 & 0 & 0 & 0 & 0 & 0 & 0 & 0\\\\\n",
       "\t 0 & 0 & 0 & 75 & 4283 & 16 & 1 & 9 &  0 & 1 & ⋯ & 0 & 0 & 0 & 0 & 0 & 0 & 0 & 0 & 0 & 0\\\\\n",
       "\t 0 & 0 & 0 & 75 & 4132 & 17 & 1 & 9 &  0 & 1 & ⋯ & 0 & 0 & 0 & 0 & 0 & 0 & 0 & 0 & 0 & 0\\\\\n",
       "\t 0 & 0 & 0 & 75 & 3947 & 18 & 1 & 9 & 71 & 1 & ⋯ & 0 & 0 & 0 & 0 & 0 & 0 & 0 & 0 & 0 & 0\\\\\n",
       "\t 0 & 0 & 0 & 75 & 3543 & 19 & 1 & 9 &  0 & 1 & ⋯ & 0 & 0 & 0 & 0 & 0 & 0 & 0 & 0 & 0 & 0\\\\\n",
       "\t 0 & 0 & 0 & 90 & 2781 & 20 & 1 & 9 &  0 & 1 & ⋯ & 0 & 0 & 0 & 0 & 0 & 0 & 0 & 0 & 0 & 0\\\\\n",
       "\t 0 & 0 & 0 & 90 & 2159 & 21 & 1 & 9 &  0 & 1 & ⋯ & 0 & 0 & 0 & 0 & 0 & 0 & 0 & 0 & 0 & 0\\\\\n",
       "\t 0 & 0 & 0 & 90 & 1450 & 22 & 1 & 9 &  0 & 1 & ⋯ & 0 & 0 & 0 & 0 & 0 & 0 & 0 & 0 & 0 & 0\\\\\n",
       "\t 0 & 0 & 0 & 90 &  954 & 23 & 1 & 9 &  0 & 1 & ⋯ & 0 & 0 & 0 & 0 & 0 & 0 & 0 & 0 & 0 & 0\\\\\n",
       "\\end{tabular}\n"
      ],
      "text/markdown": [
       "\n",
       "A data.frame: 48204 × 60\n",
       "\n",
       "| temp &lt;int&gt; | rain_1h &lt;int&gt; | snow_1h &lt;int&gt; | clouds_all &lt;int&gt; | traffic_volume &lt;int&gt; | hour &lt;int&gt; | day_of_week &lt;int&gt; | month &lt;int&gt; | temp_rain_interaction &lt;int&gt; | holiday_0 &lt;int&gt; | ⋯ ⋯ | weather_description_smoke &lt;int&gt; | weather_description_snow &lt;int&gt; | weather_description_SQUALLS &lt;int&gt; | weather_description_thunderstorm &lt;int&gt; | weather_description_thunderstorm with drizzle &lt;int&gt; | weather_description_thunderstorm with heavy rain &lt;int&gt; | weather_description_thunderstorm with light drizzle &lt;int&gt; | weather_description_thunderstorm with light rain &lt;int&gt; | weather_description_thunderstorm with rain &lt;int&gt; | weather_description_very heavy rain &lt;int&gt; |\n",
       "|---|---|---|---|---|---|---|---|---|---|---|---|---|---|---|---|---|---|---|---|---|\n",
       "| 0 | 0 | 0 | 40 | 5545 |  9 | 3 | 10 | 0 | 1 | ⋯ | 0 | 0 | 0 | 0 | 0 | 0 | 0 | 0 | 0 | 0 |\n",
       "| 0 | 0 | 0 | 75 | 4516 | 10 | 3 | 10 | 0 | 1 | ⋯ | 0 | 0 | 0 | 0 | 0 | 0 | 0 | 0 | 0 | 0 |\n",
       "| 0 | 0 | 0 | 90 | 4767 | 11 | 3 | 10 | 0 | 1 | ⋯ | 0 | 0 | 0 | 0 | 0 | 0 | 0 | 0 | 0 | 0 |\n",
       "| 0 | 0 | 0 | 90 | 5026 | 12 | 3 | 10 | 0 | 1 | ⋯ | 0 | 0 | 0 | 0 | 0 | 0 | 0 | 0 | 0 | 0 |\n",
       "| 0 | 0 | 0 | 75 | 4918 | 13 | 3 | 10 | 0 | 1 | ⋯ | 0 | 0 | 0 | 0 | 0 | 0 | 0 | 0 | 0 | 0 |\n",
       "| 0 | 0 | 0 |  1 | 5181 | 14 | 3 | 10 | 0 | 1 | ⋯ | 0 | 0 | 0 | 0 | 0 | 0 | 0 | 0 | 0 | 0 |\n",
       "| 0 | 0 | 0 |  1 | 5584 | 15 | 3 | 10 | 0 | 1 | ⋯ | 0 | 0 | 0 | 0 | 0 | 0 | 0 | 0 | 0 | 0 |\n",
       "| 0 | 0 | 0 |  1 | 6015 | 16 | 3 | 10 | 0 | 1 | ⋯ | 0 | 0 | 0 | 0 | 0 | 0 | 0 | 0 | 0 | 0 |\n",
       "| 0 | 0 | 0 | 20 | 5791 | 17 | 3 | 10 | 0 | 1 | ⋯ | 0 | 0 | 0 | 0 | 0 | 0 | 0 | 0 | 0 | 0 |\n",
       "| 0 | 0 | 0 | 20 | 4770 | 18 | 3 | 10 | 0 | 1 | ⋯ | 0 | 0 | 0 | 0 | 0 | 0 | 0 | 0 | 0 | 0 |\n",
       "| 0 | 0 | 0 | 20 | 3539 | 19 | 3 | 10 | 0 | 1 | ⋯ | 0 | 0 | 0 | 0 | 0 | 0 | 0 | 0 | 0 | 0 |\n",
       "| 0 | 0 | 0 |  1 | 2784 | 20 | 3 | 10 | 0 | 1 | ⋯ | 0 | 0 | 0 | 0 | 0 | 0 | 0 | 0 | 0 | 0 |\n",
       "| 0 | 0 | 0 |  1 | 2361 | 21 | 3 | 10 | 0 | 1 | ⋯ | 0 | 0 | 0 | 0 | 0 | 0 | 0 | 0 | 0 | 0 |\n",
       "| 0 | 0 | 0 |  1 | 1529 | 22 | 3 | 10 | 0 | 1 | ⋯ | 0 | 0 | 0 | 0 | 0 | 0 | 0 | 0 | 0 | 0 |\n",
       "| 0 | 0 | 0 |  1 |  963 | 23 | 3 | 10 | 0 | 1 | ⋯ | 0 | 0 | 0 | 0 | 0 | 0 | 0 | 0 | 0 | 0 |\n",
       "| 0 | 0 | 0 |  1 |  506 |  0 | 4 | 10 | 0 | 1 | ⋯ | 0 | 0 | 0 | 0 | 0 | 0 | 0 | 0 | 0 | 0 |\n",
       "| 0 | 0 | 0 |  1 |  321 |  1 | 4 | 10 | 0 | 1 | ⋯ | 0 | 0 | 0 | 0 | 0 | 0 | 0 | 0 | 0 | 0 |\n",
       "| 0 | 0 | 0 |  1 |  273 |  2 | 4 | 10 | 0 | 1 | ⋯ | 0 | 0 | 0 | 0 | 0 | 0 | 0 | 0 | 0 | 0 |\n",
       "| 0 | 0 | 0 |  1 |  367 |  3 | 4 | 10 | 0 | 1 | ⋯ | 0 | 0 | 0 | 0 | 0 | 0 | 0 | 0 | 0 | 0 |\n",
       "| 0 | 0 | 0 |  1 |  814 |  4 | 4 | 10 | 0 | 1 | ⋯ | 0 | 0 | 0 | 0 | 0 | 0 | 0 | 0 | 0 | 0 |\n",
       "| 0 | 0 | 0 |  1 | 2718 |  5 | 4 | 10 | 0 | 1 | ⋯ | 0 | 0 | 0 | 0 | 0 | 0 | 0 | 0 | 0 | 0 |\n",
       "| 0 | 0 | 0 |  1 | 5673 |  6 | 4 | 10 | 0 | 1 | ⋯ | 0 | 0 | 0 | 0 | 0 | 0 | 0 | 0 | 0 | 0 |\n",
       "| 0 | 0 | 0 |  1 | 6511 |  8 | 4 | 10 | 0 | 1 | ⋯ | 0 | 0 | 0 | 0 | 0 | 0 | 0 | 0 | 0 | 0 |\n",
       "| 0 | 0 | 0 |  1 | 5471 |  9 | 4 | 10 | 0 | 1 | ⋯ | 0 | 0 | 0 | 0 | 0 | 0 | 0 | 0 | 0 | 0 |\n",
       "| 0 | 0 | 0 |  1 | 5097 | 12 | 4 | 10 | 0 | 1 | ⋯ | 0 | 0 | 0 | 0 | 0 | 0 | 0 | 0 | 0 | 0 |\n",
       "| 0 | 0 | 0 |  1 | 4887 | 13 | 4 | 10 | 0 | 1 | ⋯ | 0 | 0 | 0 | 0 | 0 | 0 | 0 | 0 | 0 | 0 |\n",
       "| 0 | 0 | 0 |  1 | 5337 | 14 | 4 | 10 | 0 | 1 | ⋯ | 0 | 0 | 0 | 0 | 0 | 0 | 0 | 0 | 0 | 0 |\n",
       "| 1 | 0 | 0 |  1 | 5692 | 15 | 4 | 10 | 0 | 1 | ⋯ | 0 | 0 | 0 | 0 | 0 | 0 | 0 | 0 | 0 | 0 |\n",
       "| 1 | 0 | 0 |  1 | 6137 | 16 | 4 | 10 | 0 | 1 | ⋯ | 0 | 0 | 0 | 0 | 0 | 0 | 0 | 0 | 0 | 0 |\n",
       "| 0 | 0 | 0 | 20 | 4623 | 18 | 4 | 10 | 0 | 1 | ⋯ | 0 | 0 | 0 | 0 | 0 | 0 | 0 | 0 | 0 | 0 |\n",
       "| ⋮ | ⋮ | ⋮ | ⋮ | ⋮ | ⋮ | ⋮ | ⋮ | ⋮ | ⋮ | ⋱ | ⋮ | ⋮ | ⋮ | ⋮ | ⋮ | ⋮ | ⋮ | ⋮ | ⋮ | ⋮ |\n",
       "| 0 | 0 | 0 | 90 | 3338 | 20 | 7 | 9 |  0 | 1 | ⋯ | 0 | 0 | 0 | 0 | 0 | 0 | 0 | 0 | 0 | 0 |\n",
       "| 0 | 0 | 0 | 90 | 2950 | 21 | 7 | 9 |  0 | 1 | ⋯ | 0 | 0 | 0 | 0 | 0 | 0 | 0 | 0 | 0 | 0 |\n",
       "| 0 | 0 | 0 | 90 | 2607 | 22 | 7 | 9 |  0 | 1 | ⋯ | 0 | 0 | 0 | 0 | 0 | 0 | 0 | 0 | 0 | 0 |\n",
       "| 0 | 0 | 0 | 90 | 3856 | 23 | 7 | 9 |  0 | 1 | ⋯ | 0 | 0 | 0 | 0 | 0 | 0 | 0 | 0 | 0 | 0 |\n",
       "| 0 | 0 | 0 | 90 | 1826 |  0 | 1 | 9 |  0 | 1 | ⋯ | 0 | 0 | 0 | 0 | 0 | 0 | 0 | 0 | 0 | 0 |\n",
       "| 0 | 0 | 0 | 90 |  920 |  1 | 1 | 9 |  0 | 1 | ⋯ | 0 | 0 | 0 | 0 | 0 | 0 | 0 | 0 | 0 | 0 |\n",
       "| 0 | 0 | 0 | 90 |  696 |  2 | 1 | 9 |  0 | 1 | ⋯ | 0 | 0 | 0 | 0 | 0 | 0 | 0 | 0 | 0 | 0 |\n",
       "| 0 | 0 | 0 | 90 |  364 |  3 | 1 | 9 |  0 | 1 | ⋯ | 0 | 0 | 0 | 0 | 0 | 0 | 0 | 0 | 0 | 0 |\n",
       "| 0 | 0 | 0 | 90 |  335 |  4 | 1 | 9 |  0 | 1 | ⋯ | 0 | 0 | 0 | 0 | 0 | 0 | 0 | 0 | 0 | 0 |\n",
       "| 0 | 0 | 0 | 90 |  444 |  5 | 1 | 9 |  0 | 1 | ⋯ | 0 | 0 | 0 | 0 | 0 | 0 | 0 | 0 | 0 | 0 |\n",
       "| 0 | 0 | 0 | 90 |  802 |  6 | 1 | 9 |  0 | 1 | ⋯ | 0 | 0 | 0 | 0 | 0 | 0 | 0 | 0 | 0 | 0 |\n",
       "| 0 | 0 | 0 | 90 | 1175 |  7 | 1 | 9 |  0 | 1 | ⋯ | 0 | 0 | 0 | 0 | 0 | 0 | 0 | 0 | 0 | 0 |\n",
       "| 0 | 0 | 0 | 90 | 2002 |  8 | 1 | 9 |  0 | 1 | ⋯ | 0 | 0 | 0 | 0 | 0 | 0 | 0 | 0 | 0 | 0 |\n",
       "| 0 | 0 | 0 | 90 | 2882 |  9 | 1 | 9 |  0 | 1 | ⋯ | 0 | 0 | 0 | 0 | 0 | 0 | 0 | 0 | 0 | 0 |\n",
       "| 0 | 0 | 0 | 75 | 3701 | 10 | 1 | 9 |  0 | 1 | ⋯ | 0 | 0 | 0 | 0 | 0 | 0 | 0 | 0 | 0 | 0 |\n",
       "| 0 | 0 | 0 | 90 | 4049 | 11 | 1 | 9 |  0 | 1 | ⋯ | 0 | 0 | 0 | 0 | 0 | 0 | 0 | 0 | 0 | 0 |\n",
       "| 0 | 0 | 0 | 75 | 4429 | 12 | 1 | 9 |  0 | 1 | ⋯ | 0 | 0 | 0 | 0 | 0 | 0 | 0 | 0 | 0 | 0 |\n",
       "| 0 | 0 | 0 | 90 | 4547 | 13 | 1 | 9 |  0 | 1 | ⋯ | 0 | 0 | 0 | 0 | 0 | 0 | 0 | 0 | 0 | 0 |\n",
       "| 0 | 0 | 0 | 90 | 4380 | 14 | 1 | 9 |  0 | 1 | ⋯ | 0 | 0 | 0 | 0 | 0 | 0 | 0 | 0 | 0 | 0 |\n",
       "| 0 | 0 | 0 | 90 | 4380 | 14 | 1 | 9 |  0 | 1 | ⋯ | 0 | 0 | 0 | 0 | 0 | 0 | 0 | 0 | 0 | 0 |\n",
       "| 0 | 0 | 0 | 75 | 4302 | 15 | 1 | 9 |  0 | 1 | ⋯ | 0 | 0 | 0 | 0 | 0 | 0 | 0 | 0 | 0 | 0 |\n",
       "| 0 | 0 | 0 | 75 | 4302 | 15 | 1 | 9 |  0 | 1 | ⋯ | 0 | 0 | 0 | 0 | 0 | 0 | 0 | 0 | 0 | 0 |\n",
       "| 0 | 0 | 0 | 75 | 4283 | 16 | 1 | 9 |  0 | 1 | ⋯ | 0 | 0 | 0 | 0 | 0 | 0 | 0 | 0 | 0 | 0 |\n",
       "| 0 | 0 | 0 | 75 | 4132 | 17 | 1 | 9 |  0 | 1 | ⋯ | 0 | 0 | 0 | 0 | 0 | 0 | 0 | 0 | 0 | 0 |\n",
       "| 0 | 0 | 0 | 75 | 3947 | 18 | 1 | 9 | 71 | 1 | ⋯ | 0 | 0 | 0 | 0 | 0 | 0 | 0 | 0 | 0 | 0 |\n",
       "| 0 | 0 | 0 | 75 | 3543 | 19 | 1 | 9 |  0 | 1 | ⋯ | 0 | 0 | 0 | 0 | 0 | 0 | 0 | 0 | 0 | 0 |\n",
       "| 0 | 0 | 0 | 90 | 2781 | 20 | 1 | 9 |  0 | 1 | ⋯ | 0 | 0 | 0 | 0 | 0 | 0 | 0 | 0 | 0 | 0 |\n",
       "| 0 | 0 | 0 | 90 | 2159 | 21 | 1 | 9 |  0 | 1 | ⋯ | 0 | 0 | 0 | 0 | 0 | 0 | 0 | 0 | 0 | 0 |\n",
       "| 0 | 0 | 0 | 90 | 1450 | 22 | 1 | 9 |  0 | 1 | ⋯ | 0 | 0 | 0 | 0 | 0 | 0 | 0 | 0 | 0 | 0 |\n",
       "| 0 | 0 | 0 | 90 |  954 | 23 | 1 | 9 |  0 | 1 | ⋯ | 0 | 0 | 0 | 0 | 0 | 0 | 0 | 0 | 0 | 0 |\n",
       "\n"
      ],
      "text/plain": [
       "      temp rain_1h snow_1h clouds_all traffic_volume hour day_of_week month\n",
       "1     0    0       0       40         5545            9   3           10   \n",
       "2     0    0       0       75         4516           10   3           10   \n",
       "3     0    0       0       90         4767           11   3           10   \n",
       "4     0    0       0       90         5026           12   3           10   \n",
       "5     0    0       0       75         4918           13   3           10   \n",
       "6     0    0       0        1         5181           14   3           10   \n",
       "7     0    0       0        1         5584           15   3           10   \n",
       "8     0    0       0        1         6015           16   3           10   \n",
       "9     0    0       0       20         5791           17   3           10   \n",
       "10    0    0       0       20         4770           18   3           10   \n",
       "11    0    0       0       20         3539           19   3           10   \n",
       "12    0    0       0        1         2784           20   3           10   \n",
       "13    0    0       0        1         2361           21   3           10   \n",
       "14    0    0       0        1         1529           22   3           10   \n",
       "15    0    0       0        1          963           23   3           10   \n",
       "16    0    0       0        1          506            0   4           10   \n",
       "17    0    0       0        1          321            1   4           10   \n",
       "18    0    0       0        1          273            2   4           10   \n",
       "19    0    0       0        1          367            3   4           10   \n",
       "20    0    0       0        1          814            4   4           10   \n",
       "21    0    0       0        1         2718            5   4           10   \n",
       "22    0    0       0        1         5673            6   4           10   \n",
       "23    0    0       0        1         6511            8   4           10   \n",
       "24    0    0       0        1         5471            9   4           10   \n",
       "25    0    0       0        1         5097           12   4           10   \n",
       "26    0    0       0        1         4887           13   4           10   \n",
       "27    0    0       0        1         5337           14   4           10   \n",
       "28    1    0       0        1         5692           15   4           10   \n",
       "29    1    0       0        1         6137           16   4           10   \n",
       "30    0    0       0       20         4623           18   4           10   \n",
       "⋮     ⋮    ⋮       ⋮       ⋮          ⋮              ⋮    ⋮           ⋮    \n",
       "48175 0    0       0       90         3338           20   7           9    \n",
       "48176 0    0       0       90         2950           21   7           9    \n",
       "48177 0    0       0       90         2607           22   7           9    \n",
       "48178 0    0       0       90         3856           23   7           9    \n",
       "48179 0    0       0       90         1826            0   1           9    \n",
       "48180 0    0       0       90          920            1   1           9    \n",
       "48181 0    0       0       90          696            2   1           9    \n",
       "48182 0    0       0       90          364            3   1           9    \n",
       "48183 0    0       0       90          335            4   1           9    \n",
       "48184 0    0       0       90          444            5   1           9    \n",
       "48185 0    0       0       90          802            6   1           9    \n",
       "48186 0    0       0       90         1175            7   1           9    \n",
       "48187 0    0       0       90         2002            8   1           9    \n",
       "48188 0    0       0       90         2882            9   1           9    \n",
       "48189 0    0       0       75         3701           10   1           9    \n",
       "48190 0    0       0       90         4049           11   1           9    \n",
       "48191 0    0       0       75         4429           12   1           9    \n",
       "48192 0    0       0       90         4547           13   1           9    \n",
       "48193 0    0       0       90         4380           14   1           9    \n",
       "48194 0    0       0       90         4380           14   1           9    \n",
       "48195 0    0       0       75         4302           15   1           9    \n",
       "48196 0    0       0       75         4302           15   1           9    \n",
       "48197 0    0       0       75         4283           16   1           9    \n",
       "48198 0    0       0       75         4132           17   1           9    \n",
       "48199 0    0       0       75         3947           18   1           9    \n",
       "48200 0    0       0       75         3543           19   1           9    \n",
       "48201 0    0       0       90         2781           20   1           9    \n",
       "48202 0    0       0       90         2159           21   1           9    \n",
       "48203 0    0       0       90         1450           22   1           9    \n",
       "48204 0    0       0       90          954           23   1           9    \n",
       "      temp_rain_interaction holiday_0 ⋯ weather_description_smoke\n",
       "1     0                     1         ⋯ 0                        \n",
       "2     0                     1         ⋯ 0                        \n",
       "3     0                     1         ⋯ 0                        \n",
       "4     0                     1         ⋯ 0                        \n",
       "5     0                     1         ⋯ 0                        \n",
       "6     0                     1         ⋯ 0                        \n",
       "7     0                     1         ⋯ 0                        \n",
       "8     0                     1         ⋯ 0                        \n",
       "9     0                     1         ⋯ 0                        \n",
       "10    0                     1         ⋯ 0                        \n",
       "11    0                     1         ⋯ 0                        \n",
       "12    0                     1         ⋯ 0                        \n",
       "13    0                     1         ⋯ 0                        \n",
       "14    0                     1         ⋯ 0                        \n",
       "15    0                     1         ⋯ 0                        \n",
       "16    0                     1         ⋯ 0                        \n",
       "17    0                     1         ⋯ 0                        \n",
       "18    0                     1         ⋯ 0                        \n",
       "19    0                     1         ⋯ 0                        \n",
       "20    0                     1         ⋯ 0                        \n",
       "21    0                     1         ⋯ 0                        \n",
       "22    0                     1         ⋯ 0                        \n",
       "23    0                     1         ⋯ 0                        \n",
       "24    0                     1         ⋯ 0                        \n",
       "25    0                     1         ⋯ 0                        \n",
       "26    0                     1         ⋯ 0                        \n",
       "27    0                     1         ⋯ 0                        \n",
       "28    0                     1         ⋯ 0                        \n",
       "29    0                     1         ⋯ 0                        \n",
       "30    0                     1         ⋯ 0                        \n",
       "⋮     ⋮                     ⋮         ⋱ ⋮                        \n",
       "48175  0                    1         ⋯ 0                        \n",
       "48176  0                    1         ⋯ 0                        \n",
       "48177  0                    1         ⋯ 0                        \n",
       "48178  0                    1         ⋯ 0                        \n",
       "48179  0                    1         ⋯ 0                        \n",
       "48180  0                    1         ⋯ 0                        \n",
       "48181  0                    1         ⋯ 0                        \n",
       "48182  0                    1         ⋯ 0                        \n",
       "48183  0                    1         ⋯ 0                        \n",
       "48184  0                    1         ⋯ 0                        \n",
       "48185  0                    1         ⋯ 0                        \n",
       "48186  0                    1         ⋯ 0                        \n",
       "48187  0                    1         ⋯ 0                        \n",
       "48188  0                    1         ⋯ 0                        \n",
       "48189  0                    1         ⋯ 0                        \n",
       "48190  0                    1         ⋯ 0                        \n",
       "48191  0                    1         ⋯ 0                        \n",
       "48192  0                    1         ⋯ 0                        \n",
       "48193  0                    1         ⋯ 0                        \n",
       "48194  0                    1         ⋯ 0                        \n",
       "48195  0                    1         ⋯ 0                        \n",
       "48196  0                    1         ⋯ 0                        \n",
       "48197  0                    1         ⋯ 0                        \n",
       "48198  0                    1         ⋯ 0                        \n",
       "48199 71                    1         ⋯ 0                        \n",
       "48200  0                    1         ⋯ 0                        \n",
       "48201  0                    1         ⋯ 0                        \n",
       "48202  0                    1         ⋯ 0                        \n",
       "48203  0                    1         ⋯ 0                        \n",
       "48204  0                    1         ⋯ 0                        \n",
       "      weather_description_snow weather_description_SQUALLS\n",
       "1     0                        0                          \n",
       "2     0                        0                          \n",
       "3     0                        0                          \n",
       "4     0                        0                          \n",
       "5     0                        0                          \n",
       "6     0                        0                          \n",
       "7     0                        0                          \n",
       "8     0                        0                          \n",
       "9     0                        0                          \n",
       "10    0                        0                          \n",
       "11    0                        0                          \n",
       "12    0                        0                          \n",
       "13    0                        0                          \n",
       "14    0                        0                          \n",
       "15    0                        0                          \n",
       "16    0                        0                          \n",
       "17    0                        0                          \n",
       "18    0                        0                          \n",
       "19    0                        0                          \n",
       "20    0                        0                          \n",
       "21    0                        0                          \n",
       "22    0                        0                          \n",
       "23    0                        0                          \n",
       "24    0                        0                          \n",
       "25    0                        0                          \n",
       "26    0                        0                          \n",
       "27    0                        0                          \n",
       "28    0                        0                          \n",
       "29    0                        0                          \n",
       "30    0                        0                          \n",
       "⋮     ⋮                        ⋮                          \n",
       "48175 0                        0                          \n",
       "48176 0                        0                          \n",
       "48177 0                        0                          \n",
       "48178 0                        0                          \n",
       "48179 0                        0                          \n",
       "48180 0                        0                          \n",
       "48181 0                        0                          \n",
       "48182 0                        0                          \n",
       "48183 0                        0                          \n",
       "48184 0                        0                          \n",
       "48185 0                        0                          \n",
       "48186 0                        0                          \n",
       "48187 0                        0                          \n",
       "48188 0                        0                          \n",
       "48189 0                        0                          \n",
       "48190 0                        0                          \n",
       "48191 0                        0                          \n",
       "48192 0                        0                          \n",
       "48193 0                        0                          \n",
       "48194 0                        0                          \n",
       "48195 0                        0                          \n",
       "48196 0                        0                          \n",
       "48197 0                        0                          \n",
       "48198 0                        0                          \n",
       "48199 0                        0                          \n",
       "48200 0                        0                          \n",
       "48201 0                        0                          \n",
       "48202 0                        0                          \n",
       "48203 0                        0                          \n",
       "48204 0                        0                          \n",
       "      weather_description_thunderstorm\n",
       "1     0                               \n",
       "2     0                               \n",
       "3     0                               \n",
       "4     0                               \n",
       "5     0                               \n",
       "6     0                               \n",
       "7     0                               \n",
       "8     0                               \n",
       "9     0                               \n",
       "10    0                               \n",
       "11    0                               \n",
       "12    0                               \n",
       "13    0                               \n",
       "14    0                               \n",
       "15    0                               \n",
       "16    0                               \n",
       "17    0                               \n",
       "18    0                               \n",
       "19    0                               \n",
       "20    0                               \n",
       "21    0                               \n",
       "22    0                               \n",
       "23    0                               \n",
       "24    0                               \n",
       "25    0                               \n",
       "26    0                               \n",
       "27    0                               \n",
       "28    0                               \n",
       "29    0                               \n",
       "30    0                               \n",
       "⋮     ⋮                               \n",
       "48175 0                               \n",
       "48176 0                               \n",
       "48177 0                               \n",
       "48178 0                               \n",
       "48179 0                               \n",
       "48180 0                               \n",
       "48181 0                               \n",
       "48182 0                               \n",
       "48183 0                               \n",
       "48184 0                               \n",
       "48185 0                               \n",
       "48186 0                               \n",
       "48187 0                               \n",
       "48188 0                               \n",
       "48189 0                               \n",
       "48190 0                               \n",
       "48191 0                               \n",
       "48192 0                               \n",
       "48193 0                               \n",
       "48194 0                               \n",
       "48195 0                               \n",
       "48196 0                               \n",
       "48197 0                               \n",
       "48198 0                               \n",
       "48199 0                               \n",
       "48200 0                               \n",
       "48201 0                               \n",
       "48202 0                               \n",
       "48203 0                               \n",
       "48204 0                               \n",
       "      weather_description_thunderstorm with drizzle\n",
       "1     0                                            \n",
       "2     0                                            \n",
       "3     0                                            \n",
       "4     0                                            \n",
       "5     0                                            \n",
       "6     0                                            \n",
       "7     0                                            \n",
       "8     0                                            \n",
       "9     0                                            \n",
       "10    0                                            \n",
       "11    0                                            \n",
       "12    0                                            \n",
       "13    0                                            \n",
       "14    0                                            \n",
       "15    0                                            \n",
       "16    0                                            \n",
       "17    0                                            \n",
       "18    0                                            \n",
       "19    0                                            \n",
       "20    0                                            \n",
       "21    0                                            \n",
       "22    0                                            \n",
       "23    0                                            \n",
       "24    0                                            \n",
       "25    0                                            \n",
       "26    0                                            \n",
       "27    0                                            \n",
       "28    0                                            \n",
       "29    0                                            \n",
       "30    0                                            \n",
       "⋮     ⋮                                            \n",
       "48175 0                                            \n",
       "48176 0                                            \n",
       "48177 0                                            \n",
       "48178 0                                            \n",
       "48179 0                                            \n",
       "48180 0                                            \n",
       "48181 0                                            \n",
       "48182 0                                            \n",
       "48183 0                                            \n",
       "48184 0                                            \n",
       "48185 0                                            \n",
       "48186 0                                            \n",
       "48187 0                                            \n",
       "48188 0                                            \n",
       "48189 0                                            \n",
       "48190 0                                            \n",
       "48191 0                                            \n",
       "48192 0                                            \n",
       "48193 0                                            \n",
       "48194 0                                            \n",
       "48195 0                                            \n",
       "48196 0                                            \n",
       "48197 0                                            \n",
       "48198 0                                            \n",
       "48199 0                                            \n",
       "48200 0                                            \n",
       "48201 0                                            \n",
       "48202 0                                            \n",
       "48203 0                                            \n",
       "48204 0                                            \n",
       "      weather_description_thunderstorm with heavy rain\n",
       "1     0                                               \n",
       "2     0                                               \n",
       "3     0                                               \n",
       "4     0                                               \n",
       "5     0                                               \n",
       "6     0                                               \n",
       "7     0                                               \n",
       "8     0                                               \n",
       "9     0                                               \n",
       "10    0                                               \n",
       "11    0                                               \n",
       "12    0                                               \n",
       "13    0                                               \n",
       "14    0                                               \n",
       "15    0                                               \n",
       "16    0                                               \n",
       "17    0                                               \n",
       "18    0                                               \n",
       "19    0                                               \n",
       "20    0                                               \n",
       "21    0                                               \n",
       "22    0                                               \n",
       "23    0                                               \n",
       "24    0                                               \n",
       "25    0                                               \n",
       "26    0                                               \n",
       "27    0                                               \n",
       "28    0                                               \n",
       "29    0                                               \n",
       "30    0                                               \n",
       "⋮     ⋮                                               \n",
       "48175 0                                               \n",
       "48176 0                                               \n",
       "48177 0                                               \n",
       "48178 0                                               \n",
       "48179 0                                               \n",
       "48180 0                                               \n",
       "48181 0                                               \n",
       "48182 0                                               \n",
       "48183 0                                               \n",
       "48184 0                                               \n",
       "48185 0                                               \n",
       "48186 0                                               \n",
       "48187 0                                               \n",
       "48188 0                                               \n",
       "48189 0                                               \n",
       "48190 0                                               \n",
       "48191 0                                               \n",
       "48192 0                                               \n",
       "48193 0                                               \n",
       "48194 0                                               \n",
       "48195 0                                               \n",
       "48196 0                                               \n",
       "48197 0                                               \n",
       "48198 0                                               \n",
       "48199 0                                               \n",
       "48200 0                                               \n",
       "48201 0                                               \n",
       "48202 0                                               \n",
       "48203 0                                               \n",
       "48204 0                                               \n",
       "      weather_description_thunderstorm with light drizzle\n",
       "1     0                                                  \n",
       "2     0                                                  \n",
       "3     0                                                  \n",
       "4     0                                                  \n",
       "5     0                                                  \n",
       "6     0                                                  \n",
       "7     0                                                  \n",
       "8     0                                                  \n",
       "9     0                                                  \n",
       "10    0                                                  \n",
       "11    0                                                  \n",
       "12    0                                                  \n",
       "13    0                                                  \n",
       "14    0                                                  \n",
       "15    0                                                  \n",
       "16    0                                                  \n",
       "17    0                                                  \n",
       "18    0                                                  \n",
       "19    0                                                  \n",
       "20    0                                                  \n",
       "21    0                                                  \n",
       "22    0                                                  \n",
       "23    0                                                  \n",
       "24    0                                                  \n",
       "25    0                                                  \n",
       "26    0                                                  \n",
       "27    0                                                  \n",
       "28    0                                                  \n",
       "29    0                                                  \n",
       "30    0                                                  \n",
       "⋮     ⋮                                                  \n",
       "48175 0                                                  \n",
       "48176 0                                                  \n",
       "48177 0                                                  \n",
       "48178 0                                                  \n",
       "48179 0                                                  \n",
       "48180 0                                                  \n",
       "48181 0                                                  \n",
       "48182 0                                                  \n",
       "48183 0                                                  \n",
       "48184 0                                                  \n",
       "48185 0                                                  \n",
       "48186 0                                                  \n",
       "48187 0                                                  \n",
       "48188 0                                                  \n",
       "48189 0                                                  \n",
       "48190 0                                                  \n",
       "48191 0                                                  \n",
       "48192 0                                                  \n",
       "48193 0                                                  \n",
       "48194 0                                                  \n",
       "48195 0                                                  \n",
       "48196 0                                                  \n",
       "48197 0                                                  \n",
       "48198 0                                                  \n",
       "48199 0                                                  \n",
       "48200 0                                                  \n",
       "48201 0                                                  \n",
       "48202 0                                                  \n",
       "48203 0                                                  \n",
       "48204 0                                                  \n",
       "      weather_description_thunderstorm with light rain\n",
       "1     0                                               \n",
       "2     0                                               \n",
       "3     0                                               \n",
       "4     0                                               \n",
       "5     0                                               \n",
       "6     0                                               \n",
       "7     0                                               \n",
       "8     0                                               \n",
       "9     0                                               \n",
       "10    0                                               \n",
       "11    0                                               \n",
       "12    0                                               \n",
       "13    0                                               \n",
       "14    0                                               \n",
       "15    0                                               \n",
       "16    0                                               \n",
       "17    0                                               \n",
       "18    0                                               \n",
       "19    0                                               \n",
       "20    0                                               \n",
       "21    0                                               \n",
       "22    0                                               \n",
       "23    0                                               \n",
       "24    0                                               \n",
       "25    0                                               \n",
       "26    0                                               \n",
       "27    0                                               \n",
       "28    0                                               \n",
       "29    0                                               \n",
       "30    0                                               \n",
       "⋮     ⋮                                               \n",
       "48175 0                                               \n",
       "48176 0                                               \n",
       "48177 0                                               \n",
       "48178 0                                               \n",
       "48179 0                                               \n",
       "48180 0                                               \n",
       "48181 0                                               \n",
       "48182 0                                               \n",
       "48183 0                                               \n",
       "48184 0                                               \n",
       "48185 0                                               \n",
       "48186 0                                               \n",
       "48187 0                                               \n",
       "48188 0                                               \n",
       "48189 0                                               \n",
       "48190 0                                               \n",
       "48191 0                                               \n",
       "48192 0                                               \n",
       "48193 0                                               \n",
       "48194 0                                               \n",
       "48195 0                                               \n",
       "48196 0                                               \n",
       "48197 0                                               \n",
       "48198 0                                               \n",
       "48199 0                                               \n",
       "48200 0                                               \n",
       "48201 0                                               \n",
       "48202 0                                               \n",
       "48203 0                                               \n",
       "48204 0                                               \n",
       "      weather_description_thunderstorm with rain\n",
       "1     0                                         \n",
       "2     0                                         \n",
       "3     0                                         \n",
       "4     0                                         \n",
       "5     0                                         \n",
       "6     0                                         \n",
       "7     0                                         \n",
       "8     0                                         \n",
       "9     0                                         \n",
       "10    0                                         \n",
       "11    0                                         \n",
       "12    0                                         \n",
       "13    0                                         \n",
       "14    0                                         \n",
       "15    0                                         \n",
       "16    0                                         \n",
       "17    0                                         \n",
       "18    0                                         \n",
       "19    0                                         \n",
       "20    0                                         \n",
       "21    0                                         \n",
       "22    0                                         \n",
       "23    0                                         \n",
       "24    0                                         \n",
       "25    0                                         \n",
       "26    0                                         \n",
       "27    0                                         \n",
       "28    0                                         \n",
       "29    0                                         \n",
       "30    0                                         \n",
       "⋮     ⋮                                         \n",
       "48175 0                                         \n",
       "48176 0                                         \n",
       "48177 0                                         \n",
       "48178 0                                         \n",
       "48179 0                                         \n",
       "48180 0                                         \n",
       "48181 0                                         \n",
       "48182 0                                         \n",
       "48183 0                                         \n",
       "48184 0                                         \n",
       "48185 0                                         \n",
       "48186 0                                         \n",
       "48187 0                                         \n",
       "48188 0                                         \n",
       "48189 0                                         \n",
       "48190 0                                         \n",
       "48191 0                                         \n",
       "48192 0                                         \n",
       "48193 0                                         \n",
       "48194 0                                         \n",
       "48195 0                                         \n",
       "48196 0                                         \n",
       "48197 0                                         \n",
       "48198 0                                         \n",
       "48199 0                                         \n",
       "48200 0                                         \n",
       "48201 0                                         \n",
       "48202 0                                         \n",
       "48203 0                                         \n",
       "48204 0                                         \n",
       "      weather_description_very heavy rain\n",
       "1     0                                  \n",
       "2     0                                  \n",
       "3     0                                  \n",
       "4     0                                  \n",
       "5     0                                  \n",
       "6     0                                  \n",
       "7     0                                  \n",
       "8     0                                  \n",
       "9     0                                  \n",
       "10    0                                  \n",
       "11    0                                  \n",
       "12    0                                  \n",
       "13    0                                  \n",
       "14    0                                  \n",
       "15    0                                  \n",
       "16    0                                  \n",
       "17    0                                  \n",
       "18    0                                  \n",
       "19    0                                  \n",
       "20    0                                  \n",
       "21    0                                  \n",
       "22    0                                  \n",
       "23    0                                  \n",
       "24    0                                  \n",
       "25    0                                  \n",
       "26    0                                  \n",
       "27    0                                  \n",
       "28    0                                  \n",
       "29    0                                  \n",
       "30    0                                  \n",
       "⋮     ⋮                                  \n",
       "48175 0                                  \n",
       "48176 0                                  \n",
       "48177 0                                  \n",
       "48178 0                                  \n",
       "48179 0                                  \n",
       "48180 0                                  \n",
       "48181 0                                  \n",
       "48182 0                                  \n",
       "48183 0                                  \n",
       "48184 0                                  \n",
       "48185 0                                  \n",
       "48186 0                                  \n",
       "48187 0                                  \n",
       "48188 0                                  \n",
       "48189 0                                  \n",
       "48190 0                                  \n",
       "48191 0                                  \n",
       "48192 0                                  \n",
       "48193 0                                  \n",
       "48194 0                                  \n",
       "48195 0                                  \n",
       "48196 0                                  \n",
       "48197 0                                  \n",
       "48198 0                                  \n",
       "48199 0                                  \n",
       "48200 0                                  \n",
       "48201 0                                  \n",
       "48202 0                                  \n",
       "48203 0                                  \n",
       "48204 0                                  "
      ]
     },
     "metadata": {},
     "output_type": "display_data"
    }
   ],
   "source": [
    "mit_df_encoded"
   ]
  },
  {
   "cell_type": "code",
   "execution_count": 36,
   "id": "c267663a",
   "metadata": {},
   "outputs": [
    {
     "data": {
      "text/html": [
       "<style>\n",
       ".dl-inline {width: auto; margin:0; padding: 0}\n",
       ".dl-inline>dt, .dl-inline>dd {float: none; width: auto; display: inline-block}\n",
       ".dl-inline>dt::after {content: \":\\0020\"; padding-right: .5ex}\n",
       ".dl-inline>dt:not(:first-of-type) {padding-left: .5ex}\n",
       "</style><dl class=dl-inline><dt>temp</dt><dd>0</dd><dt>rain_1h</dt><dd>0</dd><dt>snow_1h</dt><dd>0</dd><dt>clouds_all</dt><dd>0</dd><dt>traffic_volume</dt><dd>0</dd><dt>hour</dt><dd>10</dd><dt>day_of_week</dt><dd>10</dd><dt>month</dt><dd>10</dd><dt>temp_rain_interaction</dt><dd>0</dd><dt>holiday_0</dt><dd>0</dd><dt>holiday_1</dt><dd>0</dd><dt>weather_main_Clear</dt><dd>0</dd><dt>weather_main_Clouds</dt><dd>0</dd><dt>weather_main_Drizzle</dt><dd>0</dd><dt>weather_main_Fog</dt><dd>0</dd><dt>weather_main_Haze</dt><dd>0</dd><dt>weather_main_Mist</dt><dd>0</dd><dt>weather_main_Rain</dt><dd>0</dd><dt>weather_main_Smoke</dt><dd>0</dd><dt>weather_main_Snow</dt><dd>0</dd><dt>weather_main_Squall</dt><dd>0</dd><dt>weather_main_Thunderstorm</dt><dd>0</dd><dt>weather_description_broken clouds</dt><dd>0</dd><dt>weather_description_drizzle</dt><dd>0</dd><dt>weather_description_few clouds</dt><dd>0</dd><dt>weather_description_fog</dt><dd>0</dd><dt>weather_description_freezing rain</dt><dd>0</dd><dt>weather_description_haze</dt><dd>0</dd><dt>weather_description_heavy intensity drizzle</dt><dd>0</dd><dt>weather_description_heavy intensity rain</dt><dd>0</dd><dt>weather_description_heavy snow</dt><dd>0</dd><dt>weather_description_light intensity drizzle</dt><dd>0</dd><dt>weather_description_light intensity shower rain</dt><dd>0</dd><dt>weather_description_light rain</dt><dd>0</dd><dt>weather_description_light rain and snow</dt><dd>0</dd><dt>weather_description_light shower snow</dt><dd>0</dd><dt>weather_description_light snow</dt><dd>0</dd><dt>weather_description_mist</dt><dd>0</dd><dt>weather_description_moderate rain</dt><dd>0</dd><dt>weather_description_overcast clouds</dt><dd>0</dd><dt>weather_description_proximity shower rain</dt><dd>0</dd><dt>weather_description_proximity thunderstorm</dt><dd>0</dd><dt>weather_description_proximity thunderstorm with drizzle</dt><dd>0</dd><dt>weather_description_proximity thunderstorm with rain</dt><dd>0</dd><dt>weather_description_scattered clouds</dt><dd>0</dd><dt>weather_description_shower drizzle</dt><dd>0</dd><dt>weather_description_shower snow</dt><dd>0</dd><dt>weather_description_sky is clear</dt><dd>0</dd><dt>weather_description_Sky is Clear</dt><dd>0</dd><dt>weather_description_sleet</dt><dd>0</dd><dt>weather_description_smoke</dt><dd>0</dd><dt>weather_description_snow</dt><dd>0</dd><dt>weather_description_SQUALLS</dt><dd>0</dd><dt>weather_description_thunderstorm</dt><dd>0</dd><dt>weather_description_thunderstorm with drizzle</dt><dd>0</dd><dt>weather_description_thunderstorm with heavy rain</dt><dd>0</dd><dt>weather_description_thunderstorm with light drizzle</dt><dd>0</dd><dt>weather_description_thunderstorm with light rain</dt><dd>0</dd><dt>weather_description_thunderstorm with rain</dt><dd>0</dd><dt>weather_description_very heavy rain</dt><dd>0</dd></dl>\n"
      ],
      "text/latex": [
       "\\begin{description*}\n",
       "\\item[temp] 0\n",
       "\\item[rain\\textbackslash{}\\_1h] 0\n",
       "\\item[snow\\textbackslash{}\\_1h] 0\n",
       "\\item[clouds\\textbackslash{}\\_all] 0\n",
       "\\item[traffic\\textbackslash{}\\_volume] 0\n",
       "\\item[hour] 10\n",
       "\\item[day\\textbackslash{}\\_of\\textbackslash{}\\_week] 10\n",
       "\\item[month] 10\n",
       "\\item[temp\\textbackslash{}\\_rain\\textbackslash{}\\_interaction] 0\n",
       "\\item[holiday\\textbackslash{}\\_0] 0\n",
       "\\item[holiday\\textbackslash{}\\_1] 0\n",
       "\\item[weather\\textbackslash{}\\_main\\textbackslash{}\\_Clear] 0\n",
       "\\item[weather\\textbackslash{}\\_main\\textbackslash{}\\_Clouds] 0\n",
       "\\item[weather\\textbackslash{}\\_main\\textbackslash{}\\_Drizzle] 0\n",
       "\\item[weather\\textbackslash{}\\_main\\textbackslash{}\\_Fog] 0\n",
       "\\item[weather\\textbackslash{}\\_main\\textbackslash{}\\_Haze] 0\n",
       "\\item[weather\\textbackslash{}\\_main\\textbackslash{}\\_Mist] 0\n",
       "\\item[weather\\textbackslash{}\\_main\\textbackslash{}\\_Rain] 0\n",
       "\\item[weather\\textbackslash{}\\_main\\textbackslash{}\\_Smoke] 0\n",
       "\\item[weather\\textbackslash{}\\_main\\textbackslash{}\\_Snow] 0\n",
       "\\item[weather\\textbackslash{}\\_main\\textbackslash{}\\_Squall] 0\n",
       "\\item[weather\\textbackslash{}\\_main\\textbackslash{}\\_Thunderstorm] 0\n",
       "\\item[weather\\textbackslash{}\\_description\\textbackslash{}\\_broken clouds] 0\n",
       "\\item[weather\\textbackslash{}\\_description\\textbackslash{}\\_drizzle] 0\n",
       "\\item[weather\\textbackslash{}\\_description\\textbackslash{}\\_few clouds] 0\n",
       "\\item[weather\\textbackslash{}\\_description\\textbackslash{}\\_fog] 0\n",
       "\\item[weather\\textbackslash{}\\_description\\textbackslash{}\\_freezing rain] 0\n",
       "\\item[weather\\textbackslash{}\\_description\\textbackslash{}\\_haze] 0\n",
       "\\item[weather\\textbackslash{}\\_description\\textbackslash{}\\_heavy intensity drizzle] 0\n",
       "\\item[weather\\textbackslash{}\\_description\\textbackslash{}\\_heavy intensity rain] 0\n",
       "\\item[weather\\textbackslash{}\\_description\\textbackslash{}\\_heavy snow] 0\n",
       "\\item[weather\\textbackslash{}\\_description\\textbackslash{}\\_light intensity drizzle] 0\n",
       "\\item[weather\\textbackslash{}\\_description\\textbackslash{}\\_light intensity shower rain] 0\n",
       "\\item[weather\\textbackslash{}\\_description\\textbackslash{}\\_light rain] 0\n",
       "\\item[weather\\textbackslash{}\\_description\\textbackslash{}\\_light rain and snow] 0\n",
       "\\item[weather\\textbackslash{}\\_description\\textbackslash{}\\_light shower snow] 0\n",
       "\\item[weather\\textbackslash{}\\_description\\textbackslash{}\\_light snow] 0\n",
       "\\item[weather\\textbackslash{}\\_description\\textbackslash{}\\_mist] 0\n",
       "\\item[weather\\textbackslash{}\\_description\\textbackslash{}\\_moderate rain] 0\n",
       "\\item[weather\\textbackslash{}\\_description\\textbackslash{}\\_overcast clouds] 0\n",
       "\\item[weather\\textbackslash{}\\_description\\textbackslash{}\\_proximity shower rain] 0\n",
       "\\item[weather\\textbackslash{}\\_description\\textbackslash{}\\_proximity thunderstorm] 0\n",
       "\\item[weather\\textbackslash{}\\_description\\textbackslash{}\\_proximity thunderstorm with drizzle] 0\n",
       "\\item[weather\\textbackslash{}\\_description\\textbackslash{}\\_proximity thunderstorm with rain] 0\n",
       "\\item[weather\\textbackslash{}\\_description\\textbackslash{}\\_scattered clouds] 0\n",
       "\\item[weather\\textbackslash{}\\_description\\textbackslash{}\\_shower drizzle] 0\n",
       "\\item[weather\\textbackslash{}\\_description\\textbackslash{}\\_shower snow] 0\n",
       "\\item[weather\\textbackslash{}\\_description\\textbackslash{}\\_sky is clear] 0\n",
       "\\item[weather\\textbackslash{}\\_description\\textbackslash{}\\_Sky is Clear] 0\n",
       "\\item[weather\\textbackslash{}\\_description\\textbackslash{}\\_sleet] 0\n",
       "\\item[weather\\textbackslash{}\\_description\\textbackslash{}\\_smoke] 0\n",
       "\\item[weather\\textbackslash{}\\_description\\textbackslash{}\\_snow] 0\n",
       "\\item[weather\\textbackslash{}\\_description\\textbackslash{}\\_SQUALLS] 0\n",
       "\\item[weather\\textbackslash{}\\_description\\textbackslash{}\\_thunderstorm] 0\n",
       "\\item[weather\\textbackslash{}\\_description\\textbackslash{}\\_thunderstorm with drizzle] 0\n",
       "\\item[weather\\textbackslash{}\\_description\\textbackslash{}\\_thunderstorm with heavy rain] 0\n",
       "\\item[weather\\textbackslash{}\\_description\\textbackslash{}\\_thunderstorm with light drizzle] 0\n",
       "\\item[weather\\textbackslash{}\\_description\\textbackslash{}\\_thunderstorm with light rain] 0\n",
       "\\item[weather\\textbackslash{}\\_description\\textbackslash{}\\_thunderstorm with rain] 0\n",
       "\\item[weather\\textbackslash{}\\_description\\textbackslash{}\\_very heavy rain] 0\n",
       "\\end{description*}\n"
      ],
      "text/markdown": [
       "temp\n",
       ":   0rain_1h\n",
       ":   0snow_1h\n",
       ":   0clouds_all\n",
       ":   0traffic_volume\n",
       ":   0hour\n",
       ":   10day_of_week\n",
       ":   10month\n",
       ":   10temp_rain_interaction\n",
       ":   0holiday_0\n",
       ":   0holiday_1\n",
       ":   0weather_main_Clear\n",
       ":   0weather_main_Clouds\n",
       ":   0weather_main_Drizzle\n",
       ":   0weather_main_Fog\n",
       ":   0weather_main_Haze\n",
       ":   0weather_main_Mist\n",
       ":   0weather_main_Rain\n",
       ":   0weather_main_Smoke\n",
       ":   0weather_main_Snow\n",
       ":   0weather_main_Squall\n",
       ":   0weather_main_Thunderstorm\n",
       ":   0weather_description_broken clouds\n",
       ":   0weather_description_drizzle\n",
       ":   0weather_description_few clouds\n",
       ":   0weather_description_fog\n",
       ":   0weather_description_freezing rain\n",
       ":   0weather_description_haze\n",
       ":   0weather_description_heavy intensity drizzle\n",
       ":   0weather_description_heavy intensity rain\n",
       ":   0weather_description_heavy snow\n",
       ":   0weather_description_light intensity drizzle\n",
       ":   0weather_description_light intensity shower rain\n",
       ":   0weather_description_light rain\n",
       ":   0weather_description_light rain and snow\n",
       ":   0weather_description_light shower snow\n",
       ":   0weather_description_light snow\n",
       ":   0weather_description_mist\n",
       ":   0weather_description_moderate rain\n",
       ":   0weather_description_overcast clouds\n",
       ":   0weather_description_proximity shower rain\n",
       ":   0weather_description_proximity thunderstorm\n",
       ":   0weather_description_proximity thunderstorm with drizzle\n",
       ":   0weather_description_proximity thunderstorm with rain\n",
       ":   0weather_description_scattered clouds\n",
       ":   0weather_description_shower drizzle\n",
       ":   0weather_description_shower snow\n",
       ":   0weather_description_sky is clear\n",
       ":   0weather_description_Sky is Clear\n",
       ":   0weather_description_sleet\n",
       ":   0weather_description_smoke\n",
       ":   0weather_description_snow\n",
       ":   0weather_description_SQUALLS\n",
       ":   0weather_description_thunderstorm\n",
       ":   0weather_description_thunderstorm with drizzle\n",
       ":   0weather_description_thunderstorm with heavy rain\n",
       ":   0weather_description_thunderstorm with light drizzle\n",
       ":   0weather_description_thunderstorm with light rain\n",
       ":   0weather_description_thunderstorm with rain\n",
       ":   0weather_description_very heavy rain\n",
       ":   0\n",
       "\n"
      ],
      "text/plain": [
       "                                                   temp \n",
       "                                                      0 \n",
       "                                                rain_1h \n",
       "                                                      0 \n",
       "                                                snow_1h \n",
       "                                                      0 \n",
       "                                             clouds_all \n",
       "                                                      0 \n",
       "                                         traffic_volume \n",
       "                                                      0 \n",
       "                                                   hour \n",
       "                                                     10 \n",
       "                                            day_of_week \n",
       "                                                     10 \n",
       "                                                  month \n",
       "                                                     10 \n",
       "                                  temp_rain_interaction \n",
       "                                                      0 \n",
       "                                              holiday_0 \n",
       "                                                      0 \n",
       "                                              holiday_1 \n",
       "                                                      0 \n",
       "                                     weather_main_Clear \n",
       "                                                      0 \n",
       "                                    weather_main_Clouds \n",
       "                                                      0 \n",
       "                                   weather_main_Drizzle \n",
       "                                                      0 \n",
       "                                       weather_main_Fog \n",
       "                                                      0 \n",
       "                                      weather_main_Haze \n",
       "                                                      0 \n",
       "                                      weather_main_Mist \n",
       "                                                      0 \n",
       "                                      weather_main_Rain \n",
       "                                                      0 \n",
       "                                     weather_main_Smoke \n",
       "                                                      0 \n",
       "                                      weather_main_Snow \n",
       "                                                      0 \n",
       "                                    weather_main_Squall \n",
       "                                                      0 \n",
       "                              weather_main_Thunderstorm \n",
       "                                                      0 \n",
       "                      weather_description_broken clouds \n",
       "                                                      0 \n",
       "                            weather_description_drizzle \n",
       "                                                      0 \n",
       "                         weather_description_few clouds \n",
       "                                                      0 \n",
       "                                weather_description_fog \n",
       "                                                      0 \n",
       "                      weather_description_freezing rain \n",
       "                                                      0 \n",
       "                               weather_description_haze \n",
       "                                                      0 \n",
       "            weather_description_heavy intensity drizzle \n",
       "                                                      0 \n",
       "               weather_description_heavy intensity rain \n",
       "                                                      0 \n",
       "                         weather_description_heavy snow \n",
       "                                                      0 \n",
       "            weather_description_light intensity drizzle \n",
       "                                                      0 \n",
       "        weather_description_light intensity shower rain \n",
       "                                                      0 \n",
       "                         weather_description_light rain \n",
       "                                                      0 \n",
       "                weather_description_light rain and snow \n",
       "                                                      0 \n",
       "                  weather_description_light shower snow \n",
       "                                                      0 \n",
       "                         weather_description_light snow \n",
       "                                                      0 \n",
       "                               weather_description_mist \n",
       "                                                      0 \n",
       "                      weather_description_moderate rain \n",
       "                                                      0 \n",
       "                    weather_description_overcast clouds \n",
       "                                                      0 \n",
       "              weather_description_proximity shower rain \n",
       "                                                      0 \n",
       "             weather_description_proximity thunderstorm \n",
       "                                                      0 \n",
       "weather_description_proximity thunderstorm with drizzle \n",
       "                                                      0 \n",
       "   weather_description_proximity thunderstorm with rain \n",
       "                                                      0 \n",
       "                   weather_description_scattered clouds \n",
       "                                                      0 \n",
       "                     weather_description_shower drizzle \n",
       "                                                      0 \n",
       "                        weather_description_shower snow \n",
       "                                                      0 \n",
       "                       weather_description_sky is clear \n",
       "                                                      0 \n",
       "                       weather_description_Sky is Clear \n",
       "                                                      0 \n",
       "                              weather_description_sleet \n",
       "                                                      0 \n",
       "                              weather_description_smoke \n",
       "                                                      0 \n",
       "                               weather_description_snow \n",
       "                                                      0 \n",
       "                            weather_description_SQUALLS \n",
       "                                                      0 \n",
       "                       weather_description_thunderstorm \n",
       "                                                      0 \n",
       "          weather_description_thunderstorm with drizzle \n",
       "                                                      0 \n",
       "       weather_description_thunderstorm with heavy rain \n",
       "                                                      0 \n",
       "    weather_description_thunderstorm with light drizzle \n",
       "                                                      0 \n",
       "       weather_description_thunderstorm with light rain \n",
       "                                                      0 \n",
       "             weather_description_thunderstorm with rain \n",
       "                                                      0 \n",
       "                    weather_description_very heavy rain \n",
       "                                                      0 "
      ]
     },
     "metadata": {},
     "output_type": "display_data"
    }
   ],
   "source": [
    "colSums(is.na(mit_df_encoded))"
   ]
  },
  {
   "cell_type": "code",
   "execution_count": 37,
   "id": "09bf2bd2",
   "metadata": {},
   "outputs": [
    {
     "data": {
      "text/html": [
       "<style>\n",
       ".dl-inline {width: auto; margin:0; padding: 0}\n",
       ".dl-inline>dt, .dl-inline>dd {float: none; width: auto; display: inline-block}\n",
       ".dl-inline>dt::after {content: \":\\0020\"; padding-right: .5ex}\n",
       ".dl-inline>dt:not(:first-of-type) {padding-left: .5ex}\n",
       "</style><dl class=dl-inline><dt>temp</dt><dd>0</dd><dt>rain_1h</dt><dd>0</dd><dt>snow_1h</dt><dd>0</dd><dt>clouds_all</dt><dd>0</dd><dt>traffic_volume</dt><dd>0</dd><dt>hour</dt><dd>0</dd><dt>day_of_week</dt><dd>0</dd><dt>month</dt><dd>0</dd><dt>temp_rain_interaction</dt><dd>0</dd><dt>holiday_0</dt><dd>0</dd><dt>holiday_1</dt><dd>0</dd><dt>weather_main_Clear</dt><dd>0</dd><dt>weather_main_Clouds</dt><dd>0</dd><dt>weather_main_Drizzle</dt><dd>0</dd><dt>weather_main_Fog</dt><dd>0</dd><dt>weather_main_Haze</dt><dd>0</dd><dt>weather_main_Mist</dt><dd>0</dd><dt>weather_main_Rain</dt><dd>0</dd><dt>weather_main_Smoke</dt><dd>0</dd><dt>weather_main_Snow</dt><dd>0</dd><dt>weather_main_Squall</dt><dd>0</dd><dt>weather_main_Thunderstorm</dt><dd>0</dd><dt>weather_description_broken clouds</dt><dd>0</dd><dt>weather_description_drizzle</dt><dd>0</dd><dt>weather_description_few clouds</dt><dd>0</dd><dt>weather_description_fog</dt><dd>0</dd><dt>weather_description_freezing rain</dt><dd>0</dd><dt>weather_description_haze</dt><dd>0</dd><dt>weather_description_heavy intensity drizzle</dt><dd>0</dd><dt>weather_description_heavy intensity rain</dt><dd>0</dd><dt>weather_description_heavy snow</dt><dd>0</dd><dt>weather_description_light intensity drizzle</dt><dd>0</dd><dt>weather_description_light intensity shower rain</dt><dd>0</dd><dt>weather_description_light rain</dt><dd>0</dd><dt>weather_description_light rain and snow</dt><dd>0</dd><dt>weather_description_light shower snow</dt><dd>0</dd><dt>weather_description_light snow</dt><dd>0</dd><dt>weather_description_mist</dt><dd>0</dd><dt>weather_description_moderate rain</dt><dd>0</dd><dt>weather_description_overcast clouds</dt><dd>0</dd><dt>weather_description_proximity shower rain</dt><dd>0</dd><dt>weather_description_proximity thunderstorm</dt><dd>0</dd><dt>weather_description_proximity thunderstorm with drizzle</dt><dd>0</dd><dt>weather_description_proximity thunderstorm with rain</dt><dd>0</dd><dt>weather_description_scattered clouds</dt><dd>0</dd><dt>weather_description_shower drizzle</dt><dd>0</dd><dt>weather_description_shower snow</dt><dd>0</dd><dt>weather_description_sky is clear</dt><dd>0</dd><dt>weather_description_Sky is Clear</dt><dd>0</dd><dt>weather_description_sleet</dt><dd>0</dd><dt>weather_description_smoke</dt><dd>0</dd><dt>weather_description_snow</dt><dd>0</dd><dt>weather_description_SQUALLS</dt><dd>0</dd><dt>weather_description_thunderstorm</dt><dd>0</dd><dt>weather_description_thunderstorm with drizzle</dt><dd>0</dd><dt>weather_description_thunderstorm with heavy rain</dt><dd>0</dd><dt>weather_description_thunderstorm with light drizzle</dt><dd>0</dd><dt>weather_description_thunderstorm with light rain</dt><dd>0</dd><dt>weather_description_thunderstorm with rain</dt><dd>0</dd><dt>weather_description_very heavy rain</dt><dd>0</dd></dl>\n"
      ],
      "text/latex": [
       "\\begin{description*}\n",
       "\\item[temp] 0\n",
       "\\item[rain\\textbackslash{}\\_1h] 0\n",
       "\\item[snow\\textbackslash{}\\_1h] 0\n",
       "\\item[clouds\\textbackslash{}\\_all] 0\n",
       "\\item[traffic\\textbackslash{}\\_volume] 0\n",
       "\\item[hour] 0\n",
       "\\item[day\\textbackslash{}\\_of\\textbackslash{}\\_week] 0\n",
       "\\item[month] 0\n",
       "\\item[temp\\textbackslash{}\\_rain\\textbackslash{}\\_interaction] 0\n",
       "\\item[holiday\\textbackslash{}\\_0] 0\n",
       "\\item[holiday\\textbackslash{}\\_1] 0\n",
       "\\item[weather\\textbackslash{}\\_main\\textbackslash{}\\_Clear] 0\n",
       "\\item[weather\\textbackslash{}\\_main\\textbackslash{}\\_Clouds] 0\n",
       "\\item[weather\\textbackslash{}\\_main\\textbackslash{}\\_Drizzle] 0\n",
       "\\item[weather\\textbackslash{}\\_main\\textbackslash{}\\_Fog] 0\n",
       "\\item[weather\\textbackslash{}\\_main\\textbackslash{}\\_Haze] 0\n",
       "\\item[weather\\textbackslash{}\\_main\\textbackslash{}\\_Mist] 0\n",
       "\\item[weather\\textbackslash{}\\_main\\textbackslash{}\\_Rain] 0\n",
       "\\item[weather\\textbackslash{}\\_main\\textbackslash{}\\_Smoke] 0\n",
       "\\item[weather\\textbackslash{}\\_main\\textbackslash{}\\_Snow] 0\n",
       "\\item[weather\\textbackslash{}\\_main\\textbackslash{}\\_Squall] 0\n",
       "\\item[weather\\textbackslash{}\\_main\\textbackslash{}\\_Thunderstorm] 0\n",
       "\\item[weather\\textbackslash{}\\_description\\textbackslash{}\\_broken clouds] 0\n",
       "\\item[weather\\textbackslash{}\\_description\\textbackslash{}\\_drizzle] 0\n",
       "\\item[weather\\textbackslash{}\\_description\\textbackslash{}\\_few clouds] 0\n",
       "\\item[weather\\textbackslash{}\\_description\\textbackslash{}\\_fog] 0\n",
       "\\item[weather\\textbackslash{}\\_description\\textbackslash{}\\_freezing rain] 0\n",
       "\\item[weather\\textbackslash{}\\_description\\textbackslash{}\\_haze] 0\n",
       "\\item[weather\\textbackslash{}\\_description\\textbackslash{}\\_heavy intensity drizzle] 0\n",
       "\\item[weather\\textbackslash{}\\_description\\textbackslash{}\\_heavy intensity rain] 0\n",
       "\\item[weather\\textbackslash{}\\_description\\textbackslash{}\\_heavy snow] 0\n",
       "\\item[weather\\textbackslash{}\\_description\\textbackslash{}\\_light intensity drizzle] 0\n",
       "\\item[weather\\textbackslash{}\\_description\\textbackslash{}\\_light intensity shower rain] 0\n",
       "\\item[weather\\textbackslash{}\\_description\\textbackslash{}\\_light rain] 0\n",
       "\\item[weather\\textbackslash{}\\_description\\textbackslash{}\\_light rain and snow] 0\n",
       "\\item[weather\\textbackslash{}\\_description\\textbackslash{}\\_light shower snow] 0\n",
       "\\item[weather\\textbackslash{}\\_description\\textbackslash{}\\_light snow] 0\n",
       "\\item[weather\\textbackslash{}\\_description\\textbackslash{}\\_mist] 0\n",
       "\\item[weather\\textbackslash{}\\_description\\textbackslash{}\\_moderate rain] 0\n",
       "\\item[weather\\textbackslash{}\\_description\\textbackslash{}\\_overcast clouds] 0\n",
       "\\item[weather\\textbackslash{}\\_description\\textbackslash{}\\_proximity shower rain] 0\n",
       "\\item[weather\\textbackslash{}\\_description\\textbackslash{}\\_proximity thunderstorm] 0\n",
       "\\item[weather\\textbackslash{}\\_description\\textbackslash{}\\_proximity thunderstorm with drizzle] 0\n",
       "\\item[weather\\textbackslash{}\\_description\\textbackslash{}\\_proximity thunderstorm with rain] 0\n",
       "\\item[weather\\textbackslash{}\\_description\\textbackslash{}\\_scattered clouds] 0\n",
       "\\item[weather\\textbackslash{}\\_description\\textbackslash{}\\_shower drizzle] 0\n",
       "\\item[weather\\textbackslash{}\\_description\\textbackslash{}\\_shower snow] 0\n",
       "\\item[weather\\textbackslash{}\\_description\\textbackslash{}\\_sky is clear] 0\n",
       "\\item[weather\\textbackslash{}\\_description\\textbackslash{}\\_Sky is Clear] 0\n",
       "\\item[weather\\textbackslash{}\\_description\\textbackslash{}\\_sleet] 0\n",
       "\\item[weather\\textbackslash{}\\_description\\textbackslash{}\\_smoke] 0\n",
       "\\item[weather\\textbackslash{}\\_description\\textbackslash{}\\_snow] 0\n",
       "\\item[weather\\textbackslash{}\\_description\\textbackslash{}\\_SQUALLS] 0\n",
       "\\item[weather\\textbackslash{}\\_description\\textbackslash{}\\_thunderstorm] 0\n",
       "\\item[weather\\textbackslash{}\\_description\\textbackslash{}\\_thunderstorm with drizzle] 0\n",
       "\\item[weather\\textbackslash{}\\_description\\textbackslash{}\\_thunderstorm with heavy rain] 0\n",
       "\\item[weather\\textbackslash{}\\_description\\textbackslash{}\\_thunderstorm with light drizzle] 0\n",
       "\\item[weather\\textbackslash{}\\_description\\textbackslash{}\\_thunderstorm with light rain] 0\n",
       "\\item[weather\\textbackslash{}\\_description\\textbackslash{}\\_thunderstorm with rain] 0\n",
       "\\item[weather\\textbackslash{}\\_description\\textbackslash{}\\_very heavy rain] 0\n",
       "\\end{description*}\n"
      ],
      "text/markdown": [
       "temp\n",
       ":   0rain_1h\n",
       ":   0snow_1h\n",
       ":   0clouds_all\n",
       ":   0traffic_volume\n",
       ":   0hour\n",
       ":   0day_of_week\n",
       ":   0month\n",
       ":   0temp_rain_interaction\n",
       ":   0holiday_0\n",
       ":   0holiday_1\n",
       ":   0weather_main_Clear\n",
       ":   0weather_main_Clouds\n",
       ":   0weather_main_Drizzle\n",
       ":   0weather_main_Fog\n",
       ":   0weather_main_Haze\n",
       ":   0weather_main_Mist\n",
       ":   0weather_main_Rain\n",
       ":   0weather_main_Smoke\n",
       ":   0weather_main_Snow\n",
       ":   0weather_main_Squall\n",
       ":   0weather_main_Thunderstorm\n",
       ":   0weather_description_broken clouds\n",
       ":   0weather_description_drizzle\n",
       ":   0weather_description_few clouds\n",
       ":   0weather_description_fog\n",
       ":   0weather_description_freezing rain\n",
       ":   0weather_description_haze\n",
       ":   0weather_description_heavy intensity drizzle\n",
       ":   0weather_description_heavy intensity rain\n",
       ":   0weather_description_heavy snow\n",
       ":   0weather_description_light intensity drizzle\n",
       ":   0weather_description_light intensity shower rain\n",
       ":   0weather_description_light rain\n",
       ":   0weather_description_light rain and snow\n",
       ":   0weather_description_light shower snow\n",
       ":   0weather_description_light snow\n",
       ":   0weather_description_mist\n",
       ":   0weather_description_moderate rain\n",
       ":   0weather_description_overcast clouds\n",
       ":   0weather_description_proximity shower rain\n",
       ":   0weather_description_proximity thunderstorm\n",
       ":   0weather_description_proximity thunderstorm with drizzle\n",
       ":   0weather_description_proximity thunderstorm with rain\n",
       ":   0weather_description_scattered clouds\n",
       ":   0weather_description_shower drizzle\n",
       ":   0weather_description_shower snow\n",
       ":   0weather_description_sky is clear\n",
       ":   0weather_description_Sky is Clear\n",
       ":   0weather_description_sleet\n",
       ":   0weather_description_smoke\n",
       ":   0weather_description_snow\n",
       ":   0weather_description_SQUALLS\n",
       ":   0weather_description_thunderstorm\n",
       ":   0weather_description_thunderstorm with drizzle\n",
       ":   0weather_description_thunderstorm with heavy rain\n",
       ":   0weather_description_thunderstorm with light drizzle\n",
       ":   0weather_description_thunderstorm with light rain\n",
       ":   0weather_description_thunderstorm with rain\n",
       ":   0weather_description_very heavy rain\n",
       ":   0\n",
       "\n"
      ],
      "text/plain": [
       "                                                   temp \n",
       "                                                      0 \n",
       "                                                rain_1h \n",
       "                                                      0 \n",
       "                                                snow_1h \n",
       "                                                      0 \n",
       "                                             clouds_all \n",
       "                                                      0 \n",
       "                                         traffic_volume \n",
       "                                                      0 \n",
       "                                                   hour \n",
       "                                                      0 \n",
       "                                            day_of_week \n",
       "                                                      0 \n",
       "                                                  month \n",
       "                                                      0 \n",
       "                                  temp_rain_interaction \n",
       "                                                      0 \n",
       "                                              holiday_0 \n",
       "                                                      0 \n",
       "                                              holiday_1 \n",
       "                                                      0 \n",
       "                                     weather_main_Clear \n",
       "                                                      0 \n",
       "                                    weather_main_Clouds \n",
       "                                                      0 \n",
       "                                   weather_main_Drizzle \n",
       "                                                      0 \n",
       "                                       weather_main_Fog \n",
       "                                                      0 \n",
       "                                      weather_main_Haze \n",
       "                                                      0 \n",
       "                                      weather_main_Mist \n",
       "                                                      0 \n",
       "                                      weather_main_Rain \n",
       "                                                      0 \n",
       "                                     weather_main_Smoke \n",
       "                                                      0 \n",
       "                                      weather_main_Snow \n",
       "                                                      0 \n",
       "                                    weather_main_Squall \n",
       "                                                      0 \n",
       "                              weather_main_Thunderstorm \n",
       "                                                      0 \n",
       "                      weather_description_broken clouds \n",
       "                                                      0 \n",
       "                            weather_description_drizzle \n",
       "                                                      0 \n",
       "                         weather_description_few clouds \n",
       "                                                      0 \n",
       "                                weather_description_fog \n",
       "                                                      0 \n",
       "                      weather_description_freezing rain \n",
       "                                                      0 \n",
       "                               weather_description_haze \n",
       "                                                      0 \n",
       "            weather_description_heavy intensity drizzle \n",
       "                                                      0 \n",
       "               weather_description_heavy intensity rain \n",
       "                                                      0 \n",
       "                         weather_description_heavy snow \n",
       "                                                      0 \n",
       "            weather_description_light intensity drizzle \n",
       "                                                      0 \n",
       "        weather_description_light intensity shower rain \n",
       "                                                      0 \n",
       "                         weather_description_light rain \n",
       "                                                      0 \n",
       "                weather_description_light rain and snow \n",
       "                                                      0 \n",
       "                  weather_description_light shower snow \n",
       "                                                      0 \n",
       "                         weather_description_light snow \n",
       "                                                      0 \n",
       "                               weather_description_mist \n",
       "                                                      0 \n",
       "                      weather_description_moderate rain \n",
       "                                                      0 \n",
       "                    weather_description_overcast clouds \n",
       "                                                      0 \n",
       "              weather_description_proximity shower rain \n",
       "                                                      0 \n",
       "             weather_description_proximity thunderstorm \n",
       "                                                      0 \n",
       "weather_description_proximity thunderstorm with drizzle \n",
       "                                                      0 \n",
       "   weather_description_proximity thunderstorm with rain \n",
       "                                                      0 \n",
       "                   weather_description_scattered clouds \n",
       "                                                      0 \n",
       "                     weather_description_shower drizzle \n",
       "                                                      0 \n",
       "                        weather_description_shower snow \n",
       "                                                      0 \n",
       "                       weather_description_sky is clear \n",
       "                                                      0 \n",
       "                       weather_description_Sky is Clear \n",
       "                                                      0 \n",
       "                              weather_description_sleet \n",
       "                                                      0 \n",
       "                              weather_description_smoke \n",
       "                                                      0 \n",
       "                               weather_description_snow \n",
       "                                                      0 \n",
       "                            weather_description_SQUALLS \n",
       "                                                      0 \n",
       "                       weather_description_thunderstorm \n",
       "                                                      0 \n",
       "          weather_description_thunderstorm with drizzle \n",
       "                                                      0 \n",
       "       weather_description_thunderstorm with heavy rain \n",
       "                                                      0 \n",
       "    weather_description_thunderstorm with light drizzle \n",
       "                                                      0 \n",
       "       weather_description_thunderstorm with light rain \n",
       "                                                      0 \n",
       "             weather_description_thunderstorm with rain \n",
       "                                                      0 \n",
       "                    weather_description_very heavy rain \n",
       "                                                      0 "
      ]
     },
     "metadata": {},
     "output_type": "display_data"
    }
   ],
   "source": [
    "# Impute NAs using the median for each column\n",
    "mit_df_encoded <- mit_df_encoded %>%\n",
    "  mutate(across(where(is.numeric), ~ ifelse(is.na(.), median(., na.rm = TRUE), .)))\n",
    "\n",
    "# Confirm no more NAs\n",
    "colSums(is.na(mit_df_encoded))"
   ]
  },
  {
   "cell_type": "code",
   "execution_count": 38,
   "id": "29554bba",
   "metadata": {},
   "outputs": [],
   "source": [
    "# Saving the data frame to a CSV file\n",
    "write.csv(mit_df_encoded, \"R_Preprocessed_Metro_Interstate_Traffic_Volume.csv\", row.names = TRUE)"
   ]
  },
  {
   "cell_type": "code",
   "execution_count": 39,
   "id": "6daf2e00",
   "metadata": {},
   "outputs": [
    {
     "name": "stderr",
     "output_type": "stream",
     "text": [
      "Installing package into 'C:/Users/tenyj/AppData/Local/R/win-library/4.3'\n",
      "(as 'lib' is unspecified)\n",
      "\n"
     ]
    },
    {
     "name": "stdout",
     "output_type": "stream",
     "text": [
      "package 'randomForest' successfully unpacked and MD5 sums checked\n"
     ]
    },
    {
     "name": "stderr",
     "output_type": "stream",
     "text": [
      "Warning message:\n",
      "\"cannot remove prior installation of package 'randomForest'\"\n",
      "Warning message in file.copy(savedcopy, lib, recursive = TRUE):\n",
      "\"problem copying C:\\Users\\tenyj\\AppData\\Local\\R\\win-library\\4.3\\00LOCK\\randomForest\\libs\\x64\\randomForest.dll to C:\\Users\\tenyj\\AppData\\Local\\R\\win-library\\4.3\\randomForest\\libs\\x64\\randomForest.dll: Permission denied\"\n",
      "Warning message:\n",
      "\"restored 'randomForest'\"\n"
     ]
    },
    {
     "name": "stdout",
     "output_type": "stream",
     "text": [
      "\n",
      "The downloaded binary packages are in\n",
      "\tC:\\Users\\tenyj\\AppData\\Local\\Temp\\RtmpMfg7X2\\downloaded_packages\n"
     ]
    },
    {
     "name": "stderr",
     "output_type": "stream",
     "text": [
      "Installing package into 'C:/Users/tenyj/AppData/Local/R/win-library/4.3'\n",
      "(as 'lib' is unspecified)\n",
      "\n"
     ]
    },
    {
     "name": "stdout",
     "output_type": "stream",
     "text": [
      "package 'caret' successfully unpacked and MD5 sums checked\n"
     ]
    },
    {
     "name": "stderr",
     "output_type": "stream",
     "text": [
      "Warning message:\n",
      "\"cannot remove prior installation of package 'caret'\"\n",
      "Warning message in file.copy(savedcopy, lib, recursive = TRUE):\n",
      "\"problem copying C:\\Users\\tenyj\\AppData\\Local\\R\\win-library\\4.3\\00LOCK\\caret\\libs\\x64\\caret.dll to C:\\Users\\tenyj\\AppData\\Local\\R\\win-library\\4.3\\caret\\libs\\x64\\caret.dll: Permission denied\"\n",
      "Warning message:\n",
      "\"restored 'caret'\"\n"
     ]
    },
    {
     "name": "stdout",
     "output_type": "stream",
     "text": [
      "\n",
      "The downloaded binary packages are in\n",
      "\tC:\\Users\\tenyj\\AppData\\Local\\Temp\\RtmpMfg7X2\\downloaded_packages\n"
     ]
    },
    {
     "name": "stderr",
     "output_type": "stream",
     "text": [
      "Warning message:\n",
      "\"package 'randomForest' was built under R version 4.3.3\"\n",
      "randomForest 4.7-1.1\n",
      "\n",
      "Type rfNews() to see new features/changes/bug fixes.\n",
      "\n",
      "\n",
      "Attaching package: 'randomForest'\n",
      "\n",
      "\n",
      "The following object is masked from 'package:gridExtra':\n",
      "\n",
      "    combine\n",
      "\n",
      "\n",
      "The following object is masked from 'package:ggplot2':\n",
      "\n",
      "    margin\n",
      "\n",
      "\n",
      "The following object is masked from 'package:dplyr':\n",
      "\n",
      "    combine\n",
      "\n",
      "\n",
      "Warning message:\n",
      "\"package 'caret' was built under R version 4.3.3\"\n",
      "Loading required package: lattice\n",
      "\n"
     ]
    }
   ],
   "source": [
    "install.packages(\"randomForest\")\n",
    "install.packages(\"caret\")\n",
    "\n",
    "library(randomForest)\n",
    "library(caret)\n"
   ]
  },
  {
   "cell_type": "code",
   "execution_count": 40,
   "id": "656ff0ba",
   "metadata": {},
   "outputs": [],
   "source": [
    "# Set seed for reproducibility, same as random_state in Python\n",
    "set.seed(42)\n",
    "\n",
    "# Splitting the dataset into training and testing sets using caret\n",
    "trainIndex <- createDataPartition(mit_df_encoded$traffic_volume, p = 0.7, list = FALSE, times = 1)\n",
    "trainData <- mit_df_encoded[trainIndex, ]\n",
    "testData <- mit_df_encoded[-trainIndex, ]\n",
    "\n",
    "# Separating predictors and response\n",
    "X_train <- trainData[, !(names(trainData) %in% c(\"traffic_volume\"))]\n",
    "y_train <- trainData$traffic_volume\n",
    "X_test <- testData[, !(names(testData) %in% c(\"traffic_volume\"))]\n",
    "y_test <- testData$traffic_volume\n"
   ]
  },
  {
   "cell_type": "code",
   "execution_count": 41,
   "id": "f1eb938e",
   "metadata": {},
   "outputs": [],
   "source": [
    "set.seed(42)\n",
    "\n",
    "rf_model <- randomForest(X_train, y_train, ntree = 100)\n"
   ]
  },
  {
   "cell_type": "code",
   "execution_count": 42,
   "id": "3ca455a6",
   "metadata": {},
   "outputs": [
    {
     "name": "stdout",
     "output_type": "stream",
     "text": [
      "\n",
      "Call:\n",
      " randomForest(x = X_train, y = y_train, ntree = 100) \n",
      "               Type of random forest: regression\n",
      "                     Number of trees: 100\n",
      "No. of variables tried at each split: 19\n",
      "\n",
      "          Mean of squared residuals: 248173.5\n",
      "                    % Var explained: 93.72\n"
     ]
    }
   ],
   "source": [
    "print(rf_model)"
   ]
  },
  {
   "cell_type": "code",
   "execution_count": 43,
   "id": "9a749002",
   "metadata": {},
   "outputs": [
    {
     "name": "stdout",
     "output_type": "stream",
     "text": [
      "[1] \"RMSE: 502.618873886111\"\n",
      "[1] \"R^2: 0.938120269037994\"\n"
     ]
    }
   ],
   "source": [
    "# predictions\n",
    "predictions <- predict(rf_model, X_test)\n",
    "\n",
    "rmse <- sqrt(mean((predictions - y_test)^2))\n",
    "r2 <- cor(predictions, y_test)^2\n",
    "\n",
    "print(paste(\"RMSE:\", rmse))\n",
    "print(paste(\"R^2:\", r2))\n"
   ]
  },
  {
   "cell_type": "code",
   "execution_count": 44,
   "id": "becf40fa",
   "metadata": {},
   "outputs": [
    {
     "name": "stdout",
     "output_type": "stream",
     "text": [
      "Random Forest MSE: 252625.732387"
     ]
    }
   ],
   "source": [
    "# MSE\n",
    "mse_rf <- mean((y_test - predictions)^2)\n",
    "cat(sprintf(\"Random Forest MSE: %f\", mse_rf))\n"
   ]
  },
  {
   "cell_type": "code",
   "execution_count": 45,
   "id": "f10b395a",
   "metadata": {},
   "outputs": [
    {
     "name": "stderr",
     "output_type": "stream",
     "text": [
      "Warning message:\n",
      "\"package 'Metrics' was built under R version 4.3.3\"\n",
      "\n",
      "Attaching package: 'Metrics'\n",
      "\n",
      "\n",
      "The following objects are masked from 'package:caret':\n",
      "\n",
      "    precision, recall\n",
      "\n",
      "\n"
     ]
    },
    {
     "name": "stdout",
     "output_type": "stream",
     "text": [
      "[1] \"Mean Absolute Error (MAE): 319.771436768012\"\n"
     ]
    }
   ],
   "source": [
    "library(Metrics)\n",
    "\n",
    "#  MAE\n",
    "mae<- mae(y_test,predictions)\n",
    "print(paste(\"Mean Absolute Error (MAE):\", mae))"
   ]
  },
  {
   "cell_type": "code",
   "execution_count": 46,
   "id": "455404d1",
   "metadata": {},
   "outputs": [
    {
     "name": "stderr",
     "output_type": "stream",
     "text": [
      "Warning message:\n",
      "\"package 'ggplot2' is in use and will not be installed\"\n"
     ]
    },
    {
     "data": {
      "image/png": "[encoded data removed]",
      "text/plain": [
       "plot without title"
      ]
     },
     "metadata": {
      "image/png": {
       "height": 420,
       "width": 420
      }
     },
     "output_type": "display_data"
    }
   ],
   "source": [
    "install.packages(\"ggplot2\")\n",
    "library(ggplot2)\n",
    "\n",
    "\n",
    "plot_data <- data.frame(Actual_Prices = y_test, Predicted_Prices = predictions)\n",
    "\n",
    "# Create the scatter plot\n",
    "scatter_plot <- ggplot(plot_data, aes(x = Actual_Prices, y = Predicted_Prices)) +\n",
    "                geom_point(alpha = 0.6,color='blue') +\n",
    "                geom_abline(intercept = 0, slope = 1, linetype = \"dashed\", color = \"red\") +\n",
    "                labs(x = \"Actual Volume\", y = \"Predicted Volume\", title = \"Actual vs. Predicted Volumes\")\n",
    "\n",
    "# Display the scatter plot\n",
    "print(scatter_plot)\n"
   ]
  },
  {
   "cell_type": "code",
   "execution_count": 47,
   "id": "0d689085",
   "metadata": {},
   "outputs": [],
   "source": [
    "y_train_pred <- predict(rf_model, X_train)\n",
    "\n",
    "y_test_pred <- predict(rf_model, X_test)\n"
   ]
  },
  {
   "cell_type": "code",
   "execution_count": 48,
   "id": "3f023a43",
   "metadata": {},
   "outputs": [
    {
     "name": "stderr",
     "output_type": "stream",
     "text": [
      "Warning message:\n",
      "\"package 'gridExtra' is in use and will not be installed\"\n"
     ]
    },
    {
     "name": "stdout",
     "output_type": "stream",
     "text": [
      "TableGrob (1 x 2) \"arrange\": 2 grobs\n",
      "  z     cells    name           grob\n",
      "1 1 (1-1,1-1) arrange gtable[layout]\n",
      "2 2 (1-1,2-2) arrange gtable[layout]\n"
     ]
    },
    {
     "data": {
      "image/png": "[encoded data removed]",
      "text/plain": [
       "plot without title"
      ]
     },
     "metadata": {
      "image/png": {
       "height": 420,
       "width": 420
      }
     },
     "output_type": "display_data"
    }
   ],
   "source": [
    "install.packages(\"gridExtra\")\n",
    "library(gridExtra)\n",
    "\n",
    "train_plot_data <- data.frame(Actual_Prices = y_train, Predicted_Prices = y_train_pred)\n",
    "\n",
    "test_plot_data <- data.frame(Actual_Prices = y_test, Predicted_Prices = y_test_pred)\n",
    "\n",
    "train_plot <- ggplot(train_plot_data, aes(x = Actual_Prices, y = Predicted_Prices)) +\n",
    "              geom_point(alpha = 0.6,color='blue') +\n",
    "              geom_abline(intercept = 0, slope = 1, linetype = \"dashed\", color = \"red\") +\n",
    "              labs(title = \"Training: actual vs. predicted Volumes\", x = \"actual volumes\", y = \"predicted volumes\")\n",
    "\n",
    "test_plot <- ggplot(test_plot_data, aes(x = Actual_Prices, y = Predicted_Prices)) +\n",
    "             geom_point(alpha = 0.6,color='blue') +\n",
    "             geom_abline(intercept = 0, slope = 1, linetype = \"dashed\", color = \"red\") +\n",
    "             labs(title = \"Test: Actual vs. predicted Volumes\", x = \"actual volumes\", y = \"predicted volumes\")\n",
    "\n",
    "multiplot <- grid.arrange(train_plot, test_plot, nrow = 1)\n",
    "print(multiplot)\n"
   ]
  }
 ],
 "metadata": {
  "kernelspec": {
   "display_name": "R",
   "language": "R",
   "name": "ir"
  },
  "language_info": {
   "codemirror_mode": "r",
   "file_extension": ".r",
   "mimetype": "text/x-r-source",
   "name": "R",
   "pygments_lexer": "r",
   "version": "4.3.2"
  }
 },
 "nbformat": 4,
 "nbformat_minor": 5
}
