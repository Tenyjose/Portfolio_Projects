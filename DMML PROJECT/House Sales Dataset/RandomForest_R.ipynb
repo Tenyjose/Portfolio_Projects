{
 "cells": [
  {
   "cell_type": "code",
   "execution_count": 1,
   "id": "eaa899f4",
   "metadata": {},
   "outputs": [
    {
     "name": "stderr",
     "output_type": "stream",
     "text": [
      "Warning message:\n",
      "\"package 'dplyr' was built under R version 4.3.3\"\n",
      "\n",
      "Attaching package: 'dplyr'\n",
      "\n",
      "\n",
      "The following objects are masked from 'package:stats':\n",
      "\n",
      "    filter, lag\n",
      "\n",
      "\n",
      "The following objects are masked from 'package:base':\n",
      "\n",
      "    intersect, setdiff, setequal, union\n",
      "\n",
      "\n",
      "Warning message:\n",
      "\"package 'lubridate' was built under R version 4.3.3\"\n",
      "\n",
      "Attaching package: 'lubridate'\n",
      "\n",
      "\n",
      "The following objects are masked from 'package:base':\n",
      "\n",
      "    date, intersect, setdiff, union\n",
      "\n",
      "\n",
      "Warning message:\n",
      "\"package 'caret' was built under R version 4.3.3\"\n",
      "Loading required package: ggplot2\n",
      "\n",
      "Warning message:\n",
      "\"package 'ggplot2' was built under R version 4.3.3\"\n",
      "Loading required package: lattice\n",
      "\n",
      "Warning message:\n",
      "\"package 'randomForest' was built under R version 4.3.3\"\n",
      "randomForest 4.7-1.1\n",
      "\n",
      "Type rfNews() to see new features/changes/bug fixes.\n",
      "\n",
      "\n",
      "Attaching package: 'randomForest'\n",
      "\n",
      "\n",
      "The following object is masked from 'package:ggplot2':\n",
      "\n",
      "    margin\n",
      "\n",
      "\n",
      "The following object is masked from 'package:dplyr':\n",
      "\n",
      "    combine\n",
      "\n",
      "\n"
     ]
    }
   ],
   "source": [
    "library(dplyr)\n",
    "library(tidyr)\n",
    "library(lubridate)\n",
    "library(caret)\n",
    "library(randomForest)\n",
    "library(ggplot2)"
   ]
  },
  {
   "cell_type": "code",
   "execution_count": 2,
   "id": "df1f27d9",
   "metadata": {},
   "outputs": [],
   "source": [
    "sales_df <-read.csv(\"kc_house_data.csv\")"
   ]
  },
  {
   "cell_type": "code",
   "execution_count": 3,
   "id": "79306159",
   "metadata": {},
   "outputs": [
    {
     "data": {
      "text/html": [
       "<table class=\"dataframe\">\n",
       "<caption>A data.frame: 6 × 21</caption>\n",
       "<thead>\n",
       "\t<tr><th></th><th scope=col>id</th><th scope=col>date</th><th scope=col>price</th><th scope=col>bedrooms</th><th scope=col>bathrooms</th><th scope=col>sqft_living</th><th scope=col>sqft_lot</th><th scope=col>floors</th><th scope=col>waterfront</th><th scope=col>view</th><th scope=col>⋯</th><th scope=col>grade</th><th scope=col>sqft_above</th><th scope=col>sqft_basement</th><th scope=col>yr_built</th><th scope=col>yr_renovated</th><th scope=col>zipcode</th><th scope=col>lat</th><th scope=col>long</th><th scope=col>sqft_living15</th><th scope=col>sqft_lot15</th></tr>\n",
       "\t<tr><th></th><th scope=col>&lt;dbl&gt;</th><th scope=col>&lt;chr&gt;</th><th scope=col>&lt;dbl&gt;</th><th scope=col>&lt;int&gt;</th><th scope=col>&lt;dbl&gt;</th><th scope=col>&lt;int&gt;</th><th scope=col>&lt;int&gt;</th><th scope=col>&lt;dbl&gt;</th><th scope=col>&lt;int&gt;</th><th scope=col>&lt;int&gt;</th><th scope=col>⋯</th><th scope=col>&lt;int&gt;</th><th scope=col>&lt;int&gt;</th><th scope=col>&lt;int&gt;</th><th scope=col>&lt;int&gt;</th><th scope=col>&lt;int&gt;</th><th scope=col>&lt;int&gt;</th><th scope=col>&lt;dbl&gt;</th><th scope=col>&lt;dbl&gt;</th><th scope=col>&lt;int&gt;</th><th scope=col>&lt;int&gt;</th></tr>\n",
       "</thead>\n",
       "<tbody>\n",
       "\t<tr><th scope=row>1</th><td>7129300520</td><td>20141013T000000</td><td> 221900</td><td>3</td><td>1.00</td><td>1180</td><td>  5650</td><td>1</td><td>0</td><td>0</td><td>⋯</td><td> 7</td><td>1180</td><td>   0</td><td>1955</td><td>   0</td><td>98178</td><td>47.5112</td><td>-122.257</td><td>1340</td><td>  5650</td></tr>\n",
       "\t<tr><th scope=row>2</th><td>6414100192</td><td>20141209T000000</td><td> 538000</td><td>3</td><td>2.25</td><td>2570</td><td>  7242</td><td>2</td><td>0</td><td>0</td><td>⋯</td><td> 7</td><td>2170</td><td> 400</td><td>1951</td><td>1991</td><td>98125</td><td>47.7210</td><td>-122.319</td><td>1690</td><td>  7639</td></tr>\n",
       "\t<tr><th scope=row>3</th><td>5631500400</td><td>20150225T000000</td><td> 180000</td><td>2</td><td>1.00</td><td> 770</td><td> 10000</td><td>1</td><td>0</td><td>0</td><td>⋯</td><td> 6</td><td> 770</td><td>   0</td><td>1933</td><td>   0</td><td>98028</td><td>47.7379</td><td>-122.233</td><td>2720</td><td>  8062</td></tr>\n",
       "\t<tr><th scope=row>4</th><td>2487200875</td><td>20141209T000000</td><td> 604000</td><td>4</td><td>3.00</td><td>1960</td><td>  5000</td><td>1</td><td>0</td><td>0</td><td>⋯</td><td> 7</td><td>1050</td><td> 910</td><td>1965</td><td>   0</td><td>98136</td><td>47.5208</td><td>-122.393</td><td>1360</td><td>  5000</td></tr>\n",
       "\t<tr><th scope=row>5</th><td>1954400510</td><td>20150218T000000</td><td> 510000</td><td>3</td><td>2.00</td><td>1680</td><td>  8080</td><td>1</td><td>0</td><td>0</td><td>⋯</td><td> 8</td><td>1680</td><td>   0</td><td>1987</td><td>   0</td><td>98074</td><td>47.6168</td><td>-122.045</td><td>1800</td><td>  7503</td></tr>\n",
       "\t<tr><th scope=row>6</th><td>7237550310</td><td>20140512T000000</td><td>1225000</td><td>4</td><td>4.50</td><td>5420</td><td>101930</td><td>1</td><td>0</td><td>0</td><td>⋯</td><td>11</td><td>3890</td><td>1530</td><td>2001</td><td>   0</td><td>98053</td><td>47.6561</td><td>-122.005</td><td>4760</td><td>101930</td></tr>\n",
       "</tbody>\n",
       "</table>\n"
      ],
      "text/latex": [
       "A data.frame: 6 × 21\n",
       "\\begin{tabular}{r|lllllllllllllllllllll}\n",
       "  & id & date & price & bedrooms & bathrooms & sqft\\_living & sqft\\_lot & floors & waterfront & view & ⋯ & grade & sqft\\_above & sqft\\_basement & yr\\_built & yr\\_renovated & zipcode & lat & long & sqft\\_living15 & sqft\\_lot15\\\\\n",
       "  & <dbl> & <chr> & <dbl> & <int> & <dbl> & <int> & <int> & <dbl> & <int> & <int> & ⋯ & <int> & <int> & <int> & <int> & <int> & <int> & <dbl> & <dbl> & <int> & <int>\\\\\n",
       "\\hline\n",
       "\t1 & 7129300520 & 20141013T000000 &  221900 & 3 & 1.00 & 1180 &   5650 & 1 & 0 & 0 & ⋯ &  7 & 1180 &    0 & 1955 &    0 & 98178 & 47.5112 & -122.257 & 1340 &   5650\\\\\n",
       "\t2 & 6414100192 & 20141209T000000 &  538000 & 3 & 2.25 & 2570 &   7242 & 2 & 0 & 0 & ⋯ &  7 & 2170 &  400 & 1951 & 1991 & 98125 & 47.7210 & -122.319 & 1690 &   7639\\\\\n",
       "\t3 & 5631500400 & 20150225T000000 &  180000 & 2 & 1.00 &  770 &  10000 & 1 & 0 & 0 & ⋯ &  6 &  770 &    0 & 1933 &    0 & 98028 & 47.7379 & -122.233 & 2720 &   8062\\\\\n",
       "\t4 & 2487200875 & 20141209T000000 &  604000 & 4 & 3.00 & 1960 &   5000 & 1 & 0 & 0 & ⋯ &  7 & 1050 &  910 & 1965 &    0 & 98136 & 47.5208 & -122.393 & 1360 &   5000\\\\\n",
       "\t5 & 1954400510 & 20150218T000000 &  510000 & 3 & 2.00 & 1680 &   8080 & 1 & 0 & 0 & ⋯ &  8 & 1680 &    0 & 1987 &    0 & 98074 & 47.6168 & -122.045 & 1800 &   7503\\\\\n",
       "\t6 & 7237550310 & 20140512T000000 & 1225000 & 4 & 4.50 & 5420 & 101930 & 1 & 0 & 0 & ⋯ & 11 & 3890 & 1530 & 2001 &    0 & 98053 & 47.6561 & -122.005 & 4760 & 101930\\\\\n",
       "\\end{tabular}\n"
      ],
      "text/markdown": [
       "\n",
       "A data.frame: 6 × 21\n",
       "\n",
       "| <!--/--> | id &lt;dbl&gt; | date &lt;chr&gt; | price &lt;dbl&gt; | bedrooms &lt;int&gt; | bathrooms &lt;dbl&gt; | sqft_living &lt;int&gt; | sqft_lot &lt;int&gt; | floors &lt;dbl&gt; | waterfront &lt;int&gt; | view &lt;int&gt; | ⋯ ⋯ | grade &lt;int&gt; | sqft_above &lt;int&gt; | sqft_basement &lt;int&gt; | yr_built &lt;int&gt; | yr_renovated &lt;int&gt; | zipcode &lt;int&gt; | lat &lt;dbl&gt; | long &lt;dbl&gt; | sqft_living15 &lt;int&gt; | sqft_lot15 &lt;int&gt; |\n",
       "|---|---|---|---|---|---|---|---|---|---|---|---|---|---|---|---|---|---|---|---|---|---|\n",
       "| 1 | 7129300520 | 20141013T000000 |  221900 | 3 | 1.00 | 1180 |   5650 | 1 | 0 | 0 | ⋯ |  7 | 1180 |    0 | 1955 |    0 | 98178 | 47.5112 | -122.257 | 1340 |   5650 |\n",
       "| 2 | 6414100192 | 20141209T000000 |  538000 | 3 | 2.25 | 2570 |   7242 | 2 | 0 | 0 | ⋯ |  7 | 2170 |  400 | 1951 | 1991 | 98125 | 47.7210 | -122.319 | 1690 |   7639 |\n",
       "| 3 | 5631500400 | 20150225T000000 |  180000 | 2 | 1.00 |  770 |  10000 | 1 | 0 | 0 | ⋯ |  6 |  770 |    0 | 1933 |    0 | 98028 | 47.7379 | -122.233 | 2720 |   8062 |\n",
       "| 4 | 2487200875 | 20141209T000000 |  604000 | 4 | 3.00 | 1960 |   5000 | 1 | 0 | 0 | ⋯ |  7 | 1050 |  910 | 1965 |    0 | 98136 | 47.5208 | -122.393 | 1360 |   5000 |\n",
       "| 5 | 1954400510 | 20150218T000000 |  510000 | 3 | 2.00 | 1680 |   8080 | 1 | 0 | 0 | ⋯ |  8 | 1680 |    0 | 1987 |    0 | 98074 | 47.6168 | -122.045 | 1800 |   7503 |\n",
       "| 6 | 7237550310 | 20140512T000000 | 1225000 | 4 | 4.50 | 5420 | 101930 | 1 | 0 | 0 | ⋯ | 11 | 3890 | 1530 | 2001 |    0 | 98053 | 47.6561 | -122.005 | 4760 | 101930 |\n",
       "\n"
      ],
      "text/plain": [
       "  id         date            price   bedrooms bathrooms sqft_living sqft_lot\n",
       "1 7129300520 20141013T000000  221900 3        1.00      1180          5650  \n",
       "2 6414100192 20141209T000000  538000 3        2.25      2570          7242  \n",
       "3 5631500400 20150225T000000  180000 2        1.00       770         10000  \n",
       "4 2487200875 20141209T000000  604000 4        3.00      1960          5000  \n",
       "5 1954400510 20150218T000000  510000 3        2.00      1680          8080  \n",
       "6 7237550310 20140512T000000 1225000 4        4.50      5420        101930  \n",
       "  floors waterfront view ⋯ grade sqft_above sqft_basement yr_built yr_renovated\n",
       "1 1      0          0    ⋯  7    1180          0          1955        0        \n",
       "2 2      0          0    ⋯  7    2170        400          1951     1991        \n",
       "3 1      0          0    ⋯  6     770          0          1933        0        \n",
       "4 1      0          0    ⋯  7    1050        910          1965        0        \n",
       "5 1      0          0    ⋯  8    1680          0          1987        0        \n",
       "6 1      0          0    ⋯ 11    3890       1530          2001        0        \n",
       "  zipcode lat     long     sqft_living15 sqft_lot15\n",
       "1 98178   47.5112 -122.257 1340            5650    \n",
       "2 98125   47.7210 -122.319 1690            7639    \n",
       "3 98028   47.7379 -122.233 2720            8062    \n",
       "4 98136   47.5208 -122.393 1360            5000    \n",
       "5 98074   47.6168 -122.045 1800            7503    \n",
       "6 98053   47.6561 -122.005 4760          101930    "
      ]
     },
     "metadata": {},
     "output_type": "display_data"
    }
   ],
   "source": [
    "head(sales_df)"
   ]
  },
  {
   "cell_type": "code",
   "execution_count": 4,
   "id": "9293d2ff",
   "metadata": {},
   "outputs": [
    {
     "data": {
      "text/plain": [
       "       id                date               price            bedrooms     \n",
       " Min.   :1.000e+06   Length:21613       Min.   :  75000   Min.   : 0.000  \n",
       " 1st Qu.:2.123e+09   Class :character   1st Qu.: 321950   1st Qu.: 3.000  \n",
       " Median :3.905e+09   Mode  :character   Median : 450000   Median : 3.000  \n",
       " Mean   :4.580e+09                      Mean   : 540088   Mean   : 3.371  \n",
       " 3rd Qu.:7.309e+09                      3rd Qu.: 645000   3rd Qu.: 4.000  \n",
       " Max.   :9.900e+09                      Max.   :7700000   Max.   :33.000  \n",
       "   bathrooms      sqft_living       sqft_lot           floors     \n",
       " Min.   :0.000   Min.   :  290   Min.   :    520   Min.   :1.000  \n",
       " 1st Qu.:1.750   1st Qu.: 1427   1st Qu.:   5040   1st Qu.:1.000  \n",
       " Median :2.250   Median : 1910   Median :   7618   Median :1.500  \n",
       " Mean   :2.115   Mean   : 2080   Mean   :  15107   Mean   :1.494  \n",
       " 3rd Qu.:2.500   3rd Qu.: 2550   3rd Qu.:  10688   3rd Qu.:2.000  \n",
       " Max.   :8.000   Max.   :13540   Max.   :1651359   Max.   :3.500  \n",
       "   waterfront            view          condition         grade       \n",
       " Min.   :0.000000   Min.   :0.0000   Min.   :1.000   Min.   : 1.000  \n",
       " 1st Qu.:0.000000   1st Qu.:0.0000   1st Qu.:3.000   1st Qu.: 7.000  \n",
       " Median :0.000000   Median :0.0000   Median :3.000   Median : 7.000  \n",
       " Mean   :0.007542   Mean   :0.2343   Mean   :3.409   Mean   : 7.657  \n",
       " 3rd Qu.:0.000000   3rd Qu.:0.0000   3rd Qu.:4.000   3rd Qu.: 8.000  \n",
       " Max.   :1.000000   Max.   :4.0000   Max.   :5.000   Max.   :13.000  \n",
       "   sqft_above   sqft_basement       yr_built     yr_renovated   \n",
       " Min.   : 290   Min.   :   0.0   Min.   :1900   Min.   :   0.0  \n",
       " 1st Qu.:1190   1st Qu.:   0.0   1st Qu.:1951   1st Qu.:   0.0  \n",
       " Median :1560   Median :   0.0   Median :1975   Median :   0.0  \n",
       " Mean   :1788   Mean   : 291.5   Mean   :1971   Mean   :  84.4  \n",
       " 3rd Qu.:2210   3rd Qu.: 560.0   3rd Qu.:1997   3rd Qu.:   0.0  \n",
       " Max.   :9410   Max.   :4820.0   Max.   :2015   Max.   :2015.0  \n",
       "    zipcode           lat             long        sqft_living15 \n",
       " Min.   :98001   Min.   :47.16   Min.   :-122.5   Min.   : 399  \n",
       " 1st Qu.:98033   1st Qu.:47.47   1st Qu.:-122.3   1st Qu.:1490  \n",
       " Median :98065   Median :47.57   Median :-122.2   Median :1840  \n",
       " Mean   :98078   Mean   :47.56   Mean   :-122.2   Mean   :1987  \n",
       " 3rd Qu.:98118   3rd Qu.:47.68   3rd Qu.:-122.1   3rd Qu.:2360  \n",
       " Max.   :98199   Max.   :47.78   Max.   :-121.3   Max.   :6210  \n",
       "   sqft_lot15    \n",
       " Min.   :   651  \n",
       " 1st Qu.:  5100  \n",
       " Median :  7620  \n",
       " Mean   : 12768  \n",
       " 3rd Qu.: 10083  \n",
       " Max.   :871200  "
      ]
     },
     "metadata": {},
     "output_type": "display_data"
    }
   ],
   "source": [
    "summary(sales_df)"
   ]
  },
  {
   "cell_type": "code",
   "execution_count": 5,
   "id": "af714ab2",
   "metadata": {},
   "outputs": [],
   "source": [
    "# checking each variable one by one"
   ]
  },
  {
   "cell_type": "code",
   "execution_count": 6,
   "id": "7c0cee08",
   "metadata": {},
   "outputs": [
    {
     "data": {
      "image/png": "[encoded data removed]",
      "text/plain": [
       "plot without title"
      ]
     },
     "metadata": {
      "image/png": {
       "height": 420,
       "width": 420
      }
     },
     "output_type": "display_data"
    }
   ],
   "source": [
    "ggplot(sales_df,aes(x=as.factor(bedrooms),y=price))+\n",
    "    geom_boxplot()+\n",
    "    ggtitle(\"Price distribution by numbr of bedrooms\")+\n",
    "    xlab(\"Number of bedrooms\")+\n",
    "    ylab(\"price\")"
   ]
  },
  {
   "cell_type": "code",
   "execution_count": 7,
   "id": "58bae00f",
   "metadata": {},
   "outputs": [
    {
     "data": {
      "image/png": "[encoded data removed]",
      "text/plain": [
       "plot without title"
      ]
     },
     "metadata": {
      "image/png": {
       "height": 420,
       "width": 420
      }
     },
     "output_type": "display_data"
    }
   ],
   "source": [
    "# Scatter plot of Price vs. Square Footage\n",
    "ggplot(sales_df, aes(x = sqft_living, y = price)) +\n",
    "    geom_point(alpha = 0.5) +\n",
    "    ggtitle(\"Price vs. Living Area Square Footage\") +\n",
    "    xlab(\"Living Area (sqft)\") +\n",
    "    ylab(\"Price\")\n"
   ]
  },
  {
   "cell_type": "code",
   "execution_count": 8,
   "id": "5e3cbebf",
   "metadata": {},
   "outputs": [
    {
     "name": "stderr",
     "output_type": "stream",
     "text": [
      "Warning message:\n",
      "\"package 'corrplot' was built under R version 4.3.3\"\n",
      "corrplot 0.92 loaded\n",
      "\n"
     ]
    },
    {
     "data": {
      "image/png": "[encoded data removed]",
      "text/plain": [
       "Plot with title \"\""
      ]
     },
     "metadata": {
      "image/png": {
       "height": 420,
       "width": 420
      }
     },
     "output_type": "display_data"
    }
   ],
   "source": [
    "# Calculate correlations\n",
    "library(corrplot)\n",
    "numerical_data <- sales_df %>% select(price, sqft_living, sqft_lot, sqft_above, sqft_basement, yr_built)\n",
    "cor_matrix <- cor(numerical_data)\n",
    "\n",
    "corrplot(cor_matrix, method = \"circle\", type = \"upper\", tl.col = \"black\")\n"
   ]
  },
  {
   "cell_type": "code",
   "execution_count": 9,
   "id": "abca1f7f",
   "metadata": {},
   "outputs": [
    {
     "data": {
      "image/png": "[encoded data removed]",
      "text/plain": [
       "plot without title"
      ]
     },
     "metadata": {
      "image/png": {
       "height": 420,
       "width": 420
      }
     },
     "output_type": "display_data"
    }
   ],
   "source": [
    "ggplot(sales_df, aes(x = as.factor(waterfront), y = price)) +\n",
    "    geom_boxplot(fill = \"lightblue\", color = \"black\") +\n",
    "    ggtitle(\"Price Distribution by Waterfront Status\") +\n",
    "    xlab(\"Waterfront Status\") +\n",
    "    ylab(\"Price\")\n"
   ]
  },
  {
   "cell_type": "code",
   "execution_count": null,
   "id": "282316b4",
   "metadata": {},
   "outputs": [],
   "source": []
  },
  {
   "cell_type": "code",
   "execution_count": 10,
   "id": "f9e5ef37",
   "metadata": {},
   "outputs": [],
   "source": [
    "# cleaning"
   ]
  },
  {
   "cell_type": "code",
   "execution_count": 11,
   "id": "6a6f5a26",
   "metadata": {},
   "outputs": [
    {
     "name": "stdout",
     "output_type": "stream",
     "text": [
      "           id          date         price      bedrooms     bathrooms \n",
      "            0             0             0             0             0 \n",
      "  sqft_living      sqft_lot        floors    waterfront          view \n",
      "            0             0             0             0             0 \n",
      "    condition         grade    sqft_above sqft_basement      yr_built \n",
      "            0             0             0             0             0 \n",
      " yr_renovated       zipcode           lat          long sqft_living15 \n",
      "            0             0             0             0             0 \n",
      "   sqft_lot15 \n",
      "            0 \n"
     ]
    }
   ],
   "source": [
    "#missing Values\n",
    "print(colSums(is.na(sales_df)))\n",
    "# no missing values"
   ]
  },
  {
   "cell_type": "code",
   "execution_count": 12,
   "id": "8a6e9356",
   "metadata": {},
   "outputs": [],
   "source": [
    "# Removing the variables as they are not usefull\n",
    "sales_df <- subset(sales_df, select = -c(id, zipcode, lat, long))\n"
   ]
  },
  {
   "cell_type": "code",
   "execution_count": 13,
   "id": "2461acbe",
   "metadata": {},
   "outputs": [
    {
     "name": "stdout",
     "output_type": "stream",
     "text": [
      "[1] \"Number of duplicate rows: 0\"\n"
     ]
    }
   ],
   "source": [
    "dup_rows <- duplicated(sales_df)\n",
    "num_dup_rows <- sum(dup_rows)\n",
    "\n",
    "print(paste(\"Number of duplicate rows:\", num_dup_rows))"
   ]
  },
  {
   "cell_type": "code",
   "execution_count": 14,
   "id": "79394ecb",
   "metadata": {},
   "outputs": [],
   "source": [
    "year <- substr(sales_df$date, 1, 4)\n",
    "month <- substr(sales_df$date, 5, 6)\n",
    "day <- substr(sales_df$date, 7, 8)\n",
    "\n",
    "sales_df$date <- paste(year, month, day, sep = \"-\")\n",
    "sales_df$date <- as.Date(sales_df$date)\n",
    "# converting to proper date format"
   ]
  },
  {
   "cell_type": "code",
   "execution_count": 15,
   "id": "c338f36c",
   "metadata": {},
   "outputs": [
    {
     "name": "stdout",
     "output_type": "stream",
     "text": [
      "[1] \"Number of outliers removed: 1146\"\n"
     ]
    }
   ],
   "source": [
    "# Removing outliers of Price\n",
    "Q1 <- quantile(sales_df$price, 0.25)\n",
    "Q3 <- quantile(sales_df$price, 0.75)\n",
    "IQR <- Q3 - Q1\n",
    "\n",
    "lower_bound <- Q1 - 1.5 * IQR\n",
    "upper_bound <- Q3 + 1.5 * IQR\n",
    "\n",
    "sales_df_clean <- sales_df[sales_df$price >= lower_bound & sales_df$price <= upper_bound, ]\n",
    "\n",
    "num_outliers_removed <- nrow(sales_df) - nrow(sales_df_clean)\n",
    "print(paste(\"Number of outliers removed:\", num_outliers_removed))\n"
   ]
  },
  {
   "cell_type": "code",
   "execution_count": 16,
   "id": "a0db8c58",
   "metadata": {},
   "outputs": [
    {
     "name": "stdout",
     "output_type": "stream",
     "text": [
      "[1] \"Number of outliers removed for bedrooms: 546\"\n"
     ]
    }
   ],
   "source": [
    "# Removing ouliers in bedrooms\n",
    "Q1_bed<- quantile(sales_df$bedrooms, 0.25)\n",
    "Q3_bed<- quantile(sales_df$bedrooms, 0.75)\n",
    "IQR_bed<- Q3_bed-Q1_bed\n",
    "\n",
    "lower_bound<- Q1_bed - 1.5 *IQR_bed\n",
    "upper_bound<- Q3_bed + 1.5 *IQR_bed\n",
    "\n",
    "sales_df_clean <- sales_df[sales_df$bedrooms >= lower_bound & sales_df$bedrooms <= upper_bound, ]\n",
    "\n",
    "outliers<- nrow(sales_df) - nrow(sales_df_clean)\n",
    "print(paste(\"Number of outliers removed for bedrooms:\",outliers))\n"
   ]
  },
  {
   "cell_type": "code",
   "execution_count": 17,
   "id": "1de2adb5",
   "metadata": {},
   "outputs": [
    {
     "name": "stdout",
     "output_type": "stream",
     "text": [
      "[1] \"Number of outliers removed for bathrooms: 10\"\n"
     ]
    }
   ],
   "source": [
    "# removing ouliers in bathrooms\n",
    "Q1_bath<- quantile(sales_df$bathrooms, 0.10)\n",
    "Q3_bath<- quantile(sales_df$bathrooms, 0.90)\n",
    "IQR_bath<- Q3_bath-Q1_bath\n",
    "\n",
    "\n",
    "lower_bound<- Q1_bath - 1.5 * IQR_bath\n",
    "upper_bound<- Q3_bath + 1.5 * IQR_bath\n",
    "\n",
    "sales_df_clean <- sales_df[sales_df$bathrooms >=lower_bound & sales_df$bathrooms<= upper_bound, ]\n",
    "\n",
    "\n",
    "outliers<- nrow(sales_df) - nrow(sales_df_clean)\n",
    "print(paste(\"Number of outliers removed for bathrooms:\",outliers))\n"
   ]
  },
  {
   "cell_type": "code",
   "execution_count": null,
   "id": "40d2dc23",
   "metadata": {},
   "outputs": [],
   "source": []
  },
  {
   "cell_type": "code",
   "execution_count": 18,
   "id": "34de609d",
   "metadata": {},
   "outputs": [
    {
     "name": "stdout",
     "output_type": "stream",
     "text": [
      "[1] \"Number of outliers removed for sqft_living: 572\"\n"
     ]
    }
   ],
   "source": [
    "# removing outliers in 'sqft_living'\n",
    "Q1<- quantile(sales_df$sqft_living, 0.25)\n",
    "Q3<- quantile(sales_df$sqft_living, 0.75)\n",
    "IQR<- Q3- Q1\n",
    "\n",
    "lower_bound<- Q1- 1.5 * IQR\n",
    "upper_bound<- Q3+ 1.5 * IQR\n",
    "\n",
    "sales_df_clean <- sales_df[sales_df$sqft_living >= lower_bound & sales_df$sqft_living <= upper_bound, ]\n",
    "num_outliers<- nrow(sales_df) - nrow(sales_df_clean)\n",
    "print(paste(\"Number of outliers removed for sqft_living:\", num_outliers))\n"
   ]
  },
  {
   "cell_type": "code",
   "execution_count": 19,
   "id": "c446bc55",
   "metadata": {},
   "outputs": [
    {
     "name": "stdout",
     "output_type": "stream",
     "text": [
      "[1] \"Number of outliers removed for sqft_lot: 1993\"\n"
     ]
    }
   ],
   "source": [
    "# outliers in sqft_lot\n",
    "Q1_sqft_lot <- quantile(sales_df$sqft_lot, 0.20)\n",
    "Q3_sqft_lot <- quantile(sales_df$sqft_lot, 0.80)\n",
    "IQR_sqft_lot<-Q3_sqft_lot - Q1_sqft_lot\n",
    "\n",
    "\n",
    "lower_bound<- Q1_sqft_lot - 1.5 * IQR_sqft_lot\n",
    "upper_bound<- Q3_sqft_lot + 1.5 * IQR_sqft_lot\n",
    "\n",
    "\n",
    "sales_df_clean <- sales_df[sales_df$sqft_lot >=lower_bound & sales_df$sqft_lot <=upper_bound, ]\n",
    "outliers<- nrow(sales_df) - nrow(sales_df_clean)\n",
    "print(paste(\"Number of outliers removed for sqft_lot:\",outliers))\n"
   ]
  },
  {
   "cell_type": "code",
   "execution_count": 20,
   "id": "533446dc",
   "metadata": {},
   "outputs": [
    {
     "name": "stdout",
     "output_type": "stream",
     "text": [
      "          floors     price\n",
      "floors 1.0000000 0.2564911\n",
      "price  0.2564911 1.0000000\n"
     ]
    }
   ],
   "source": [
    "# Floors\n",
    "corr<- cor(sales_df_clean[c(\"floors\", \"price\")])\n",
    "print(corr)\n"
   ]
  },
  {
   "cell_type": "code",
   "execution_count": 21,
   "id": "0db94c2d",
   "metadata": {},
   "outputs": [
    {
     "name": "stdout",
     "output_type": "stream",
     "text": [
      "[1] \"Unique values in 'waterfront' column: 0\"\n",
      "[2] \"Unique values in 'waterfront' column: 1\"\n",
      "[1] \"The 'waterfront' column is correct.\"\n"
     ]
    }
   ],
   "source": [
    "# Waterfront\n",
    "unq<- unique(sales_df_clean$waterfront)\n",
    "print(paste(\"Unique values in 'waterfront' column:\", unq))\n",
    "\n",
    "if (setequal(unq, c(0, 1))) {\n",
    "  print(\"The 'waterfront' column is correct.\")\n",
    "} else {\n",
    "  sales_df_clean$waterfront <- ifelse(sales_df_clean$waterfront == 1, 1, 0)\n",
    "  print(\"The 'weaterfront' column has corrected.\")\n",
    "}\n"
   ]
  },
  {
   "cell_type": "code",
   "execution_count": 22,
   "id": "edcab974",
   "metadata": {},
   "outputs": [],
   "source": [
    "# grade variable\n",
    "sales_df_clean$Grade <- factor(sales_df_clean$grade)\n"
   ]
  },
  {
   "cell_type": "code",
   "execution_count": 23,
   "id": "d8ec531b",
   "metadata": {},
   "outputs": [],
   "source": [
    "\n",
    "sales_df_clean$has_basement <- as.integer(sales_df_clean$sqft_basement > 0)\n"
   ]
  },
  {
   "cell_type": "code",
   "execution_count": 24,
   "id": "fca949ed",
   "metadata": {},
   "outputs": [],
   "source": [
    "current_year <- as.numeric(format(Sys.Date(), \"%Y\"))\n",
    "\n",
    "sales_df_clean$house_age <- current_year - sales_df_clean$yr_built\n",
    "sales_df_clean <- subset(sales_df_clean, select = -c(yr_built))\n"
   ]
  },
  {
   "cell_type": "code",
   "execution_count": 25,
   "id": "7544b7ca",
   "metadata": {},
   "outputs": [],
   "source": [
    "# Renovated\n",
    "\n",
    "sales_df_clean$renovated <- ifelse(sales_df_clean$yr_renovated > 0, 1, 0)\n",
    "sales_df_clean$years_since_renovation <- current_year - sales_df_clean$yr_renovated\n"
   ]
  },
  {
   "cell_type": "code",
   "execution_count": 26,
   "id": "73e6fbfb",
   "metadata": {},
   "outputs": [
    {
     "name": "stdout",
     "output_type": "stream",
     "text": [
      "[1] \"Number of outliers removed for sqft_living15: 544\"\n"
     ]
    }
   ],
   "source": [
    "# outliers in sqft_living15\n",
    "Q1<- quantile(sales_df$sqft_living15, 0.25)\n",
    "Q3<- quantile(sales_df$sqft_living15, 0.75)\n",
    "IQR<- Q3- Q1\n",
    "\n",
    "lower_bound<- Q1- 1.5 * IQR\n",
    "upper_bound<- Q3+ 1.5 * IQR\n",
    "\n",
    "sales_df_clean <- sales_df[sales_df$sqft_living15 >= lower_bound & sales_df$sqft_living15 <= upper_bound, ]\n",
    "\n",
    "num_outliers<- nrow(sales_df) - nrow(sales_df_clean)\n",
    "print(paste(\"Number of outliers removed for sqft_living15:\", num_outliers))\n"
   ]
  },
  {
   "cell_type": "code",
   "execution_count": 27,
   "id": "b19af9e0",
   "metadata": {},
   "outputs": [
    {
     "name": "stdout",
     "output_type": "stream",
     "text": [
      "[1] \"Number of outliers removed for sqft_lot15: 2194\"\n"
     ]
    }
   ],
   "source": [
    "# ouliers in sqft_lot15\n",
    "Q1<- quantile(sales_df$sqft_lot15, 0.25)\n",
    "Q3<- quantile(sales_df$sqft_lot15, 0.75)\n",
    "IQR<- Q3 -Q1\n",
    "\n",
    "lower_bound_sqft_lot15 <- Q1- 1.5 *IQR\n",
    "upper_bound_sqft_lot15 <- Q3+ 1.5 *IQR\n",
    "\n",
    "sales_df_clean <- sales_df[sales_df$sqft_lot15 >= lower_bound_sqft_lot15 & sales_df$sqft_lot15 <= upper_bound_sqft_lot15, ]\n",
    "outliers<- nrow(sales_df) - nrow(sales_df_clean)\n",
    "print(paste(\"Number of outliers removed for sqft_lot15:\",outliers))\n"
   ]
  },
  {
   "cell_type": "code",
   "execution_count": 28,
   "id": "0fc46921",
   "metadata": {},
   "outputs": [
    {
     "data": {
      "text/html": [
       "<style>\n",
       ".list-inline {list-style: none; margin:0; padding: 0}\n",
       ".list-inline>li {display: inline-block}\n",
       ".list-inline>li:not(:last-child)::after {content: \"\\00b7\"; padding: 0 .5ex}\n",
       "</style>\n",
       "<ol class=list-inline><li>5650</li><li>7639</li><li>8062</li><li>5000</li><li>7503</li><li>6819</li></ol>\n"
      ],
      "text/latex": [
       "\\begin{enumerate*}\n",
       "\\item 5650\n",
       "\\item 7639\n",
       "\\item 8062\n",
       "\\item 5000\n",
       "\\item 7503\n",
       "\\item 6819\n",
       "\\end{enumerate*}\n"
      ],
      "text/markdown": [
       "1. 5650\n",
       "2. 7639\n",
       "3. 8062\n",
       "4. 5000\n",
       "5. 7503\n",
       "6. 6819\n",
       "\n",
       "\n"
      ],
      "text/plain": [
       "[1] 5650 7639 8062 5000 7503 6819"
      ]
     },
     "metadata": {},
     "output_type": "display_data"
    }
   ],
   "source": [
    "head(sales_df_clean$sqft_lot15)"
   ]
  },
  {
   "cell_type": "code",
   "execution_count": 29,
   "id": "55c88437",
   "metadata": {},
   "outputs": [],
   "source": [
    "# modifying the date column\n",
    "library(lubridate)\n",
    "\n",
    "sales_df_clean$year <- year(sales_df_clean$date)\n",
    "sales_df_clean$month <- month(sales_df_clean$date)\n",
    "sales_df_clean$day <- day(sales_df_clean$date)\n",
    "\n",
    "sales_df_clean$date <- NULL\n"
   ]
  },
  {
   "cell_type": "code",
   "execution_count": 30,
   "id": "2944a817",
   "metadata": {},
   "outputs": [],
   "source": [
    "# Creating a new preprocessed file\n",
    "write.csv(sales_df_clean, file = \"R_preprocessed_kc_house_data.csv\", row.names = FALSE)"
   ]
  },
  {
   "cell_type": "code",
   "execution_count": 31,
   "id": "17b8b45c",
   "metadata": {},
   "outputs": [
    {
     "data": {
      "text/html": [
       "<table class=\"dataframe\">\n",
       "<caption>A data.frame: 6 × 19</caption>\n",
       "<thead>\n",
       "\t<tr><th></th><th scope=col>price</th><th scope=col>bedrooms</th><th scope=col>bathrooms</th><th scope=col>sqft_living</th><th scope=col>sqft_lot</th><th scope=col>floors</th><th scope=col>waterfront</th><th scope=col>view</th><th scope=col>condition</th><th scope=col>grade</th><th scope=col>sqft_above</th><th scope=col>sqft_basement</th><th scope=col>yr_built</th><th scope=col>yr_renovated</th><th scope=col>sqft_living15</th><th scope=col>sqft_lot15</th><th scope=col>year</th><th scope=col>month</th><th scope=col>day</th></tr>\n",
       "\t<tr><th></th><th scope=col>&lt;dbl&gt;</th><th scope=col>&lt;int&gt;</th><th scope=col>&lt;dbl&gt;</th><th scope=col>&lt;int&gt;</th><th scope=col>&lt;int&gt;</th><th scope=col>&lt;dbl&gt;</th><th scope=col>&lt;int&gt;</th><th scope=col>&lt;int&gt;</th><th scope=col>&lt;int&gt;</th><th scope=col>&lt;int&gt;</th><th scope=col>&lt;int&gt;</th><th scope=col>&lt;int&gt;</th><th scope=col>&lt;int&gt;</th><th scope=col>&lt;int&gt;</th><th scope=col>&lt;int&gt;</th><th scope=col>&lt;int&gt;</th><th scope=col>&lt;dbl&gt;</th><th scope=col>&lt;dbl&gt;</th><th scope=col>&lt;int&gt;</th></tr>\n",
       "</thead>\n",
       "<tbody>\n",
       "\t<tr><th scope=row>1</th><td>221900</td><td>3</td><td>1.00</td><td>1180</td><td> 5650</td><td>1</td><td>0</td><td>0</td><td>3</td><td>7</td><td>1180</td><td>  0</td><td>1955</td><td>   0</td><td>1340</td><td>5650</td><td>2014</td><td>10</td><td>13</td></tr>\n",
       "\t<tr><th scope=row>2</th><td>538000</td><td>3</td><td>2.25</td><td>2570</td><td> 7242</td><td>2</td><td>0</td><td>0</td><td>3</td><td>7</td><td>2170</td><td>400</td><td>1951</td><td>1991</td><td>1690</td><td>7639</td><td>2014</td><td>12</td><td> 9</td></tr>\n",
       "\t<tr><th scope=row>3</th><td>180000</td><td>2</td><td>1.00</td><td> 770</td><td>10000</td><td>1</td><td>0</td><td>0</td><td>3</td><td>6</td><td> 770</td><td>  0</td><td>1933</td><td>   0</td><td>2720</td><td>8062</td><td>2015</td><td> 2</td><td>25</td></tr>\n",
       "\t<tr><th scope=row>4</th><td>604000</td><td>4</td><td>3.00</td><td>1960</td><td> 5000</td><td>1</td><td>0</td><td>0</td><td>5</td><td>7</td><td>1050</td><td>910</td><td>1965</td><td>   0</td><td>1360</td><td>5000</td><td>2014</td><td>12</td><td> 9</td></tr>\n",
       "\t<tr><th scope=row>5</th><td>510000</td><td>3</td><td>2.00</td><td>1680</td><td> 8080</td><td>1</td><td>0</td><td>0</td><td>3</td><td>8</td><td>1680</td><td>  0</td><td>1987</td><td>   0</td><td>1800</td><td>7503</td><td>2015</td><td> 2</td><td>18</td></tr>\n",
       "\t<tr><th scope=row>7</th><td>257500</td><td>3</td><td>2.25</td><td>1715</td><td> 6819</td><td>2</td><td>0</td><td>0</td><td>3</td><td>7</td><td>1715</td><td>  0</td><td>1995</td><td>   0</td><td>2238</td><td>6819</td><td>2014</td><td> 6</td><td>27</td></tr>\n",
       "</tbody>\n",
       "</table>\n"
      ],
      "text/latex": [
       "A data.frame: 6 × 19\n",
       "\\begin{tabular}{r|lllllllllllllllllll}\n",
       "  & price & bedrooms & bathrooms & sqft\\_living & sqft\\_lot & floors & waterfront & view & condition & grade & sqft\\_above & sqft\\_basement & yr\\_built & yr\\_renovated & sqft\\_living15 & sqft\\_lot15 & year & month & day\\\\\n",
       "  & <dbl> & <int> & <dbl> & <int> & <int> & <dbl> & <int> & <int> & <int> & <int> & <int> & <int> & <int> & <int> & <int> & <int> & <dbl> & <dbl> & <int>\\\\\n",
       "\\hline\n",
       "\t1 & 221900 & 3 & 1.00 & 1180 &  5650 & 1 & 0 & 0 & 3 & 7 & 1180 &   0 & 1955 &    0 & 1340 & 5650 & 2014 & 10 & 13\\\\\n",
       "\t2 & 538000 & 3 & 2.25 & 2570 &  7242 & 2 & 0 & 0 & 3 & 7 & 2170 & 400 & 1951 & 1991 & 1690 & 7639 & 2014 & 12 &  9\\\\\n",
       "\t3 & 180000 & 2 & 1.00 &  770 & 10000 & 1 & 0 & 0 & 3 & 6 &  770 &   0 & 1933 &    0 & 2720 & 8062 & 2015 &  2 & 25\\\\\n",
       "\t4 & 604000 & 4 & 3.00 & 1960 &  5000 & 1 & 0 & 0 & 5 & 7 & 1050 & 910 & 1965 &    0 & 1360 & 5000 & 2014 & 12 &  9\\\\\n",
       "\t5 & 510000 & 3 & 2.00 & 1680 &  8080 & 1 & 0 & 0 & 3 & 8 & 1680 &   0 & 1987 &    0 & 1800 & 7503 & 2015 &  2 & 18\\\\\n",
       "\t7 & 257500 & 3 & 2.25 & 1715 &  6819 & 2 & 0 & 0 & 3 & 7 & 1715 &   0 & 1995 &    0 & 2238 & 6819 & 2014 &  6 & 27\\\\\n",
       "\\end{tabular}\n"
      ],
      "text/markdown": [
       "\n",
       "A data.frame: 6 × 19\n",
       "\n",
       "| <!--/--> | price &lt;dbl&gt; | bedrooms &lt;int&gt; | bathrooms &lt;dbl&gt; | sqft_living &lt;int&gt; | sqft_lot &lt;int&gt; | floors &lt;dbl&gt; | waterfront &lt;int&gt; | view &lt;int&gt; | condition &lt;int&gt; | grade &lt;int&gt; | sqft_above &lt;int&gt; | sqft_basement &lt;int&gt; | yr_built &lt;int&gt; | yr_renovated &lt;int&gt; | sqft_living15 &lt;int&gt; | sqft_lot15 &lt;int&gt; | year &lt;dbl&gt; | month &lt;dbl&gt; | day &lt;int&gt; |\n",
       "|---|---|---|---|---|---|---|---|---|---|---|---|---|---|---|---|---|---|---|---|\n",
       "| 1 | 221900 | 3 | 1.00 | 1180 |  5650 | 1 | 0 | 0 | 3 | 7 | 1180 |   0 | 1955 |    0 | 1340 | 5650 | 2014 | 10 | 13 |\n",
       "| 2 | 538000 | 3 | 2.25 | 2570 |  7242 | 2 | 0 | 0 | 3 | 7 | 2170 | 400 | 1951 | 1991 | 1690 | 7639 | 2014 | 12 |  9 |\n",
       "| 3 | 180000 | 2 | 1.00 |  770 | 10000 | 1 | 0 | 0 | 3 | 6 |  770 |   0 | 1933 |    0 | 2720 | 8062 | 2015 |  2 | 25 |\n",
       "| 4 | 604000 | 4 | 3.00 | 1960 |  5000 | 1 | 0 | 0 | 5 | 7 | 1050 | 910 | 1965 |    0 | 1360 | 5000 | 2014 | 12 |  9 |\n",
       "| 5 | 510000 | 3 | 2.00 | 1680 |  8080 | 1 | 0 | 0 | 3 | 8 | 1680 |   0 | 1987 |    0 | 1800 | 7503 | 2015 |  2 | 18 |\n",
       "| 7 | 257500 | 3 | 2.25 | 1715 |  6819 | 2 | 0 | 0 | 3 | 7 | 1715 |   0 | 1995 |    0 | 2238 | 6819 | 2014 |  6 | 27 |\n",
       "\n"
      ],
      "text/plain": [
       "  price  bedrooms bathrooms sqft_living sqft_lot floors waterfront view\n",
       "1 221900 3        1.00      1180         5650    1      0          0   \n",
       "2 538000 3        2.25      2570         7242    2      0          0   \n",
       "3 180000 2        1.00       770        10000    1      0          0   \n",
       "4 604000 4        3.00      1960         5000    1      0          0   \n",
       "5 510000 3        2.00      1680         8080    1      0          0   \n",
       "7 257500 3        2.25      1715         6819    2      0          0   \n",
       "  condition grade sqft_above sqft_basement yr_built yr_renovated sqft_living15\n",
       "1 3         7     1180         0           1955        0         1340         \n",
       "2 3         7     2170       400           1951     1991         1690         \n",
       "3 3         6      770         0           1933        0         2720         \n",
       "4 5         7     1050       910           1965        0         1360         \n",
       "5 3         8     1680         0           1987        0         1800         \n",
       "7 3         7     1715         0           1995        0         2238         \n",
       "  sqft_lot15 year month day\n",
       "1 5650       2014 10    13 \n",
       "2 7639       2014 12     9 \n",
       "3 8062       2015  2    25 \n",
       "4 5000       2014 12     9 \n",
       "5 7503       2015  2    18 \n",
       "7 6819       2014  6    27 "
      ]
     },
     "metadata": {},
     "output_type": "display_data"
    }
   ],
   "source": [
    "head(sales_df_clean)"
   ]
  },
  {
   "cell_type": "code",
   "execution_count": 32,
   "id": "ef10b1f7",
   "metadata": {},
   "outputs": [
    {
     "name": "stderr",
     "output_type": "stream",
     "text": [
      "Warning message:\n",
      "\"package 'caret' is in use and will not be installed\"\n",
      "Warning message:\n",
      "\"package 'randomForest' is in use and will not be installed\"\n"
     ]
    }
   ],
   "source": [
    "install.packages(\"caret\")\n",
    "install.packages(\"randomForest\")\n",
    "library(caret)\n",
    "library(randomForest)\n",
    "\n",
    "\n",
    "set.seed(42)\n",
    "\n",
    "X <- sales_df_clean[, !names(sales_df_clean) %in% \"price\"]\n",
    "y <- sales_df_clean$price\n",
    "\n",
    "train_index <- createDataPartition(y, p = 0.7, list = FALSE)\n",
    "X_train <- X[train_index, ]\n",
    "X_test <- X[-train_index, ]\n",
    "y_train <- y[train_index]\n",
    "y_test <- y[-train_index]"
   ]
  },
  {
   "cell_type": "code",
   "execution_count": 33,
   "id": "63501043",
   "metadata": {},
   "outputs": [
    {
     "name": "stderr",
     "output_type": "stream",
     "text": [
      "Warning message:\n",
      "\"package 'randomForest' is in use and will not be installed\"\n"
     ]
    },
    {
     "name": "stdout",
     "output_type": "stream",
     "text": [
      "\n",
      "Call:\n",
      " randomForest(x = X_train, y = y_train, ntree = 100) \n",
      "               Type of random forest: regression\n",
      "                     Number of trees: 100\n",
      "No. of variables tried at each split: 6\n",
      "\n",
      "          Mean of squared residuals: 29005124267\n",
      "                    % Var explained: 72.5\n"
     ]
    }
   ],
   "source": [
    "\n",
    "install.packages(\"randomForest\")\n",
    "library(randomForest)\n",
    "\n",
    "set.seed(42)\n",
    "rf_regressor <- randomForest(X_train, y_train, ntree = 100)\n",
    "print(rf_regressor)\n"
   ]
  },
  {
   "cell_type": "code",
   "execution_count": 34,
   "id": "417ffae8",
   "metadata": {},
   "outputs": [
    {
     "name": "stdout",
     "output_type": "stream",
     "text": [
      "[1] \"Mean Squared Error: 28970055768.2502\"\n",
      "[1] \"R-squared: 0.737771441192201\"\n"
     ]
    }
   ],
   "source": [
    "predictions <- predict(rf_regressor, X_test)\n",
    "\n",
    "mse <- mean((predictions - y_test)^2)\n",
    "r_squared <- 1 - sum((y_test - predictions)^2) / sum((y_test - mean(y_test))^2)\n",
    "\n",
    "print(paste(\"Mean Squared Error:\", mse))\n",
    "print(paste(\"R-squared:\", r_squared))\n"
   ]
  },
  {
   "cell_type": "code",
   "execution_count": 35,
   "id": "4b7d8e10",
   "metadata": {},
   "outputs": [
    {
     "name": "stderr",
     "output_type": "stream",
     "text": [
      "Warning message:\n",
      "\"package 'Metrics' was built under R version 4.3.3\"\n",
      "\n",
      "Attaching package: 'Metrics'\n",
      "\n",
      "\n",
      "The following objects are masked from 'package:caret':\n",
      "\n",
      "    precision, recall\n",
      "\n",
      "\n"
     ]
    },
    {
     "name": "stdout",
     "output_type": "stream",
     "text": [
      "[1] \"Root Mean Squared Error (RMSE): 170205.921660353\"\n",
      "[1] \"Mean Absolute Error (MAE): 109486.155730491\"\n"
     ]
    }
   ],
   "source": [
    "library(Metrics)\n",
    "\n",
    "#  RMSE\n",
    "rmse<- sqrt(mse)\n",
    "#  MAE\n",
    "mae<- mae(y_test,predictions)\n",
    "\n",
    "print(paste(\"Root Mean Squared Error (RMSE):\", rmse))\n",
    "print(paste(\"Mean Absolute Error (MAE):\", mae))"
   ]
  },
  {
   "cell_type": "code",
   "execution_count": 36,
   "id": "737c3dde",
   "metadata": {},
   "outputs": [
    {
     "name": "stderr",
     "output_type": "stream",
     "text": [
      "Warning message:\n",
      "\"package 'ggplot2' is in use and will not be installed\"\n"
     ]
    },
    {
     "data": {
      "image/png": "[encoded data removed]",
      "text/plain": [
       "plot without title"
      ]
     },
     "metadata": {
      "image/png": {
       "height": 420,
       "width": 420
      }
     },
     "output_type": "display_data"
    }
   ],
   "source": [
    "install.packages(\"ggplot2\")\n",
    "library(ggplot2)\n",
    "\n",
    "plot_data <- data.frame(Actual_Prices = y_test, Predicted_Prices = predictions)\n",
    "\n",
    "scatter_plot <- ggplot(plot_data, aes(x = Actual_Prices, y = Predicted_Prices)) +\n",
    "                geom_point(alpha = 0.6,color='blue') +\n",
    "                geom_abline(intercept = 0, slope = 1, linetype = \"dashed\", color = \"red\") +\n",
    "                labs(x = \"Actual Prices\", y = \"Predicted Prices\", title = \"Actual vs. Predicted House Prices\")\n",
    "\n",
    "print(scatter_plot)\n"
   ]
  },
  {
   "cell_type": "code",
   "execution_count": 37,
   "id": "6c65ef99",
   "metadata": {},
   "outputs": [],
   "source": [
    "y_train_pred <- predict(rf_regressor, X_train)\n",
    "\n",
    "y_test_pred <- predict(rf_regressor, X_test)\n"
   ]
  },
  {
   "cell_type": "code",
   "execution_count": 38,
   "id": "f8d62ecf",
   "metadata": {},
   "outputs": [
    {
     "name": "stderr",
     "output_type": "stream",
     "text": [
      "Installing package into 'C:/Users/tenyj/AppData/Local/R/win-library/4.3'\n",
      "(as 'lib' is unspecified)\n",
      "\n"
     ]
    },
    {
     "name": "stdout",
     "output_type": "stream",
     "text": [
      "package 'gridExtra' successfully unpacked and MD5 sums checked\n",
      "\n",
      "The downloaded binary packages are in\n",
      "\tC:\\Users\\tenyj\\AppData\\Local\\Temp\\RtmpQhiEAo\\downloaded_packages\n"
     ]
    },
    {
     "name": "stderr",
     "output_type": "stream",
     "text": [
      "Warning message:\n",
      "\"package 'gridExtra' was built under R version 4.3.3\"\n",
      "\n",
      "Attaching package: 'gridExtra'\n",
      "\n",
      "\n",
      "The following object is masked from 'package:randomForest':\n",
      "\n",
      "    combine\n",
      "\n",
      "\n",
      "The following object is masked from 'package:dplyr':\n",
      "\n",
      "    combine\n",
      "\n",
      "\n"
     ]
    },
    {
     "name": "stdout",
     "output_type": "stream",
     "text": [
      "TableGrob (1 x 2) \"arrange\": 2 grobs\n",
      "  z     cells    name           grob\n",
      "1 1 (1-1,1-1) arrange gtable[layout]\n",
      "2 2 (1-1,2-2) arrange gtable[layout]\n"
     ]
    },
    {
     "data": {
      "image/png": "[encoded data removed]",
      "text/plain": [
       "plot without title"
      ]
     },
     "metadata": {
      "image/png": {
       "height": 420,
       "width": 420
      }
     },
     "output_type": "display_data"
    }
   ],
   "source": [
    "install.packages(\"gridExtra\")\n",
    "library(gridExtra)\n",
    "\n",
    "train_plot_data <- data.frame(Actual_Prices = y_train, Predicted_Prices = y_train_pred)\n",
    "\n",
    "test_plot_data <- data.frame(Actual_Prices = y_test, Predicted_Prices = y_test_pred)\n",
    "\n",
    "train_plot <- ggplot(train_plot_data, aes(x = Actual_Prices, y = Predicted_Prices)) +\n",
    "              geom_point(alpha = 0.6,color='blue') +\n",
    "              geom_abline(intercept = 0, slope = 1, linetype = \"dashed\", color = \"red\") +\n",
    "              labs(title = \"Training: Actual vs. Predicted Prices\", x = \"Actual Prices\", y = \"Predicted Prices\")\n",
    "\n",
    "test_plot <- ggplot(test_plot_data, aes(x = Actual_Prices, y = Predicted_Prices)) +\n",
    "             geom_point(alpha = 0.6,color='blue') +\n",
    "             geom_abline(intercept = 0, slope = 1, linetype = \"dashed\", color = \"red\") +\n",
    "             labs(title = \"Test: Actual vs. Predicted Prices\", x = \"Actual Prices\", y = \"Predicted Prices\")\n",
    "\n",
    "multiplot <- grid.arrange(train_plot, test_plot, nrow = 1)\n",
    "print(multiplot)\n"
   ]
  },
  {
   "cell_type": "code",
   "execution_count": null,
   "id": "35f853df",
   "metadata": {},
   "outputs": [],
   "source": []
  }
 ],
 "metadata": {
  "kernelspec": {
   "display_name": "R",
   "language": "R",
   "name": "ir"
  },
  "language_info": {
   "codemirror_mode": "r",
   "file_extension": ".r",
   "mimetype": "text/x-r-source",
   "name": "R",
   "pygments_lexer": "r",
   "version": "4.3.2"
  }
 },
 "nbformat": 4,
 "nbformat_minor": 5
}
