{
 "cells": [
  {
   "cell_type": "code",
   "execution_count": 1,
   "id": "4c398f21",
   "metadata": {},
   "outputs": [],
   "source": [
    "# importing the preprocessed file RandomForest_R file\n",
    "# Done the preprocessing using R\n",
    "sales_df <-read.csv(\"R_preprocessed_kc_house_data.csv\")"
   ]
  },
  {
   "cell_type": "code",
   "execution_count": 2,
   "id": "19fb581c",
   "metadata": {},
   "outputs": [
    {
     "data": {
      "text/html": [
       "<table class=\"dataframe\">\n",
       "<caption>A data.frame: 6 × 19</caption>\n",
       "<thead>\n",
       "\t<tr><th></th><th scope=col>price</th><th scope=col>bedrooms</th><th scope=col>bathrooms</th><th scope=col>sqft_living</th><th scope=col>sqft_lot</th><th scope=col>floors</th><th scope=col>waterfront</th><th scope=col>view</th><th scope=col>condition</th><th scope=col>grade</th><th scope=col>sqft_above</th><th scope=col>sqft_basement</th><th scope=col>yr_built</th><th scope=col>yr_renovated</th><th scope=col>sqft_living15</th><th scope=col>sqft_lot15</th><th scope=col>year</th><th scope=col>month</th><th scope=col>day</th></tr>\n",
       "\t<tr><th></th><th scope=col>&lt;dbl&gt;</th><th scope=col>&lt;int&gt;</th><th scope=col>&lt;dbl&gt;</th><th scope=col>&lt;int&gt;</th><th scope=col>&lt;int&gt;</th><th scope=col>&lt;dbl&gt;</th><th scope=col>&lt;int&gt;</th><th scope=col>&lt;int&gt;</th><th scope=col>&lt;int&gt;</th><th scope=col>&lt;int&gt;</th><th scope=col>&lt;int&gt;</th><th scope=col>&lt;int&gt;</th><th scope=col>&lt;int&gt;</th><th scope=col>&lt;int&gt;</th><th scope=col>&lt;int&gt;</th><th scope=col>&lt;int&gt;</th><th scope=col>&lt;int&gt;</th><th scope=col>&lt;int&gt;</th><th scope=col>&lt;int&gt;</th></tr>\n",
       "</thead>\n",
       "<tbody>\n",
       "\t<tr><th scope=row>1</th><td>221900</td><td>3</td><td>1.00</td><td>1180</td><td> 5650</td><td>1</td><td>0</td><td>0</td><td>3</td><td>7</td><td>1180</td><td>  0</td><td>1955</td><td>   0</td><td>1340</td><td>5650</td><td>2014</td><td>10</td><td>13</td></tr>\n",
       "\t<tr><th scope=row>2</th><td>538000</td><td>3</td><td>2.25</td><td>2570</td><td> 7242</td><td>2</td><td>0</td><td>0</td><td>3</td><td>7</td><td>2170</td><td>400</td><td>1951</td><td>1991</td><td>1690</td><td>7639</td><td>2014</td><td>12</td><td> 9</td></tr>\n",
       "\t<tr><th scope=row>3</th><td>180000</td><td>2</td><td>1.00</td><td> 770</td><td>10000</td><td>1</td><td>0</td><td>0</td><td>3</td><td>6</td><td> 770</td><td>  0</td><td>1933</td><td>   0</td><td>2720</td><td>8062</td><td>2015</td><td> 2</td><td>25</td></tr>\n",
       "\t<tr><th scope=row>4</th><td>604000</td><td>4</td><td>3.00</td><td>1960</td><td> 5000</td><td>1</td><td>0</td><td>0</td><td>5</td><td>7</td><td>1050</td><td>910</td><td>1965</td><td>   0</td><td>1360</td><td>5000</td><td>2014</td><td>12</td><td> 9</td></tr>\n",
       "\t<tr><th scope=row>5</th><td>510000</td><td>3</td><td>2.00</td><td>1680</td><td> 8080</td><td>1</td><td>0</td><td>0</td><td>3</td><td>8</td><td>1680</td><td>  0</td><td>1987</td><td>   0</td><td>1800</td><td>7503</td><td>2015</td><td> 2</td><td>18</td></tr>\n",
       "\t<tr><th scope=row>6</th><td>257500</td><td>3</td><td>2.25</td><td>1715</td><td> 6819</td><td>2</td><td>0</td><td>0</td><td>3</td><td>7</td><td>1715</td><td>  0</td><td>1995</td><td>   0</td><td>2238</td><td>6819</td><td>2014</td><td> 6</td><td>27</td></tr>\n",
       "</tbody>\n",
       "</table>\n"
      ],
      "text/latex": [
       "A data.frame: 6 × 19\n",
       "\\begin{tabular}{r|lllllllllllllllllll}\n",
       "  & price & bedrooms & bathrooms & sqft\\_living & sqft\\_lot & floors & waterfront & view & condition & grade & sqft\\_above & sqft\\_basement & yr\\_built & yr\\_renovated & sqft\\_living15 & sqft\\_lot15 & year & month & day\\\\\n",
       "  & <dbl> & <int> & <dbl> & <int> & <int> & <dbl> & <int> & <int> & <int> & <int> & <int> & <int> & <int> & <int> & <int> & <int> & <int> & <int> & <int>\\\\\n",
       "\\hline\n",
       "\t1 & 221900 & 3 & 1.00 & 1180 &  5650 & 1 & 0 & 0 & 3 & 7 & 1180 &   0 & 1955 &    0 & 1340 & 5650 & 2014 & 10 & 13\\\\\n",
       "\t2 & 538000 & 3 & 2.25 & 2570 &  7242 & 2 & 0 & 0 & 3 & 7 & 2170 & 400 & 1951 & 1991 & 1690 & 7639 & 2014 & 12 &  9\\\\\n",
       "\t3 & 180000 & 2 & 1.00 &  770 & 10000 & 1 & 0 & 0 & 3 & 6 &  770 &   0 & 1933 &    0 & 2720 & 8062 & 2015 &  2 & 25\\\\\n",
       "\t4 & 604000 & 4 & 3.00 & 1960 &  5000 & 1 & 0 & 0 & 5 & 7 & 1050 & 910 & 1965 &    0 & 1360 & 5000 & 2014 & 12 &  9\\\\\n",
       "\t5 & 510000 & 3 & 2.00 & 1680 &  8080 & 1 & 0 & 0 & 3 & 8 & 1680 &   0 & 1987 &    0 & 1800 & 7503 & 2015 &  2 & 18\\\\\n",
       "\t6 & 257500 & 3 & 2.25 & 1715 &  6819 & 2 & 0 & 0 & 3 & 7 & 1715 &   0 & 1995 &    0 & 2238 & 6819 & 2014 &  6 & 27\\\\\n",
       "\\end{tabular}\n"
      ],
      "text/markdown": [
       "\n",
       "A data.frame: 6 × 19\n",
       "\n",
       "| <!--/--> | price &lt;dbl&gt; | bedrooms &lt;int&gt; | bathrooms &lt;dbl&gt; | sqft_living &lt;int&gt; | sqft_lot &lt;int&gt; | floors &lt;dbl&gt; | waterfront &lt;int&gt; | view &lt;int&gt; | condition &lt;int&gt; | grade &lt;int&gt; | sqft_above &lt;int&gt; | sqft_basement &lt;int&gt; | yr_built &lt;int&gt; | yr_renovated &lt;int&gt; | sqft_living15 &lt;int&gt; | sqft_lot15 &lt;int&gt; | year &lt;int&gt; | month &lt;int&gt; | day &lt;int&gt; |\n",
       "|---|---|---|---|---|---|---|---|---|---|---|---|---|---|---|---|---|---|---|---|\n",
       "| 1 | 221900 | 3 | 1.00 | 1180 |  5650 | 1 | 0 | 0 | 3 | 7 | 1180 |   0 | 1955 |    0 | 1340 | 5650 | 2014 | 10 | 13 |\n",
       "| 2 | 538000 | 3 | 2.25 | 2570 |  7242 | 2 | 0 | 0 | 3 | 7 | 2170 | 400 | 1951 | 1991 | 1690 | 7639 | 2014 | 12 |  9 |\n",
       "| 3 | 180000 | 2 | 1.00 |  770 | 10000 | 1 | 0 | 0 | 3 | 6 |  770 |   0 | 1933 |    0 | 2720 | 8062 | 2015 |  2 | 25 |\n",
       "| 4 | 604000 | 4 | 3.00 | 1960 |  5000 | 1 | 0 | 0 | 5 | 7 | 1050 | 910 | 1965 |    0 | 1360 | 5000 | 2014 | 12 |  9 |\n",
       "| 5 | 510000 | 3 | 2.00 | 1680 |  8080 | 1 | 0 | 0 | 3 | 8 | 1680 |   0 | 1987 |    0 | 1800 | 7503 | 2015 |  2 | 18 |\n",
       "| 6 | 257500 | 3 | 2.25 | 1715 |  6819 | 2 | 0 | 0 | 3 | 7 | 1715 |   0 | 1995 |    0 | 2238 | 6819 | 2014 |  6 | 27 |\n",
       "\n"
      ],
      "text/plain": [
       "  price  bedrooms bathrooms sqft_living sqft_lot floors waterfront view\n",
       "1 221900 3        1.00      1180         5650    1      0          0   \n",
       "2 538000 3        2.25      2570         7242    2      0          0   \n",
       "3 180000 2        1.00       770        10000    1      0          0   \n",
       "4 604000 4        3.00      1960         5000    1      0          0   \n",
       "5 510000 3        2.00      1680         8080    1      0          0   \n",
       "6 257500 3        2.25      1715         6819    2      0          0   \n",
       "  condition grade sqft_above sqft_basement yr_built yr_renovated sqft_living15\n",
       "1 3         7     1180         0           1955        0         1340         \n",
       "2 3         7     2170       400           1951     1991         1690         \n",
       "3 3         6      770         0           1933        0         2720         \n",
       "4 5         7     1050       910           1965        0         1360         \n",
       "5 3         8     1680         0           1987        0         1800         \n",
       "6 3         7     1715         0           1995        0         2238         \n",
       "  sqft_lot15 year month day\n",
       "1 5650       2014 10    13 \n",
       "2 7639       2014 12     9 \n",
       "3 8062       2015  2    25 \n",
       "4 5000       2014 12     9 \n",
       "5 7503       2015  2    18 \n",
       "6 6819       2014  6    27 "
      ]
     },
     "metadata": {},
     "output_type": "display_data"
    }
   ],
   "source": [
    "head(sales_df)"
   ]
  },
  {
   "cell_type": "code",
   "execution_count": 3,
   "id": "5ca3133f",
   "metadata": {},
   "outputs": [
    {
     "data": {
      "text/plain": [
       "     price            bedrooms        bathrooms      sqft_living   \n",
       " Min.   :  78000   Min.   : 0.000   Min.   :0.000   Min.   :  370  \n",
       " 1st Qu.: 315000   1st Qu.: 3.000   1st Qu.:1.500   1st Qu.: 1400  \n",
       " Median : 440000   Median : 3.000   Median :2.250   Median : 1850  \n",
       " Mean   : 518169   Mean   : 3.353   Mean   :2.081   Mean   : 2001  \n",
       " 3rd Qu.: 624975   3rd Qu.: 4.000   3rd Qu.:2.500   3rd Qu.: 2440  \n",
       " Max.   :7700000   Max.   :33.000   Max.   :8.000   Max.   :12050  \n",
       "    sqft_lot           floors       waterfront            view       \n",
       " Min.   :    520   Min.   :1.00   Min.   :0.000000   Min.   :0.0000  \n",
       " 1st Qu.:   4949   1st Qu.:1.00   1st Qu.:0.000000   1st Qu.:0.0000  \n",
       " Median :   7210   Median :1.00   Median :0.000000   Median :0.0000  \n",
       " Mean   :   8264   Mean   :1.49   Mean   :0.004635   Mean   :0.2098  \n",
       " 3rd Qu.:   9576   3rd Qu.:2.00   3rd Qu.:0.000000   3rd Qu.:0.0000  \n",
       " Max.   :1164794   Max.   :3.50   Max.   :1.000000   Max.   :4.0000  \n",
       "   condition         grade          sqft_above   sqft_basement   \n",
       " Min.   :1.000   Min.   : 3.000   Min.   : 370   Min.   :   0.0  \n",
       " 1st Qu.:3.000   1st Qu.: 7.000   1st Qu.:1170   1st Qu.:   0.0  \n",
       " Median :3.000   Median : 7.000   Median :1510   Median :   0.0  \n",
       " Mean   :3.409   Mean   : 7.575   Mean   :1713   Mean   : 287.6  \n",
       " 3rd Qu.:4.000   3rd Qu.: 8.000   3rd Qu.:2100   3rd Qu.: 560.0  \n",
       " Max.   :5.000   Max.   :13.000   Max.   :8570   Max.   :4820.0  \n",
       "    yr_built     yr_renovated     sqft_living15    sqft_lot15         year     \n",
       " Min.   :1900   Min.   :   0.00   Min.   : 620   Min.   :  651   Min.   :2014  \n",
       " 1st Qu.:1950   1st Qu.:   0.00   1st Qu.:1460   1st Qu.: 5000   1st Qu.:2014  \n",
       " Median :1972   Median :   0.00   Median :1780   Median : 7264   Median :2014  \n",
       " Mean   :1970   Mean   :  79.67   Mean   :1920   Mean   : 7252   Mean   :2014  \n",
       " 3rd Qu.:1998   3rd Qu.:   0.00   3rd Qu.:2260   3rd Qu.: 9127   3rd Qu.:2015  \n",
       " Max.   :2015   Max.   :2015.00   Max.   :5790   Max.   :17550   Max.   :2015  \n",
       "     month            day       \n",
       " Min.   : 1.00   Min.   : 1.00  \n",
       " 1st Qu.: 4.00   1st Qu.: 8.00  \n",
       " Median : 6.00   Median :16.00  \n",
       " Mean   : 6.57   Mean   :15.71  \n",
       " 3rd Qu.: 9.00   3rd Qu.:23.00  \n",
       " Max.   :12.00   Max.   :31.00  "
      ]
     },
     "metadata": {},
     "output_type": "display_data"
    }
   ],
   "source": [
    "summary(sales_df)"
   ]
  },
  {
   "cell_type": "code",
   "execution_count": 4,
   "id": "686c205d",
   "metadata": {},
   "outputs": [],
   "source": [
    "X <- sales_df[, !names(sales_df) %in% \"price\"]\n",
    "y <- sales_df$price\n"
   ]
  },
  {
   "cell_type": "code",
   "execution_count": 5,
   "id": "ba9360d0",
   "metadata": {},
   "outputs": [
    {
     "name": "stderr",
     "output_type": "stream",
     "text": [
      "Warning message:\n",
      "\"package 'caret' was built under R version 4.3.3\"\n",
      "Loading required package: ggplot2\n",
      "\n",
      "Warning message:\n",
      "\"package 'ggplot2' was built under R version 4.3.3\"\n",
      "Loading required package: lattice\n",
      "\n"
     ]
    }
   ],
   "source": [
    "\n",
    "library(caret)\n",
    "library(data.table)\n",
    "\n",
    "set.seed(42)\n",
    "split <- createDataPartition(y, p = 0.7, list = FALSE)\n",
    "X_train <- X[split, ]\n",
    "X_test <- X[-split, ]\n",
    "y_train <- y[split]\n",
    "y_test <- y[-split]\n",
    "\n",
    "# Scale the features\n",
    "preProcValues <- preProcess(X_train, method = c(\"center\", \"scale\"))\n",
    "X_train_scaled <- predict(preProcValues, X_train)\n",
    "X_test_scaled <- predict(preProcValues, X_test)\n"
   ]
  },
  {
   "cell_type": "code",
   "execution_count": 6,
   "id": "8700dcb1",
   "metadata": {},
   "outputs": [
    {
     "data": {
      "text/plain": [
       "\n",
       "Call:\n",
       "lm(formula = y_train ~ ., data = as.data.frame(X_train_scaled))\n",
       "\n",
       "Residuals:\n",
       "     Min       1Q   Median       3Q      Max \n",
       "-1002456  -101920    -9750    85048  2876639 \n",
       "\n",
       "Coefficients: (1 not defined because of singularities)\n",
       "              Estimate Std. Error t value Pr(>|t|)    \n",
       "(Intercept)     518208       1641 315.822  < 2e-16 ***\n",
       "bedrooms        -31044       2171 -14.299  < 2e-16 ***\n",
       "bathrooms        27461       2992   9.180  < 2e-16 ***\n",
       "sqft_living     128349       4601  27.897  < 2e-16 ***\n",
       "sqft_lot         -1948       1816  -1.073  0.28327    \n",
       "floors           10792       2579   4.185 2.87e-05 ***\n",
       "waterfront       39596       1760  22.501  < 2e-16 ***\n",
       "view             26752       1917  13.953  < 2e-16 ***\n",
       "condition        13729       1832   7.492 7.19e-14 ***\n",
       "grade           141336       2825  50.024  < 2e-16 ***\n",
       "sqft_above       -8691       4092  -2.124  0.03368 *  \n",
       "sqft_basement       NA         NA      NA       NA    \n",
       "yr_built       -103962       2368 -43.911  < 2e-16 ***\n",
       "yr_renovated      5108       1757   2.907  0.00366 ** \n",
       "sqft_living15    23889       2780   8.592  < 2e-16 ***\n",
       "sqft_lot15      -20320       2159  -9.413  < 2e-16 ***\n",
       "year             13351       2654   5.031 4.93e-07 ***\n",
       "month             2854       2653   1.076  0.28203    \n",
       "day              -4006       1651  -2.426  0.01527 *  \n",
       "---\n",
       "Signif. codes:  0 '***' 0.001 '**' 0.01 '*' 0.05 '.' 0.1 ' ' 1\n",
       "\n",
       "Residual standard error: 191300 on 13577 degrees of freedom\n",
       "Multiple R-squared:  0.6535,\tAdjusted R-squared:  0.653 \n",
       "F-statistic:  1506 on 17 and 13577 DF,  p-value: < 2.2e-16\n"
      ]
     },
     "metadata": {},
     "output_type": "display_data"
    }
   ],
   "source": [
    "# Initializing Regression model\n",
    "lr_model <- lm(y_train ~ ., data = as.data.frame(X_train_scaled))\n",
    "\n",
    "summary(lr_model)\n"
   ]
  },
  {
   "cell_type": "code",
   "execution_count": 7,
   "id": "f60ed96b",
   "metadata": {},
   "outputs": [
    {
     "name": "stdout",
     "output_type": "stream",
     "text": [
      "[1] \"Linear Regression Mean Squared Error: 37324291215.536\"\n",
      "[1] \"Linear Regression R-squared: 0.662151320236697\"\n"
     ]
    }
   ],
   "source": [
    "\n",
    "y_pred_lr <- predict(lr_model, newdata = as.data.frame(X_test_scaled))\n",
    "\n",
    "mse_lr <- mean((y_test - y_pred_lr)^2)\n",
    "r_squared_lr <- 1 - sum((y_test - y_pred_lr)^2) / sum((y_test - mean(y_test))^2)\n",
    "\n",
    "print(paste(\"Linear Regression Mean Squared Error:\", mse_lr))\n",
    "print(paste(\"Linear Regression R-squared:\", r_squared_lr))\n"
   ]
  },
  {
   "cell_type": "code",
   "execution_count": 8,
   "id": "5d16987d",
   "metadata": {},
   "outputs": [
    {
     "name": "stderr",
     "output_type": "stream",
     "text": [
      "Warning message:\n",
      "\"package 'Metrics' was built under R version 4.3.3\"\n",
      "\n",
      "Attaching package: 'Metrics'\n",
      "\n",
      "\n",
      "The following objects are masked from 'package:caret':\n",
      "\n",
      "    precision, recall\n",
      "\n",
      "\n"
     ]
    },
    {
     "name": "stdout",
     "output_type": "stream",
     "text": [
      "[1] \"Root Mean Squared Error (RMSE): 193194.956496116\"\n",
      "[1] \"Mean Absolute Error (MAE): 127305.174436902\"\n"
     ]
    }
   ],
   "source": [
    "library(Metrics)\n",
    "\n",
    "#  RMSE\n",
    "rmse_lr<- sqrt(mse_lr)\n",
    "#  MAE\n",
    "mae_lr<- mae(y_test,y_pred_lr)\n",
    "\n",
    "print(paste(\"Root Mean Squared Error (RMSE):\", rmse_lr))\n",
    "print(paste(\"Mean Absolute Error (MAE):\", mae_lr))"
   ]
  },
  {
   "cell_type": "code",
   "execution_count": 9,
   "id": "e9a82004",
   "metadata": {},
   "outputs": [
    {
     "data": {
      "image/png": "[encoded data removed]",
      "text/plain": [
       "plot without title"
      ]
     },
     "metadata": {
      "image/png": {
       "height": 420,
       "width": 420
      }
     },
     "output_type": "display_data"
    }
   ],
   "source": [
    "plot_data <- data.frame(Actual_Prices = y_test, Predicted_Prices = y_pred_lr)\n",
    "\n",
    "scatter_plot <- ggplot(plot_data, aes(x = Actual_Prices, y = Predicted_Prices)) +\n",
    "                geom_point(alpha = 0.6,color='blue') +\n",
    "                geom_abline(intercept = 0, slope = 1, linetype = \"dashed\", color = \"red\") +\n",
    "                labs(x = \"Actual Prices\", y = \"Predicted Prices\", title = \"Actual vs. Predicted House Prices - Multiple Linear Regression\")\n",
    "print(scatter_plot)\n"
   ]
  },
  {
   "cell_type": "code",
   "execution_count": 10,
   "id": "2f9ea31f",
   "metadata": {},
   "outputs": [],
   "source": [
    "y_train_pred_lr <- predict(lr_model, newdata = as.data.frame(X_train_scaled))\n",
    "\n",
    "y_test_pred_lr <- predict(lr_model, newdata = as.data.frame(X_test_scaled))\n"
   ]
  },
  {
   "cell_type": "code",
   "execution_count": 11,
   "id": "55bab245",
   "metadata": {},
   "outputs": [
    {
     "name": "stderr",
     "output_type": "stream",
     "text": [
      "Warning message:\n",
      "\"package 'gridExtra' was built under R version 4.3.3\"\n"
     ]
    },
    {
     "name": "stdout",
     "output_type": "stream",
     "text": [
      "TableGrob (1 x 2) \"arrange\": 2 grobs\n",
      "  z     cells    name           grob\n",
      "1 1 (1-1,1-1) arrange gtable[layout]\n",
      "2 2 (1-1,2-2) arrange gtable[layout]\n"
     ]
    },
    {
     "data": {
      "image/png": "[encoded data removed]",
      "text/plain": [
       "plot without title"
      ]
     },
     "metadata": {
      "image/png": {
       "height": 420,
       "width": 420
      }
     },
     "output_type": "display_data"
    }
   ],
   "source": [
    "library(ggplot2)\n",
    "library(gridExtra)\n",
    "\n",
    "train_plot_data_lr <- data.frame(Actual_Prices = y_train, Predicted_Prices = y_train_pred_lr)\n",
    "test_plot_data_lr <- data.frame(Actual_Prices = y_test, Predicted_Prices = y_test_pred_lr)\n",
    "\n",
    "train_plot_lr <- ggplot(train_plot_data_lr, aes(x = Actual_Prices, y = Predicted_Prices)) +\n",
    "                 geom_point(alpha = 0.6,color='blue') +\n",
    "                 geom_abline(intercept = 0, slope = 1, linetype = \"dashed\", color = \"red\") +\n",
    "                 labs(title = \"Training: Actual vs. Predicted Prices (Multiple Linear Regression)\", \n",
    "                      x = \"Actual Prices\", y = \"Predicted Prices\")\n",
    "\n",
    "test_plot_lr <- ggplot(test_plot_data_lr, aes(x = Actual_Prices, y = Predicted_Prices)) +\n",
    "                geom_point(alpha = 0.6,color='blue') +\n",
    "                geom_abline(intercept = 0, slope = 1, linetype = \"dashed\", color = \"red\") +\n",
    "                labs(title = \"Test: Actual vs. Predicted Prices (Multiple Linear Regression)\", \n",
    "                     x = \"Actual Prices\", y = \"Predicted Prices\")\n",
    "\n",
    "\n",
    "multiplot_lr <- grid.arrange(train_plot_lr, test_plot_lr, nrow = 1)\n",
    "print(multiplot_lr)\n"
   ]
  },
  {
   "cell_type": "code",
   "execution_count": null,
   "id": "8fc0bab9",
   "metadata": {},
   "outputs": [],
   "source": []
  }
 ],
 "metadata": {
  "kernelspec": {
   "display_name": "R",
   "language": "R",
   "name": "ir"
  },
  "language_info": {
   "codemirror_mode": "r",
   "file_extension": ".r",
   "mimetype": "text/x-r-source",
   "name": "R",
   "pygments_lexer": "r",
   "version": "4.3.2"
  }
 },
 "nbformat": 4,
 "nbformat_minor": 5
}
